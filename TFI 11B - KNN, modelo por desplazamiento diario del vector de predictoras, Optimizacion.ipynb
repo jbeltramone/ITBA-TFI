{
 "cells": [
  {
   "cell_type": "markdown",
   "id": "9b62f658",
   "metadata": {},
   "source": [
    "# Central Hidroeléctrica Yacyretá\n",
    "## 11B - KNNRegressor, modelo por desplazamiento diario del vector de predictoras, Optimizacion Bayesiana\n",
    "### Fecha: 01-Febrero-22"
   ]
  },
  {
   "cell_type": "code",
   "execution_count": 39,
   "id": "fbced33e",
   "metadata": {},
   "outputs": [],
   "source": [
    "# Para que funcione más rápidamente el intellisense\n",
    "#%config Completer.use_jedi = False"
   ]
  },
  {
   "cell_type": "code",
   "execution_count": 40,
   "id": "f681d71a",
   "metadata": {},
   "outputs": [],
   "source": [
    "#Cargo numpy y pandas para trabajar con dataframes\n",
    "import pandas as pd\n",
    "import numpy as np\n",
    "\n",
    "# Cargo datetime para funciones de tiempo\n",
    "from datetime import date, timedelta, datetime\n",
    "\n",
    "import matplotlib.pyplot as plt\n",
    "plt.rcParams['figure.figsize'] = (16, 6)"
   ]
  },
  {
   "cell_type": "code",
   "execution_count": 41,
   "id": "fb29801a",
   "metadata": {},
   "outputs": [
    {
     "data": {
      "text/html": [
       "        <script type=\"text/javascript\">\n",
       "        window.PlotlyConfig = {MathJaxConfig: 'local'};\n",
       "        if (window.MathJax) {MathJax.Hub.Config({SVG: {font: \"STIX-Web\"}});}\n",
       "        if (typeof require !== 'undefined') {\n",
       "        require.undef(\"plotly\");\n",
       "        requirejs.config({\n",
       "            paths: {\n",
       "                'plotly': ['https://cdn.plot.ly/plotly-2.6.3.min']\n",
       "            }\n",
       "        });\n",
       "        require(['plotly'], function(Plotly) {\n",
       "            window._Plotly = Plotly;\n",
       "        });\n",
       "        }\n",
       "        </script>\n",
       "        "
      ]
     },
     "metadata": {},
     "output_type": "display_data"
    },
    {
     "data": {
      "text/html": [
       "        <script type=\"text/javascript\">\n",
       "        window.PlotlyConfig = {MathJaxConfig: 'local'};\n",
       "        if (window.MathJax) {MathJax.Hub.Config({SVG: {font: \"STIX-Web\"}});}\n",
       "        if (typeof require !== 'undefined') {\n",
       "        require.undef(\"plotly\");\n",
       "        requirejs.config({\n",
       "            paths: {\n",
       "                'plotly': ['https://cdn.plot.ly/plotly-2.6.3.min']\n",
       "            }\n",
       "        });\n",
       "        require(['plotly'], function(Plotly) {\n",
       "            window._Plotly = Plotly;\n",
       "        });\n",
       "        }\n",
       "        </script>\n",
       "        "
      ]
     },
     "metadata": {},
     "output_type": "display_data"
    }
   ],
   "source": [
    "# Imports necesarios para que funcione iplot() como método de pandas\n",
    "%matplotlib inline\n",
    "import plotly.graph_objs as go\n",
    "from  plotly.offline import plot\n",
    "import chart_studio.plotly as py\n",
    "import cufflinks as cf\n",
    "cf.go_offline()\n",
    "from plotly.offline import download_plotlyjs, init_notebook_mode, plot,iplot\n",
    "init_notebook_mode(connected='true')"
   ]
  },
  {
   "cell_type": "code",
   "execution_count": 42,
   "id": "a164bc43",
   "metadata": {},
   "outputs": [],
   "source": [
    "# Planto una semilla para repetitibilidad\n",
    "import random\n",
    "random.seed(170162)\n",
    "np.random.seed(170162)"
   ]
  },
  {
   "cell_type": "code",
   "execution_count": 43,
   "id": "116b2c40",
   "metadata": {},
   "outputs": [],
   "source": [
    "import pprint"
   ]
  },
  {
   "cell_type": "code",
   "execution_count": 44,
   "id": "45d5fe59",
   "metadata": {},
   "outputs": [],
   "source": [
    "from sktime.utils.plotting import plot_series    "
   ]
  },
  {
   "cell_type": "markdown",
   "id": "bacf7233",
   "metadata": {},
   "source": [
    "### Importo los regresores"
   ]
  },
  {
   "cell_type": "code",
   "execution_count": 45,
   "id": "6c008d20",
   "metadata": {},
   "outputs": [],
   "source": [
    "from sklearn.ensemble import RandomForestRegressor\n",
    "from xgboost import XGBRegressor\n",
    "from sklearn.neighbors import KNeighborsRegressor\n",
    "from sklearn.linear_model import LinearRegression\n",
    "from sklearn.svm import SVR\n",
    "from lightgbm import LGBMRegressor\n",
    "from sklearn.neural_network import MLPRegressor\n",
    "from sklearn.linear_model import Lasso, Ridge  "
   ]
  },
  {
   "cell_type": "markdown",
   "id": "9729dcdf",
   "metadata": {},
   "source": [
    "### Carpeta para los archivos '.csv' y gráficos que se generen"
   ]
  },
  {
   "cell_type": "markdown",
   "id": "a68867a4",
   "metadata": {},
   "source": [
    "#### Nombre del Experimento"
   ]
  },
  {
   "cell_type": "code",
   "execution_count": 46,
   "id": "6247e14d",
   "metadata": {},
   "outputs": [],
   "source": [
    "experimento = 'TFI 11 - LGBGRegressor, modelo por desplazamiento, optimizacion'"
   ]
  },
  {
   "cell_type": "code",
   "execution_count": 47,
   "id": "b98d7f33",
   "metadata": {},
   "outputs": [
    {
     "name": "stdout",
     "output_type": "stream",
     "text": [
      "\n",
      "Path/carpeta de gráficos y de archivos creada: ./output/TFI 11 - LGBGRegressor, modelo por desplazamiento, optimizacion/2022-06-17_11-43/\n"
     ]
    }
   ],
   "source": [
    "ahora = str(datetime.now()).replace(':', '-').replace(' ', '_')[:16]\n",
    "path_grabacion = './output/' + experimento + '/'+ ahora + '/'\n",
    "# Verifico que la carpeta exista y si no, la creo\n",
    "import os\n",
    "if not os.path.exists(path_grabacion):\n",
    "    os.makedirs(path_grabacion)\n",
    "    print('\\nPath/carpeta de gráficos y de archivos creada:', path_grabacion)"
   ]
  },
  {
   "cell_type": "markdown",
   "id": "dab8ce9e",
   "metadata": {},
   "source": [
    "### Lectura del Dataset de la central hidroeléctrica Yacyretá"
   ]
  },
  {
   "cell_type": "code",
   "execution_count": 48,
   "id": "1c0f0f3d",
   "metadata": {},
   "outputs": [],
   "source": [
    "# Especifico el nombre del archivo con el dataset unificado de la CHY y el path\n",
    "path = './datasets/CHY/output/'\n",
    "file_name = 'CHY_dataset.csv'"
   ]
  },
  {
   "cell_type": "code",
   "execution_count": 49,
   "id": "aa8ad7bf",
   "metadata": {},
   "outputs": [],
   "source": [
    "# Leo el dataset creado en el notebook anterior\n",
    "df = pd.read_csv(path + file_name)"
   ]
  },
  {
   "cell_type": "code",
   "execution_count": 50,
   "id": "907cf0b2",
   "metadata": {},
   "outputs": [
    {
     "data": {
      "text/html": [
       "<div>\n",
       "<style scoped>\n",
       "    .dataframe tbody tr th:only-of-type {\n",
       "        vertical-align: middle;\n",
       "    }\n",
       "\n",
       "    .dataframe tbody tr th {\n",
       "        vertical-align: top;\n",
       "    }\n",
       "\n",
       "    .dataframe thead th {\n",
       "        text-align: right;\n",
       "    }\n",
       "</style>\n",
       "<table border=\"1\" class=\"dataframe\">\n",
       "  <thead>\n",
       "    <tr style=\"text-align: right;\">\n",
       "      <th></th>\n",
       "      <th>FECHA</th>\n",
       "      <th>COTA_EMBALSE</th>\n",
       "      <th>COTA_RESTITUCION</th>\n",
       "      <th>SALTO</th>\n",
       "      <th>QAFLR</th>\n",
       "      <th>QVBP</th>\n",
       "      <th>QVBAC</th>\n",
       "      <th>QTURB</th>\n",
       "      <th>SINP</th>\n",
       "      <th>SADI</th>\n",
       "    </tr>\n",
       "  </thead>\n",
       "  <tbody>\n",
       "    <tr>\n",
       "      <th>0</th>\n",
       "      <td>2011-01-01</td>\n",
       "      <td>82.04</td>\n",
       "      <td>60.17</td>\n",
       "      <td>21.87</td>\n",
       "      <td>13936.0</td>\n",
       "      <td>0.0</td>\n",
       "      <td>1045.0</td>\n",
       "      <td>11977.0</td>\n",
       "      <td>5391.00</td>\n",
       "      <td>49384.000</td>\n",
       "    </tr>\n",
       "    <tr>\n",
       "      <th>1</th>\n",
       "      <td>2011-01-02</td>\n",
       "      <td>82.06</td>\n",
       "      <td>60.17</td>\n",
       "      <td>21.89</td>\n",
       "      <td>13267.0</td>\n",
       "      <td>0.0</td>\n",
       "      <td>1045.0</td>\n",
       "      <td>11863.0</td>\n",
       "      <td>5631.60</td>\n",
       "      <td>48785.000</td>\n",
       "    </tr>\n",
       "    <tr>\n",
       "      <th>2</th>\n",
       "      <td>2011-01-03</td>\n",
       "      <td>82.07</td>\n",
       "      <td>60.12</td>\n",
       "      <td>21.95</td>\n",
       "      <td>12670.0</td>\n",
       "      <td>0.0</td>\n",
       "      <td>1045.0</td>\n",
       "      <td>11439.0</td>\n",
       "      <td>6871.60</td>\n",
       "      <td>46573.000</td>\n",
       "    </tr>\n",
       "    <tr>\n",
       "      <th>3</th>\n",
       "      <td>2011-01-04</td>\n",
       "      <td>82.08</td>\n",
       "      <td>60.12</td>\n",
       "      <td>21.96</td>\n",
       "      <td>12909.0</td>\n",
       "      <td>0.0</td>\n",
       "      <td>1045.0</td>\n",
       "      <td>11505.0</td>\n",
       "      <td>7460.80</td>\n",
       "      <td>46046.000</td>\n",
       "    </tr>\n",
       "    <tr>\n",
       "      <th>4</th>\n",
       "      <td>2011-01-05</td>\n",
       "      <td>82.13</td>\n",
       "      <td>60.08</td>\n",
       "      <td>22.05</td>\n",
       "      <td>13787.0</td>\n",
       "      <td>0.0</td>\n",
       "      <td>1047.0</td>\n",
       "      <td>11455.0</td>\n",
       "      <td>6555.00</td>\n",
       "      <td>46721.000</td>\n",
       "    </tr>\n",
       "    <tr>\n",
       "      <th>...</th>\n",
       "      <td>...</td>\n",
       "      <td>...</td>\n",
       "      <td>...</td>\n",
       "      <td>...</td>\n",
       "      <td>...</td>\n",
       "      <td>...</td>\n",
       "      <td>...</td>\n",
       "      <td>...</td>\n",
       "      <td>...</td>\n",
       "      <td>...</td>\n",
       "    </tr>\n",
       "    <tr>\n",
       "      <th>3828</th>\n",
       "      <td>2021-06-26</td>\n",
       "      <td>82.78</td>\n",
       "      <td>58.94</td>\n",
       "      <td>23.84</td>\n",
       "      <td>6545.0</td>\n",
       "      <td>0.0</td>\n",
       "      <td>1017.0</td>\n",
       "      <td>5157.0</td>\n",
       "      <td>4388.60</td>\n",
       "      <td>21594.112</td>\n",
       "    </tr>\n",
       "    <tr>\n",
       "      <th>3829</th>\n",
       "      <td>2021-06-27</td>\n",
       "      <td>82.78</td>\n",
       "      <td>58.94</td>\n",
       "      <td>23.84</td>\n",
       "      <td>6337.0</td>\n",
       "      <td>0.0</td>\n",
       "      <td>1017.0</td>\n",
       "      <td>5135.0</td>\n",
       "      <td>4188.42</td>\n",
       "      <td>21658.536</td>\n",
       "    </tr>\n",
       "    <tr>\n",
       "      <th>3830</th>\n",
       "      <td>2021-06-28</td>\n",
       "      <td>82.79</td>\n",
       "      <td>58.93</td>\n",
       "      <td>23.86</td>\n",
       "      <td>6138.0</td>\n",
       "      <td>0.0</td>\n",
       "      <td>1017.0</td>\n",
       "      <td>5121.0</td>\n",
       "      <td>5165.92</td>\n",
       "      <td>20606.040</td>\n",
       "    </tr>\n",
       "    <tr>\n",
       "      <th>3831</th>\n",
       "      <td>2021-06-29</td>\n",
       "      <td>82.79</td>\n",
       "      <td>58.93</td>\n",
       "      <td>23.86</td>\n",
       "      <td>6133.0</td>\n",
       "      <td>0.0</td>\n",
       "      <td>1017.0</td>\n",
       "      <td>5116.0</td>\n",
       "      <td>5427.90</td>\n",
       "      <td>20416.960</td>\n",
       "    </tr>\n",
       "    <tr>\n",
       "      <th>3832</th>\n",
       "      <td>2021-06-30</td>\n",
       "      <td>82.82</td>\n",
       "      <td>58.93</td>\n",
       "      <td>23.89</td>\n",
       "      <td>6151.0</td>\n",
       "      <td>0.0</td>\n",
       "      <td>1017.0</td>\n",
       "      <td>5134.0</td>\n",
       "      <td>5466.60</td>\n",
       "      <td>20409.920</td>\n",
       "    </tr>\n",
       "  </tbody>\n",
       "</table>\n",
       "<p>3833 rows × 10 columns</p>\n",
       "</div>"
      ],
      "text/plain": [
       "           FECHA  COTA_EMBALSE  COTA_RESTITUCION  SALTO    QAFLR  QVBP  \\\n",
       "0     2011-01-01         82.04             60.17  21.87  13936.0   0.0   \n",
       "1     2011-01-02         82.06             60.17  21.89  13267.0   0.0   \n",
       "2     2011-01-03         82.07             60.12  21.95  12670.0   0.0   \n",
       "3     2011-01-04         82.08             60.12  21.96  12909.0   0.0   \n",
       "4     2011-01-05         82.13             60.08  22.05  13787.0   0.0   \n",
       "...          ...           ...               ...    ...      ...   ...   \n",
       "3828  2021-06-26         82.78             58.94  23.84   6545.0   0.0   \n",
       "3829  2021-06-27         82.78             58.94  23.84   6337.0   0.0   \n",
       "3830  2021-06-28         82.79             58.93  23.86   6138.0   0.0   \n",
       "3831  2021-06-29         82.79             58.93  23.86   6133.0   0.0   \n",
       "3832  2021-06-30         82.82             58.93  23.89   6151.0   0.0   \n",
       "\n",
       "       QVBAC    QTURB     SINP       SADI  \n",
       "0     1045.0  11977.0  5391.00  49384.000  \n",
       "1     1045.0  11863.0  5631.60  48785.000  \n",
       "2     1045.0  11439.0  6871.60  46573.000  \n",
       "3     1045.0  11505.0  7460.80  46046.000  \n",
       "4     1047.0  11455.0  6555.00  46721.000  \n",
       "...      ...      ...      ...        ...  \n",
       "3828  1017.0   5157.0  4388.60  21594.112  \n",
       "3829  1017.0   5135.0  4188.42  21658.536  \n",
       "3830  1017.0   5121.0  5165.92  20606.040  \n",
       "3831  1017.0   5116.0  5427.90  20416.960  \n",
       "3832  1017.0   5134.0  5466.60  20409.920  \n",
       "\n",
       "[3833 rows x 10 columns]"
      ]
     },
     "execution_count": 50,
     "metadata": {},
     "output_type": "execute_result"
    }
   ],
   "source": [
    "# veo cabeza y cola del df\n",
    "df"
   ]
  },
  {
   "cell_type": "code",
   "execution_count": 51,
   "id": "2bb88b4b",
   "metadata": {},
   "outputs": [],
   "source": [
    "# Convierto la columna FECHA de object a datetime64\n",
    "df['FECHA'] = pd.to_datetime(df['FECHA'])"
   ]
  },
  {
   "cell_type": "code",
   "execution_count": 52,
   "id": "3e489ed4",
   "metadata": {},
   "outputs": [],
   "source": [
    "# Hago que la columna FECHA sea el índice\n",
    "df.set_index('FECHA', inplace=True)"
   ]
  },
  {
   "cell_type": "code",
   "execution_count": 53,
   "id": "2a06143c",
   "metadata": {},
   "outputs": [],
   "source": [
    "# Si fuera necesario imputar NAN\n",
    "df = df.asfreq('D', method='ffill')"
   ]
  },
  {
   "cell_type": "markdown",
   "id": "40697325",
   "metadata": {},
   "source": [
    "### Cargo las métricas de evaluación de desempeño"
   ]
  },
  {
   "cell_type": "code",
   "execution_count": 54,
   "id": "95bc2f21",
   "metadata": {},
   "outputs": [],
   "source": [
    "from sktime.performance_metrics.forecasting import MeanAbsoluteError, MeanSquaredError, MeanAbsoluteScaledError\n",
    "\n",
    "mae = MeanAbsoluteError()\n",
    "mse = MeanSquaredError()\n",
    "rmse = MeanSquaredError(square_root=True)\n",
    "mase = MeanAbsoluteScaledError()"
   ]
  },
  {
   "cell_type": "markdown",
   "id": "8d5737d9",
   "metadata": {},
   "source": [
    "##### Genero lags (hasta 99)"
   ]
  },
  {
   "cell_type": "code",
   "execution_count": 55,
   "id": "03e8cb1d",
   "metadata": {},
   "outputs": [],
   "source": [
    "lags = 40\n",
    "for i in range(1, lags+1):\n",
    "    df['SALTO-' + str(i).zfill(2)] = df['SALTO'].shift(periods=i)\n",
    "        \n",
    "# Borro los registros que quedaron con un NAN al desplazarse\n",
    "df.dropna(how='any', inplace=True)"
   ]
  },
  {
   "cell_type": "markdown",
   "id": "fc287587",
   "metadata": {},
   "source": [
    "### Me quedo con las features (SALTO-) como features, X"
   ]
  },
  {
   "cell_type": "code",
   "execution_count": 56,
   "id": "3c1153d7",
   "metadata": {},
   "outputs": [],
   "source": [
    "# Me quedo con las columnas que comienzan con 'SALTO-'\n",
    "features = [col for col in df.columns if col[:6] == 'SALTO-']\n",
    "X = df[features]"
   ]
  },
  {
   "cell_type": "markdown",
   "id": "8a24975f",
   "metadata": {},
   "source": [
    "### Tomo la columna SALTO como target, y"
   ]
  },
  {
   "cell_type": "code",
   "execution_count": 57,
   "id": "e3a26a48",
   "metadata": {},
   "outputs": [],
   "source": [
    "y = df['SALTO']"
   ]
  },
  {
   "cell_type": "markdown",
   "id": "525efc98",
   "metadata": {},
   "source": [
    "#### Conjunto de horizontes de pronóstico"
   ]
  },
  {
   "cell_type": "code",
   "execution_count": 58,
   "id": "38324335",
   "metadata": {},
   "outputs": [],
   "source": [
    "# # horizontes de predicción a explorar\n",
    "# fh_s = [14]\n",
    "# #fh_s = [56, 28, 14, 7]"
   ]
  },
  {
   "cell_type": "markdown",
   "id": "8a5fc71a",
   "metadata": {},
   "source": [
    "#### Conjunto con los números de lags a utilizar"
   ]
  },
  {
   "cell_type": "code",
   "execution_count": 59,
   "id": "55fbd004",
   "metadata": {},
   "outputs": [],
   "source": [
    "# #lags_s = [10, 20, 40, 80, 160]\n",
    "# lags_s = [160]"
   ]
  },
  {
   "cell_type": "markdown",
   "id": "3e96d8c2",
   "metadata": {},
   "source": [
    "#### Conjunto de regresores a utilizar"
   ]
  },
  {
   "cell_type": "code",
   "execution_count": 60,
   "id": "7fd4f446",
   "metadata": {},
   "outputs": [],
   "source": [
    "# # Lista con los regresores\n",
    "# regresores = [ \n",
    "# #     KNeighborsRegressor()\n",
    "# #     ,Lasso()\n",
    "#     LGBMRegressor(objective='regression', linear_tree=True)\n",
    "# #     ,LinearRegression()\n",
    "# #     ,MLPRegressor(max_iter=600, random_state=170162)\n",
    "# #     ,RandomForestRegressor(criterion='absolute_error', random_state=170162) \n",
    "# #     ,Ridge()\n",
    "# #     ,SVR(gamma='auto', kernel='rbf') \n",
    "# #     ,XGBRegressor()\n",
    "#     ]"
   ]
  },
  {
   "cell_type": "markdown",
   "id": "fece8d86",
   "metadata": {},
   "source": [
    "### Lazo principal de cálculo"
   ]
  },
  {
   "cell_type": "code",
   "execution_count": 61,
   "id": "9441a43e",
   "metadata": {
    "scrolled": false
   },
   "outputs": [],
   "source": [
    "# # Lista para las metricas\n",
    "# metricas = []\n",
    "\n",
    "# # Dataframe para los pronósticos\n",
    "# y_preds = pd.DataFrame()\n",
    "\n",
    "# # Lazo de cálculo\n",
    "\n",
    "# # Lazo de los horizontes de predicción\n",
    "# for fh in fh_s:\n",
    "    \n",
    "#     # Extraigo las últimas fh filas del dataframe X\n",
    "#     y_train = y.iloc[:-fh]\n",
    "\n",
    "#     # Conjunto de target de testeo \n",
    "#     y_test = y.iloc[-fh:]\n",
    "    \n",
    "#     y_preds[str(fh) + '_' + 'y_test'] = y_test\n",
    "\n",
    "#     # Lazo de los conjuntos de lags\n",
    "#     for lags in lags_s:\n",
    "\n",
    "#         # Selecciono lag features para X_train\n",
    "#         X_train = X.iloc[:-fh, 0:lags]\n",
    "\n",
    "#         # Lazo de los regresores\n",
    "#         for regresor in regresores:\n",
    "\n",
    "#             # Ajusto el modelo\n",
    "#             regresor.fit(X_train, y_train)\n",
    "\n",
    "#             # Tomo la última fila\n",
    "#             X_pred = X_train.iloc[-1:,]\n",
    "\n",
    "#             # Creo el vector, tomando Copio el último valor de y_test\n",
    "#             y_pred = y_train.iloc[-1:]\n",
    "\n",
    "#             for i in range(0, fh):\n",
    "\n",
    "#                 # Desplazo la serie X_pred hacia la derecha (SALTO-1 -> SALTO-2, SALTO-2 -> SALTO-3, etc.)\n",
    "#                 X_pred = X_pred.shift(periods=1, axis=1)\n",
    "\n",
    "#                 # Relleno el elemento de X_test que se hizo NaN por el desplazamiento\n",
    "#                 X_pred['SALTO-01'] = y_pred.iloc[-1:]\n",
    "\n",
    "#                 # Incremento el index de X_test\n",
    "#                 X_pred.index = X_pred.index.shift(periods=1, freq='D')\n",
    "\n",
    "#                 # Predigo con los valores de X_test, convirtiendo el array resultante a serie\n",
    "#                 y_pred[X_pred.iloc[-1:,].index[0]] = regresor.predict(X_pred)[0]   \n",
    "\n",
    "#             # Quito el primer valor que introduje para la creación de y_pred (y_train.iloc[-1:])\n",
    "#             y_pred = y_pred.iloc[1:]\n",
    "\n",
    "#             # Agrego la predicción al df de predicciones\n",
    "#             y_preds[str(fh)+'_' + str(lags) + '_' + type(regresor).__name__] = y_pred\n",
    "\n",
    "#             # Calculo metricas\n",
    "#             MAE = mae(y_test, y_pred) \n",
    "#             MSE = mse(y_test, y_pred)\n",
    "#             RMSE = rmse(y_true=y_test, y_pred=y_pred) \n",
    "#             MASE = mase(y_true=y_test, y_pred=y_pred, y_train=y_train)\n",
    "\n",
    "#             metricas.append({'fh': fh\n",
    "#                              ,'lags':lags\n",
    "#                              ,'regresor': type(regresor).__name__\n",
    "#                              ,'MAE': MAE\n",
    "#                              ,'MSE': MSE\n",
    "#                              ,'RMSE': RMSE\n",
    "#                              ,'MASE': MASE\n",
    "#                             })\n",
    "\n",
    "#             # Ploteo los resultados del regresor/lags\n",
    "#             titulo = 'Algoritmo: ' + type(regresor).__name__  + ',  features: ' + str(lags) + ',  fh:'+ str(fh) + ', MAE: ' + f'{MAE:0.4f}' + ', RMSE: ' + f'{RMSE:0.4f}'\n",
    "#             fig, ax = plot_series(y_train[-fh:], y_test, y_pred, labels=[\"SALTO_train\", \"SALTO_test\", \"SALTO_pred\"], \n",
    "#                                   x_label='Fecha', y_label='metros')\n",
    "#             plt.figure(figsize=(16, 4))\n",
    "#             ax.set_title(titulo)\n",
    "#             ax.tick_params(axis='x', labelrotation = 0)\n",
    "#             plt.show()\n",
    "\n",
    "# #         # Ploteo las predicciones de todos los regresores\n",
    "# #         y_preds.iplot(kind='line'\n",
    "# #                   ,title='Pronósticos a '+ str(fh) + 'días y con ' + str(lags) + ' variables' \n",
    "# #                   ,yTitle='metros'\n",
    "# #                   ,xTitle='Fecha'\n",
    "# #                   ,dimensions=(950, 700)\n",
    "# #                   ,theme='pearl'\n",
    "# #                   )\n"
   ]
  },
  {
   "cell_type": "markdown",
   "id": "68b56c64",
   "metadata": {},
   "source": [
    "### Pronosticador por desplazamiento"
   ]
  },
  {
   "cell_type": "code",
   "execution_count": 62,
   "id": "6ad2c77b",
   "metadata": {},
   "outputs": [],
   "source": [
    "def Pronosticador(regresor=KNeighborsRegressor() \\\n",
    "                      ,parametros = {} \\\n",
    "                      ,X=pd.DataFrame() \\\n",
    "                      ,y=pd.Series(dtype='float64') \\\n",
    "                      ,fh=int(0) \\\n",
    "                      ,lags=int(0) \\\n",
    "                      ,plot=False\n",
    "                     ):\n",
    "    \n",
    "    # Selecciono las primeras [0:-fh] filas y [0:lags] columnas del dataframe 'X'como conjunto de training \n",
    "    X_train = X.iloc[:-fh, 0:lags]\n",
    "    \n",
    "    # Selecciono las primeras '0:-fh' filas de la serie 'y' como conjunto de training\n",
    "    y_train = y.iloc[:-fh]\n",
    "\n",
    "    # Selecciono las últimas 'fh' filas de la serie 'y' como conjunto de testeo \n",
    "    y_test = y.iloc[-fh:]\n",
    "    \n",
    "    # Cargo los parámetros\n",
    "    if parametros:\n",
    "        regresor.set_params(**parametros)\n",
    "    \n",
    "    # Ajusto el modelo con los conjuntos de training\n",
    "    regresor.fit(X_train, y_train)\n",
    "\n",
    "    # Como X_pred inicial, tomo la última fila de X_train, aunque la voy a desplazar luego\n",
    "    X_pred = X_train.iloc[-1:,]\n",
    "\n",
    "    # Como primer elemento de la serie y_pred tomo el último valor de y_train, aunque despues lo quito\n",
    "    y_pred = y_train.iloc[-1:]\n",
    "\n",
    "    # Lazo de predicción diario\n",
    "    for i in range(0, fh):\n",
    "\n",
    "        # Desplazo la serie X_pred hacia la derecha (SALTO-1 -> SALTO-2, SALTO-2 -> SALTO-3, etc.)\n",
    "        X_pred = X_pred.shift(periods=1, axis=1)\n",
    "\n",
    "        # Relleno el elemento de X_test que se hizo NaN por el desplazamiento\n",
    "        X_pred['SALTO-01'] = y_pred.iloc[-1:]\n",
    "\n",
    "        # Incremento el index de X_test, para preddecir el día siguiente\n",
    "        X_pred.index = X_pred.index.shift(periods=1, freq='D')\n",
    "\n",
    "        # Predigo con los valores de X_pred, convirtiendo el array resultante a serie\n",
    "        y_pred[X_pred.iloc[-1:,].index[0]] = regresor.predict(X_pred)[0]   \n",
    "\n",
    "    # Quito el primer valor que introduje para la creación de y_pred (y_train.iloc[-1:])\n",
    "    y_pred = y_pred.iloc[1:]\n",
    "\n",
    "    # Calculo metricas\n",
    "    MAE = mae(y_test, y_pred) \n",
    "    MSE = mse(y_test, y_pred)\n",
    "    RMSE = rmse(y_true=y_test, y_pred=y_pred) \n",
    "    MASE = mase(y_true=y_test, y_pred=y_pred, y_train=y_train)\n",
    "    \n",
    "    # Ploteo los resultados del regresor/lags\n",
    "    if plot:\n",
    "        pd.concat([y.iloc[-2*fh:], y_pred.rename('SALTO_pred')], axis=1) \\\n",
    "            .iplot(mode='lines+markers'\n",
    "                   ,size=5.0\n",
    "                   ,title='Modelo por desplazamiento: ' + type(regresor).__name__ \\\n",
    "                           + ', ' + str(lags) + ' lags' \\\n",
    "                           + ', pronóstico a ' + str(fh) + ' dias'\n",
    "                           + ', MAE: ' + str(round(MAE, 4))\n",
    "                   ,yTitle='metros'\n",
    "                   ,xTitle='Fecha'\n",
    "                   ,dimensions=(950, 350))\n",
    "\n",
    "    return {'regresor': type(regresor).__name__\n",
    "            ,'paramteros': regresor.get_params()\n",
    "#             ,'features': regresor.feature_name_\n",
    "#             ,'feature_importances': regresor.feature_importances_\n",
    "            ,'lags': lags\n",
    "            ,'fh': fh\n",
    "            ,'y_pred': y_pred\n",
    "            ,'MAE': MAE\n",
    "            ,'MSE': MSE\n",
    "            ,'RMSE': RMSE\n",
    "            ,'MASE': MASE\n",
    "            }"
   ]
  },
  {
   "cell_type": "markdown",
   "id": "2805b05f",
   "metadata": {},
   "source": [
    "### Valores del modelo a optimizar"
   ]
  },
  {
   "cell_type": "code",
   "execution_count": 63,
   "id": "e2c16ba9",
   "metadata": {},
   "outputs": [],
   "source": [
    "fh = 56\n",
    "lags = 20\n",
    "regresor = KNeighborsRegressor()"
   ]
  },
  {
   "cell_type": "markdown",
   "id": "cd80b10d",
   "metadata": {},
   "source": [
    "### Pronóstico sin optimización"
   ]
  },
  {
   "cell_type": "code",
   "execution_count": 64,
   "id": "7595a399",
   "metadata": {},
   "outputs": [
    {
     "data": {
      "application/vnd.plotly.v1+json": {
       "config": {
        "linkText": "Export to plot.ly",
        "plotlyServerURL": "https://plot.ly",
        "showLink": true
       },
       "data": [
        {
         "line": {
          "color": "rgba(255, 153, 51, 1.0)",
          "dash": "solid",
          "shape": "linear",
          "width": 1.3
         },
         "marker": {
          "size": 5,
          "symbol": "circle"
         },
         "mode": "lines+markers",
         "name": "SALTO",
         "text": "",
         "type": "scatter",
         "x": [
          "2021-03-11",
          "2021-03-12",
          "2021-03-13",
          "2021-03-14",
          "2021-03-15",
          "2021-03-16",
          "2021-03-17",
          "2021-03-18",
          "2021-03-19",
          "2021-03-20",
          "2021-03-21",
          "2021-03-22",
          "2021-03-23",
          "2021-03-24",
          "2021-03-25",
          "2021-03-26",
          "2021-03-27",
          "2021-03-28",
          "2021-03-29",
          "2021-03-30",
          "2021-03-31",
          "2021-04-01",
          "2021-04-02",
          "2021-04-03",
          "2021-04-04",
          "2021-04-05",
          "2021-04-06",
          "2021-04-07",
          "2021-04-08",
          "2021-04-09",
          "2021-04-10",
          "2021-04-11",
          "2021-04-12",
          "2021-04-13",
          "2021-04-14",
          "2021-04-15",
          "2021-04-16",
          "2021-04-17",
          "2021-04-18",
          "2021-04-19",
          "2021-04-20",
          "2021-04-21",
          "2021-04-22",
          "2021-04-23",
          "2021-04-24",
          "2021-04-25",
          "2021-04-26",
          "2021-04-27",
          "2021-04-28",
          "2021-04-29",
          "2021-04-30",
          "2021-05-01",
          "2021-05-02",
          "2021-05-03",
          "2021-05-04",
          "2021-05-05",
          "2021-05-06",
          "2021-05-07",
          "2021-05-08",
          "2021-05-09",
          "2021-05-10",
          "2021-05-11",
          "2021-05-12",
          "2021-05-13",
          "2021-05-14",
          "2021-05-15",
          "2021-05-16",
          "2021-05-17",
          "2021-05-18",
          "2021-05-19",
          "2021-05-20",
          "2021-05-21",
          "2021-05-22",
          "2021-05-23",
          "2021-05-24",
          "2021-05-25",
          "2021-05-26",
          "2021-05-27",
          "2021-05-28",
          "2021-05-29",
          "2021-05-30",
          "2021-05-31",
          "2021-06-01",
          "2021-06-02",
          "2021-06-03",
          "2021-06-04",
          "2021-06-05",
          "2021-06-06",
          "2021-06-07",
          "2021-06-08",
          "2021-06-09",
          "2021-06-10",
          "2021-06-11",
          "2021-06-12",
          "2021-06-13",
          "2021-06-14",
          "2021-06-15",
          "2021-06-16",
          "2021-06-17",
          "2021-06-18",
          "2021-06-19",
          "2021-06-20",
          "2021-06-21",
          "2021-06-22",
          "2021-06-23",
          "2021-06-24",
          "2021-06-25",
          "2021-06-26",
          "2021-06-27",
          "2021-06-28",
          "2021-06-29",
          "2021-06-30"
         ],
         "y": [
          23.300000000000004,
          23.34,
          23.39,
          23.410000000000004,
          23.29,
          23.169999999999995,
          23.17,
          23.160000000000004,
          23.17,
          23.21,
          23.300000000000004,
          23.28,
          23.2,
          23.24,
          23.25,
          23.28,
          23.39,
          23.47,
          23.239999999999995,
          23.169999999999995,
          23.09,
          23.3,
          23.53000000000001,
          23.660000000000004,
          23.639999999999997,
          23.61,
          23.61,
          23.599999999999994,
          23.599999999999994,
          23.59,
          23.630000000000003,
          23.620000000000005,
          23.669999999999995,
          23.68,
          23.72000000000001,
          23.77,
          23.800000000000004,
          23.82,
          23.85,
          23.840000000000003,
          23.85000000000001,
          23.77000000000001,
          23.75,
          23.72000000000001,
          23.68,
          23.760000000000005,
          23.64,
          23.67,
          23.629999999999995,
          23.65,
          23.73,
          23.770000000000003,
          23.770000000000003,
          23.789999999999992,
          23.76,
          23.78000000000001,
          23.760000000000005,
          23.78,
          23.78,
          23.8,
          23.72000000000001,
          23.7,
          23.680000000000007,
          23.67,
          23.66,
          23.71999999999999,
          23.72000000000001,
          23.70000000000001,
          23.72,
          23.73,
          23.750000000000007,
          23.760000000000005,
          23.72000000000001,
          23.73,
          23.8,
          23.78,
          23.52000000000001,
          23.090000000000003,
          23.010000000000005,
          23.270000000000003,
          23.570000000000007,
          23.749999999999996,
          23.90000000000001,
          23.88000000000001,
          23.89,
          23.90000000000001,
          23.86,
          23.889999999999997,
          23.8,
          23.750000000000007,
          23.739999999999995,
          23.7,
          23.660000000000004,
          23.74,
          23.770000000000003,
          23.75,
          23.730000000000004,
          23.74,
          23.709999999999997,
          23.709999999999997,
          23.77,
          23.79,
          23.790000000000006,
          23.8,
          23.849999999999994,
          23.84,
          23.85,
          23.840000000000003,
          23.840000000000003,
          23.860000000000007,
          23.860000000000007,
          23.889999999999997
         ]
        },
        {
         "line": {
          "color": "rgba(55, 128, 191, 1.0)",
          "dash": "solid",
          "shape": "linear",
          "width": 1.3
         },
         "marker": {
          "size": 5,
          "symbol": "circle"
         },
         "mode": "lines+markers",
         "name": "SALTO_pred",
         "text": "",
         "type": "scatter",
         "x": [
          "2021-03-11",
          "2021-03-12",
          "2021-03-13",
          "2021-03-14",
          "2021-03-15",
          "2021-03-16",
          "2021-03-17",
          "2021-03-18",
          "2021-03-19",
          "2021-03-20",
          "2021-03-21",
          "2021-03-22",
          "2021-03-23",
          "2021-03-24",
          "2021-03-25",
          "2021-03-26",
          "2021-03-27",
          "2021-03-28",
          "2021-03-29",
          "2021-03-30",
          "2021-03-31",
          "2021-04-01",
          "2021-04-02",
          "2021-04-03",
          "2021-04-04",
          "2021-04-05",
          "2021-04-06",
          "2021-04-07",
          "2021-04-08",
          "2021-04-09",
          "2021-04-10",
          "2021-04-11",
          "2021-04-12",
          "2021-04-13",
          "2021-04-14",
          "2021-04-15",
          "2021-04-16",
          "2021-04-17",
          "2021-04-18",
          "2021-04-19",
          "2021-04-20",
          "2021-04-21",
          "2021-04-22",
          "2021-04-23",
          "2021-04-24",
          "2021-04-25",
          "2021-04-26",
          "2021-04-27",
          "2021-04-28",
          "2021-04-29",
          "2021-04-30",
          "2021-05-01",
          "2021-05-02",
          "2021-05-03",
          "2021-05-04",
          "2021-05-05",
          "2021-05-06",
          "2021-05-07",
          "2021-05-08",
          "2021-05-09",
          "2021-05-10",
          "2021-05-11",
          "2021-05-12",
          "2021-05-13",
          "2021-05-14",
          "2021-05-15",
          "2021-05-16",
          "2021-05-17",
          "2021-05-18",
          "2021-05-19",
          "2021-05-20",
          "2021-05-21",
          "2021-05-22",
          "2021-05-23",
          "2021-05-24",
          "2021-05-25",
          "2021-05-26",
          "2021-05-27",
          "2021-05-28",
          "2021-05-29",
          "2021-05-30",
          "2021-05-31",
          "2021-06-01",
          "2021-06-02",
          "2021-06-03",
          "2021-06-04",
          "2021-06-05",
          "2021-06-06",
          "2021-06-07",
          "2021-06-08",
          "2021-06-09",
          "2021-06-10",
          "2021-06-11",
          "2021-06-12",
          "2021-06-13",
          "2021-06-14",
          "2021-06-15",
          "2021-06-16",
          "2021-06-17",
          "2021-06-18",
          "2021-06-19",
          "2021-06-20",
          "2021-06-21",
          "2021-06-22",
          "2021-06-23",
          "2021-06-24",
          "2021-06-25",
          "2021-06-26",
          "2021-06-27",
          "2021-06-28",
          "2021-06-29",
          "2021-06-30"
         ],
         "y": [
          "",
          "",
          "",
          "",
          "",
          "",
          "",
          "",
          "",
          "",
          "",
          "",
          "",
          "",
          "",
          "",
          "",
          "",
          "",
          "",
          "",
          "",
          "",
          "",
          "",
          "",
          "",
          "",
          "",
          "",
          "",
          "",
          "",
          "",
          "",
          "",
          "",
          "",
          "",
          "",
          "",
          "",
          "",
          "",
          "",
          "",
          "",
          "",
          "",
          "",
          "",
          "",
          "",
          "",
          "",
          "",
          23.774,
          23.774,
          23.764000000000003,
          23.746000000000002,
          23.716,
          23.694000000000003,
          23.694000000000006,
          23.669999999999998,
          23.663999999999998,
          23.689999999999998,
          23.71,
          23.742,
          23.764000000000003,
          23.774,
          23.774000000000008,
          23.774,
          23.774,
          23.774,
          23.764000000000003,
          23.746000000000002,
          23.740000000000002,
          23.716,
          23.694000000000006,
          23.676,
          23.663999999999998,
          23.689999999999998,
          23.71,
          23.71,
          23.742,
          23.764000000000003,
          23.774,
          23.774,
          23.774,
          23.774,
          23.764000000000003,
          23.764000000000003,
          23.746000000000002,
          23.716,
          23.694000000000003,
          23.676,
          23.67,
          23.663999999999998,
          23.69,
          23.71,
          23.742,
          23.764000000000003,
          23.774,
          23.774000000000008,
          23.774,
          23.774,
          23.774,
          23.764000000000003,
          23.746000000000002,
          23.740000000000002,
          23.694000000000003,
          23.694000000000006
         ]
        }
       ],
       "layout": {
        "height": 350,
        "legend": {
         "bgcolor": "#F5F6F9",
         "font": {
          "color": "#4D5663"
         }
        },
        "paper_bgcolor": "#F5F6F9",
        "plot_bgcolor": "#F5F6F9",
        "template": {
         "data": {
          "bar": [
           {
            "error_x": {
             "color": "#2a3f5f"
            },
            "error_y": {
             "color": "#2a3f5f"
            },
            "marker": {
             "line": {
              "color": "#E5ECF6",
              "width": 0.5
             },
             "pattern": {
              "fillmode": "overlay",
              "size": 10,
              "solidity": 0.2
             }
            },
            "type": "bar"
           }
          ],
          "barpolar": [
           {
            "marker": {
             "line": {
              "color": "#E5ECF6",
              "width": 0.5
             },
             "pattern": {
              "fillmode": "overlay",
              "size": 10,
              "solidity": 0.2
             }
            },
            "type": "barpolar"
           }
          ],
          "carpet": [
           {
            "aaxis": {
             "endlinecolor": "#2a3f5f",
             "gridcolor": "white",
             "linecolor": "white",
             "minorgridcolor": "white",
             "startlinecolor": "#2a3f5f"
            },
            "baxis": {
             "endlinecolor": "#2a3f5f",
             "gridcolor": "white",
             "linecolor": "white",
             "minorgridcolor": "white",
             "startlinecolor": "#2a3f5f"
            },
            "type": "carpet"
           }
          ],
          "choropleth": [
           {
            "colorbar": {
             "outlinewidth": 0,
             "ticks": ""
            },
            "type": "choropleth"
           }
          ],
          "contour": [
           {
            "colorbar": {
             "outlinewidth": 0,
             "ticks": ""
            },
            "colorscale": [
             [
              0,
              "#0d0887"
             ],
             [
              0.1111111111111111,
              "#46039f"
             ],
             [
              0.2222222222222222,
              "#7201a8"
             ],
             [
              0.3333333333333333,
              "#9c179e"
             ],
             [
              0.4444444444444444,
              "#bd3786"
             ],
             [
              0.5555555555555556,
              "#d8576b"
             ],
             [
              0.6666666666666666,
              "#ed7953"
             ],
             [
              0.7777777777777778,
              "#fb9f3a"
             ],
             [
              0.8888888888888888,
              "#fdca26"
             ],
             [
              1,
              "#f0f921"
             ]
            ],
            "type": "contour"
           }
          ],
          "contourcarpet": [
           {
            "colorbar": {
             "outlinewidth": 0,
             "ticks": ""
            },
            "type": "contourcarpet"
           }
          ],
          "heatmap": [
           {
            "colorbar": {
             "outlinewidth": 0,
             "ticks": ""
            },
            "colorscale": [
             [
              0,
              "#0d0887"
             ],
             [
              0.1111111111111111,
              "#46039f"
             ],
             [
              0.2222222222222222,
              "#7201a8"
             ],
             [
              0.3333333333333333,
              "#9c179e"
             ],
             [
              0.4444444444444444,
              "#bd3786"
             ],
             [
              0.5555555555555556,
              "#d8576b"
             ],
             [
              0.6666666666666666,
              "#ed7953"
             ],
             [
              0.7777777777777778,
              "#fb9f3a"
             ],
             [
              0.8888888888888888,
              "#fdca26"
             ],
             [
              1,
              "#f0f921"
             ]
            ],
            "type": "heatmap"
           }
          ],
          "heatmapgl": [
           {
            "colorbar": {
             "outlinewidth": 0,
             "ticks": ""
            },
            "colorscale": [
             [
              0,
              "#0d0887"
             ],
             [
              0.1111111111111111,
              "#46039f"
             ],
             [
              0.2222222222222222,
              "#7201a8"
             ],
             [
              0.3333333333333333,
              "#9c179e"
             ],
             [
              0.4444444444444444,
              "#bd3786"
             ],
             [
              0.5555555555555556,
              "#d8576b"
             ],
             [
              0.6666666666666666,
              "#ed7953"
             ],
             [
              0.7777777777777778,
              "#fb9f3a"
             ],
             [
              0.8888888888888888,
              "#fdca26"
             ],
             [
              1,
              "#f0f921"
             ]
            ],
            "type": "heatmapgl"
           }
          ],
          "histogram": [
           {
            "marker": {
             "pattern": {
              "fillmode": "overlay",
              "size": 10,
              "solidity": 0.2
             }
            },
            "type": "histogram"
           }
          ],
          "histogram2d": [
           {
            "colorbar": {
             "outlinewidth": 0,
             "ticks": ""
            },
            "colorscale": [
             [
              0,
              "#0d0887"
             ],
             [
              0.1111111111111111,
              "#46039f"
             ],
             [
              0.2222222222222222,
              "#7201a8"
             ],
             [
              0.3333333333333333,
              "#9c179e"
             ],
             [
              0.4444444444444444,
              "#bd3786"
             ],
             [
              0.5555555555555556,
              "#d8576b"
             ],
             [
              0.6666666666666666,
              "#ed7953"
             ],
             [
              0.7777777777777778,
              "#fb9f3a"
             ],
             [
              0.8888888888888888,
              "#fdca26"
             ],
             [
              1,
              "#f0f921"
             ]
            ],
            "type": "histogram2d"
           }
          ],
          "histogram2dcontour": [
           {
            "colorbar": {
             "outlinewidth": 0,
             "ticks": ""
            },
            "colorscale": [
             [
              0,
              "#0d0887"
             ],
             [
              0.1111111111111111,
              "#46039f"
             ],
             [
              0.2222222222222222,
              "#7201a8"
             ],
             [
              0.3333333333333333,
              "#9c179e"
             ],
             [
              0.4444444444444444,
              "#bd3786"
             ],
             [
              0.5555555555555556,
              "#d8576b"
             ],
             [
              0.6666666666666666,
              "#ed7953"
             ],
             [
              0.7777777777777778,
              "#fb9f3a"
             ],
             [
              0.8888888888888888,
              "#fdca26"
             ],
             [
              1,
              "#f0f921"
             ]
            ],
            "type": "histogram2dcontour"
           }
          ],
          "mesh3d": [
           {
            "colorbar": {
             "outlinewidth": 0,
             "ticks": ""
            },
            "type": "mesh3d"
           }
          ],
          "parcoords": [
           {
            "line": {
             "colorbar": {
              "outlinewidth": 0,
              "ticks": ""
             }
            },
            "type": "parcoords"
           }
          ],
          "pie": [
           {
            "automargin": true,
            "type": "pie"
           }
          ],
          "scatter": [
           {
            "marker": {
             "colorbar": {
              "outlinewidth": 0,
              "ticks": ""
             }
            },
            "type": "scatter"
           }
          ],
          "scatter3d": [
           {
            "line": {
             "colorbar": {
              "outlinewidth": 0,
              "ticks": ""
             }
            },
            "marker": {
             "colorbar": {
              "outlinewidth": 0,
              "ticks": ""
             }
            },
            "type": "scatter3d"
           }
          ],
          "scattercarpet": [
           {
            "marker": {
             "colorbar": {
              "outlinewidth": 0,
              "ticks": ""
             }
            },
            "type": "scattercarpet"
           }
          ],
          "scattergeo": [
           {
            "marker": {
             "colorbar": {
              "outlinewidth": 0,
              "ticks": ""
             }
            },
            "type": "scattergeo"
           }
          ],
          "scattergl": [
           {
            "marker": {
             "colorbar": {
              "outlinewidth": 0,
              "ticks": ""
             }
            },
            "type": "scattergl"
           }
          ],
          "scattermapbox": [
           {
            "marker": {
             "colorbar": {
              "outlinewidth": 0,
              "ticks": ""
             }
            },
            "type": "scattermapbox"
           }
          ],
          "scatterpolar": [
           {
            "marker": {
             "colorbar": {
              "outlinewidth": 0,
              "ticks": ""
             }
            },
            "type": "scatterpolar"
           }
          ],
          "scatterpolargl": [
           {
            "marker": {
             "colorbar": {
              "outlinewidth": 0,
              "ticks": ""
             }
            },
            "type": "scatterpolargl"
           }
          ],
          "scatterternary": [
           {
            "marker": {
             "colorbar": {
              "outlinewidth": 0,
              "ticks": ""
             }
            },
            "type": "scatterternary"
           }
          ],
          "surface": [
           {
            "colorbar": {
             "outlinewidth": 0,
             "ticks": ""
            },
            "colorscale": [
             [
              0,
              "#0d0887"
             ],
             [
              0.1111111111111111,
              "#46039f"
             ],
             [
              0.2222222222222222,
              "#7201a8"
             ],
             [
              0.3333333333333333,
              "#9c179e"
             ],
             [
              0.4444444444444444,
              "#bd3786"
             ],
             [
              0.5555555555555556,
              "#d8576b"
             ],
             [
              0.6666666666666666,
              "#ed7953"
             ],
             [
              0.7777777777777778,
              "#fb9f3a"
             ],
             [
              0.8888888888888888,
              "#fdca26"
             ],
             [
              1,
              "#f0f921"
             ]
            ],
            "type": "surface"
           }
          ],
          "table": [
           {
            "cells": {
             "fill": {
              "color": "#EBF0F8"
             },
             "line": {
              "color": "white"
             }
            },
            "header": {
             "fill": {
              "color": "#C8D4E3"
             },
             "line": {
              "color": "white"
             }
            },
            "type": "table"
           }
          ]
         },
         "layout": {
          "annotationdefaults": {
           "arrowcolor": "#2a3f5f",
           "arrowhead": 0,
           "arrowwidth": 1
          },
          "autotypenumbers": "strict",
          "coloraxis": {
           "colorbar": {
            "outlinewidth": 0,
            "ticks": ""
           }
          },
          "colorscale": {
           "diverging": [
            [
             0,
             "#8e0152"
            ],
            [
             0.1,
             "#c51b7d"
            ],
            [
             0.2,
             "#de77ae"
            ],
            [
             0.3,
             "#f1b6da"
            ],
            [
             0.4,
             "#fde0ef"
            ],
            [
             0.5,
             "#f7f7f7"
            ],
            [
             0.6,
             "#e6f5d0"
            ],
            [
             0.7,
             "#b8e186"
            ],
            [
             0.8,
             "#7fbc41"
            ],
            [
             0.9,
             "#4d9221"
            ],
            [
             1,
             "#276419"
            ]
           ],
           "sequential": [
            [
             0,
             "#0d0887"
            ],
            [
             0.1111111111111111,
             "#46039f"
            ],
            [
             0.2222222222222222,
             "#7201a8"
            ],
            [
             0.3333333333333333,
             "#9c179e"
            ],
            [
             0.4444444444444444,
             "#bd3786"
            ],
            [
             0.5555555555555556,
             "#d8576b"
            ],
            [
             0.6666666666666666,
             "#ed7953"
            ],
            [
             0.7777777777777778,
             "#fb9f3a"
            ],
            [
             0.8888888888888888,
             "#fdca26"
            ],
            [
             1,
             "#f0f921"
            ]
           ],
           "sequentialminus": [
            [
             0,
             "#0d0887"
            ],
            [
             0.1111111111111111,
             "#46039f"
            ],
            [
             0.2222222222222222,
             "#7201a8"
            ],
            [
             0.3333333333333333,
             "#9c179e"
            ],
            [
             0.4444444444444444,
             "#bd3786"
            ],
            [
             0.5555555555555556,
             "#d8576b"
            ],
            [
             0.6666666666666666,
             "#ed7953"
            ],
            [
             0.7777777777777778,
             "#fb9f3a"
            ],
            [
             0.8888888888888888,
             "#fdca26"
            ],
            [
             1,
             "#f0f921"
            ]
           ]
          },
          "colorway": [
           "#636efa",
           "#EF553B",
           "#00cc96",
           "#ab63fa",
           "#FFA15A",
           "#19d3f3",
           "#FF6692",
           "#B6E880",
           "#FF97FF",
           "#FECB52"
          ],
          "font": {
           "color": "#2a3f5f"
          },
          "geo": {
           "bgcolor": "white",
           "lakecolor": "white",
           "landcolor": "#E5ECF6",
           "showlakes": true,
           "showland": true,
           "subunitcolor": "white"
          },
          "hoverlabel": {
           "align": "left"
          },
          "hovermode": "closest",
          "mapbox": {
           "style": "light"
          },
          "paper_bgcolor": "white",
          "plot_bgcolor": "#E5ECF6",
          "polar": {
           "angularaxis": {
            "gridcolor": "white",
            "linecolor": "white",
            "ticks": ""
           },
           "bgcolor": "#E5ECF6",
           "radialaxis": {
            "gridcolor": "white",
            "linecolor": "white",
            "ticks": ""
           }
          },
          "scene": {
           "xaxis": {
            "backgroundcolor": "#E5ECF6",
            "gridcolor": "white",
            "gridwidth": 2,
            "linecolor": "white",
            "showbackground": true,
            "ticks": "",
            "zerolinecolor": "white"
           },
           "yaxis": {
            "backgroundcolor": "#E5ECF6",
            "gridcolor": "white",
            "gridwidth": 2,
            "linecolor": "white",
            "showbackground": true,
            "ticks": "",
            "zerolinecolor": "white"
           },
           "zaxis": {
            "backgroundcolor": "#E5ECF6",
            "gridcolor": "white",
            "gridwidth": 2,
            "linecolor": "white",
            "showbackground": true,
            "ticks": "",
            "zerolinecolor": "white"
           }
          },
          "shapedefaults": {
           "line": {
            "color": "#2a3f5f"
           }
          },
          "ternary": {
           "aaxis": {
            "gridcolor": "white",
            "linecolor": "white",
            "ticks": ""
           },
           "baxis": {
            "gridcolor": "white",
            "linecolor": "white",
            "ticks": ""
           },
           "bgcolor": "#E5ECF6",
           "caxis": {
            "gridcolor": "white",
            "linecolor": "white",
            "ticks": ""
           }
          },
          "title": {
           "x": 0.05
          },
          "xaxis": {
           "automargin": true,
           "gridcolor": "white",
           "linecolor": "white",
           "ticks": "",
           "title": {
            "standoff": 15
           },
           "zerolinecolor": "white",
           "zerolinewidth": 2
          },
          "yaxis": {
           "automargin": true,
           "gridcolor": "white",
           "linecolor": "white",
           "ticks": "",
           "title": {
            "standoff": 15
           },
           "zerolinecolor": "white",
           "zerolinewidth": 2
          }
         }
        },
        "title": {
         "font": {
          "color": "#4D5663"
         },
         "text": "Modelo por desplazamiento: KNeighborsRegressor, 20 lags, pronóstico a 56 dias, MAE: 0.0884"
        },
        "width": 950,
        "xaxis": {
         "gridcolor": "#E1E5ED",
         "showgrid": true,
         "tickfont": {
          "color": "#4D5663"
         },
         "title": {
          "font": {
           "color": "#4D5663"
          },
          "text": "Fecha"
         },
         "zerolinecolor": "#E1E5ED"
        },
        "yaxis": {
         "gridcolor": "#E1E5ED",
         "showgrid": true,
         "tickfont": {
          "color": "#4D5663"
         },
         "title": {
          "font": {
           "color": "#4D5663"
          },
          "text": "metros"
         },
         "zerolinecolor": "#E1E5ED"
        }
       }
      },
      "text/html": [
       "<div>                            <div id=\"33c534d3-26cd-43df-8b24-2cebb96de487\" class=\"plotly-graph-div\" style=\"height:350px; width:950px;\"></div>            <script type=\"text/javascript\">                require([\"plotly\"], function(Plotly) {                    window.PLOTLYENV=window.PLOTLYENV || {};\n",
       "                    window.PLOTLYENV.BASE_URL='https://plot.ly';                                    if (document.getElementById(\"33c534d3-26cd-43df-8b24-2cebb96de487\")) {                    Plotly.newPlot(                        \"33c534d3-26cd-43df-8b24-2cebb96de487\",                        [{\"line\":{\"color\":\"rgba(255, 153, 51, 1.0)\",\"dash\":\"solid\",\"shape\":\"linear\",\"width\":1.3},\"marker\":{\"size\":5.0,\"symbol\":\"circle\"},\"mode\":\"lines+markers\",\"name\":\"SALTO\",\"text\":\"\",\"x\":[\"2021-03-11\",\"2021-03-12\",\"2021-03-13\",\"2021-03-14\",\"2021-03-15\",\"2021-03-16\",\"2021-03-17\",\"2021-03-18\",\"2021-03-19\",\"2021-03-20\",\"2021-03-21\",\"2021-03-22\",\"2021-03-23\",\"2021-03-24\",\"2021-03-25\",\"2021-03-26\",\"2021-03-27\",\"2021-03-28\",\"2021-03-29\",\"2021-03-30\",\"2021-03-31\",\"2021-04-01\",\"2021-04-02\",\"2021-04-03\",\"2021-04-04\",\"2021-04-05\",\"2021-04-06\",\"2021-04-07\",\"2021-04-08\",\"2021-04-09\",\"2021-04-10\",\"2021-04-11\",\"2021-04-12\",\"2021-04-13\",\"2021-04-14\",\"2021-04-15\",\"2021-04-16\",\"2021-04-17\",\"2021-04-18\",\"2021-04-19\",\"2021-04-20\",\"2021-04-21\",\"2021-04-22\",\"2021-04-23\",\"2021-04-24\",\"2021-04-25\",\"2021-04-26\",\"2021-04-27\",\"2021-04-28\",\"2021-04-29\",\"2021-04-30\",\"2021-05-01\",\"2021-05-02\",\"2021-05-03\",\"2021-05-04\",\"2021-05-05\",\"2021-05-06\",\"2021-05-07\",\"2021-05-08\",\"2021-05-09\",\"2021-05-10\",\"2021-05-11\",\"2021-05-12\",\"2021-05-13\",\"2021-05-14\",\"2021-05-15\",\"2021-05-16\",\"2021-05-17\",\"2021-05-18\",\"2021-05-19\",\"2021-05-20\",\"2021-05-21\",\"2021-05-22\",\"2021-05-23\",\"2021-05-24\",\"2021-05-25\",\"2021-05-26\",\"2021-05-27\",\"2021-05-28\",\"2021-05-29\",\"2021-05-30\",\"2021-05-31\",\"2021-06-01\",\"2021-06-02\",\"2021-06-03\",\"2021-06-04\",\"2021-06-05\",\"2021-06-06\",\"2021-06-07\",\"2021-06-08\",\"2021-06-09\",\"2021-06-10\",\"2021-06-11\",\"2021-06-12\",\"2021-06-13\",\"2021-06-14\",\"2021-06-15\",\"2021-06-16\",\"2021-06-17\",\"2021-06-18\",\"2021-06-19\",\"2021-06-20\",\"2021-06-21\",\"2021-06-22\",\"2021-06-23\",\"2021-06-24\",\"2021-06-25\",\"2021-06-26\",\"2021-06-27\",\"2021-06-28\",\"2021-06-29\",\"2021-06-30\"],\"y\":[23.300000000000004,23.34,23.39,23.410000000000004,23.29,23.169999999999995,23.17,23.160000000000004,23.17,23.21,23.300000000000004,23.28,23.2,23.24,23.25,23.28,23.39,23.47,23.239999999999995,23.169999999999995,23.09,23.3,23.53000000000001,23.660000000000004,23.639999999999997,23.61,23.61,23.599999999999994,23.599999999999994,23.59,23.630000000000003,23.620000000000005,23.669999999999995,23.68,23.72000000000001,23.77,23.800000000000004,23.82,23.85,23.840000000000003,23.85000000000001,23.77000000000001,23.75,23.72000000000001,23.68,23.760000000000005,23.64,23.67,23.629999999999995,23.65,23.73,23.770000000000003,23.770000000000003,23.789999999999992,23.76,23.78000000000001,23.760000000000005,23.78,23.78,23.8,23.72000000000001,23.7,23.680000000000007,23.67,23.66,23.71999999999999,23.72000000000001,23.70000000000001,23.72,23.73,23.750000000000007,23.760000000000005,23.72000000000001,23.73,23.8,23.78,23.52000000000001,23.090000000000003,23.010000000000005,23.270000000000003,23.570000000000007,23.749999999999996,23.90000000000001,23.88000000000001,23.89,23.90000000000001,23.86,23.889999999999997,23.8,23.750000000000007,23.739999999999995,23.7,23.660000000000004,23.74,23.770000000000003,23.75,23.730000000000004,23.74,23.709999999999997,23.709999999999997,23.77,23.79,23.790000000000006,23.8,23.849999999999994,23.84,23.85,23.840000000000003,23.840000000000003,23.860000000000007,23.860000000000007,23.889999999999997],\"type\":\"scatter\"},{\"line\":{\"color\":\"rgba(55, 128, 191, 1.0)\",\"dash\":\"solid\",\"shape\":\"linear\",\"width\":1.3},\"marker\":{\"size\":5.0,\"symbol\":\"circle\"},\"mode\":\"lines+markers\",\"name\":\"SALTO_pred\",\"text\":\"\",\"x\":[\"2021-03-11\",\"2021-03-12\",\"2021-03-13\",\"2021-03-14\",\"2021-03-15\",\"2021-03-16\",\"2021-03-17\",\"2021-03-18\",\"2021-03-19\",\"2021-03-20\",\"2021-03-21\",\"2021-03-22\",\"2021-03-23\",\"2021-03-24\",\"2021-03-25\",\"2021-03-26\",\"2021-03-27\",\"2021-03-28\",\"2021-03-29\",\"2021-03-30\",\"2021-03-31\",\"2021-04-01\",\"2021-04-02\",\"2021-04-03\",\"2021-04-04\",\"2021-04-05\",\"2021-04-06\",\"2021-04-07\",\"2021-04-08\",\"2021-04-09\",\"2021-04-10\",\"2021-04-11\",\"2021-04-12\",\"2021-04-13\",\"2021-04-14\",\"2021-04-15\",\"2021-04-16\",\"2021-04-17\",\"2021-04-18\",\"2021-04-19\",\"2021-04-20\",\"2021-04-21\",\"2021-04-22\",\"2021-04-23\",\"2021-04-24\",\"2021-04-25\",\"2021-04-26\",\"2021-04-27\",\"2021-04-28\",\"2021-04-29\",\"2021-04-30\",\"2021-05-01\",\"2021-05-02\",\"2021-05-03\",\"2021-05-04\",\"2021-05-05\",\"2021-05-06\",\"2021-05-07\",\"2021-05-08\",\"2021-05-09\",\"2021-05-10\",\"2021-05-11\",\"2021-05-12\",\"2021-05-13\",\"2021-05-14\",\"2021-05-15\",\"2021-05-16\",\"2021-05-17\",\"2021-05-18\",\"2021-05-19\",\"2021-05-20\",\"2021-05-21\",\"2021-05-22\",\"2021-05-23\",\"2021-05-24\",\"2021-05-25\",\"2021-05-26\",\"2021-05-27\",\"2021-05-28\",\"2021-05-29\",\"2021-05-30\",\"2021-05-31\",\"2021-06-01\",\"2021-06-02\",\"2021-06-03\",\"2021-06-04\",\"2021-06-05\",\"2021-06-06\",\"2021-06-07\",\"2021-06-08\",\"2021-06-09\",\"2021-06-10\",\"2021-06-11\",\"2021-06-12\",\"2021-06-13\",\"2021-06-14\",\"2021-06-15\",\"2021-06-16\",\"2021-06-17\",\"2021-06-18\",\"2021-06-19\",\"2021-06-20\",\"2021-06-21\",\"2021-06-22\",\"2021-06-23\",\"2021-06-24\",\"2021-06-25\",\"2021-06-26\",\"2021-06-27\",\"2021-06-28\",\"2021-06-29\",\"2021-06-30\"],\"y\":[\"\",\"\",\"\",\"\",\"\",\"\",\"\",\"\",\"\",\"\",\"\",\"\",\"\",\"\",\"\",\"\",\"\",\"\",\"\",\"\",\"\",\"\",\"\",\"\",\"\",\"\",\"\",\"\",\"\",\"\",\"\",\"\",\"\",\"\",\"\",\"\",\"\",\"\",\"\",\"\",\"\",\"\",\"\",\"\",\"\",\"\",\"\",\"\",\"\",\"\",\"\",\"\",\"\",\"\",\"\",\"\",23.774,23.774,23.764000000000003,23.746000000000002,23.716,23.694000000000003,23.694000000000006,23.669999999999998,23.663999999999998,23.689999999999998,23.71,23.742,23.764000000000003,23.774,23.774000000000008,23.774,23.774,23.774,23.764000000000003,23.746000000000002,23.740000000000002,23.716,23.694000000000006,23.676,23.663999999999998,23.689999999999998,23.71,23.71,23.742,23.764000000000003,23.774,23.774,23.774,23.774,23.764000000000003,23.764000000000003,23.746000000000002,23.716,23.694000000000003,23.676,23.67,23.663999999999998,23.69,23.71,23.742,23.764000000000003,23.774,23.774000000000008,23.774,23.774,23.774,23.764000000000003,23.746000000000002,23.740000000000002,23.694000000000003,23.694000000000006],\"type\":\"scatter\"}],                        {\"height\":350,\"legend\":{\"bgcolor\":\"#F5F6F9\",\"font\":{\"color\":\"#4D5663\"}},\"paper_bgcolor\":\"#F5F6F9\",\"plot_bgcolor\":\"#F5F6F9\",\"template\":{\"data\":{\"barpolar\":[{\"marker\":{\"line\":{\"color\":\"#E5ECF6\",\"width\":0.5},\"pattern\":{\"fillmode\":\"overlay\",\"size\":10,\"solidity\":0.2}},\"type\":\"barpolar\"}],\"bar\":[{\"error_x\":{\"color\":\"#2a3f5f\"},\"error_y\":{\"color\":\"#2a3f5f\"},\"marker\":{\"line\":{\"color\":\"#E5ECF6\",\"width\":0.5},\"pattern\":{\"fillmode\":\"overlay\",\"size\":10,\"solidity\":0.2}},\"type\":\"bar\"}],\"carpet\":[{\"aaxis\":{\"endlinecolor\":\"#2a3f5f\",\"gridcolor\":\"white\",\"linecolor\":\"white\",\"minorgridcolor\":\"white\",\"startlinecolor\":\"#2a3f5f\"},\"baxis\":{\"endlinecolor\":\"#2a3f5f\",\"gridcolor\":\"white\",\"linecolor\":\"white\",\"minorgridcolor\":\"white\",\"startlinecolor\":\"#2a3f5f\"},\"type\":\"carpet\"}],\"choropleth\":[{\"colorbar\":{\"outlinewidth\":0,\"ticks\":\"\"},\"type\":\"choropleth\"}],\"contourcarpet\":[{\"colorbar\":{\"outlinewidth\":0,\"ticks\":\"\"},\"type\":\"contourcarpet\"}],\"contour\":[{\"colorbar\":{\"outlinewidth\":0,\"ticks\":\"\"},\"colorscale\":[[0.0,\"#0d0887\"],[0.1111111111111111,\"#46039f\"],[0.2222222222222222,\"#7201a8\"],[0.3333333333333333,\"#9c179e\"],[0.4444444444444444,\"#bd3786\"],[0.5555555555555556,\"#d8576b\"],[0.6666666666666666,\"#ed7953\"],[0.7777777777777778,\"#fb9f3a\"],[0.8888888888888888,\"#fdca26\"],[1.0,\"#f0f921\"]],\"type\":\"contour\"}],\"heatmapgl\":[{\"colorbar\":{\"outlinewidth\":0,\"ticks\":\"\"},\"colorscale\":[[0.0,\"#0d0887\"],[0.1111111111111111,\"#46039f\"],[0.2222222222222222,\"#7201a8\"],[0.3333333333333333,\"#9c179e\"],[0.4444444444444444,\"#bd3786\"],[0.5555555555555556,\"#d8576b\"],[0.6666666666666666,\"#ed7953\"],[0.7777777777777778,\"#fb9f3a\"],[0.8888888888888888,\"#fdca26\"],[1.0,\"#f0f921\"]],\"type\":\"heatmapgl\"}],\"heatmap\":[{\"colorbar\":{\"outlinewidth\":0,\"ticks\":\"\"},\"colorscale\":[[0.0,\"#0d0887\"],[0.1111111111111111,\"#46039f\"],[0.2222222222222222,\"#7201a8\"],[0.3333333333333333,\"#9c179e\"],[0.4444444444444444,\"#bd3786\"],[0.5555555555555556,\"#d8576b\"],[0.6666666666666666,\"#ed7953\"],[0.7777777777777778,\"#fb9f3a\"],[0.8888888888888888,\"#fdca26\"],[1.0,\"#f0f921\"]],\"type\":\"heatmap\"}],\"histogram2dcontour\":[{\"colorbar\":{\"outlinewidth\":0,\"ticks\":\"\"},\"colorscale\":[[0.0,\"#0d0887\"],[0.1111111111111111,\"#46039f\"],[0.2222222222222222,\"#7201a8\"],[0.3333333333333333,\"#9c179e\"],[0.4444444444444444,\"#bd3786\"],[0.5555555555555556,\"#d8576b\"],[0.6666666666666666,\"#ed7953\"],[0.7777777777777778,\"#fb9f3a\"],[0.8888888888888888,\"#fdca26\"],[1.0,\"#f0f921\"]],\"type\":\"histogram2dcontour\"}],\"histogram2d\":[{\"colorbar\":{\"outlinewidth\":0,\"ticks\":\"\"},\"colorscale\":[[0.0,\"#0d0887\"],[0.1111111111111111,\"#46039f\"],[0.2222222222222222,\"#7201a8\"],[0.3333333333333333,\"#9c179e\"],[0.4444444444444444,\"#bd3786\"],[0.5555555555555556,\"#d8576b\"],[0.6666666666666666,\"#ed7953\"],[0.7777777777777778,\"#fb9f3a\"],[0.8888888888888888,\"#fdca26\"],[1.0,\"#f0f921\"]],\"type\":\"histogram2d\"}],\"histogram\":[{\"marker\":{\"pattern\":{\"fillmode\":\"overlay\",\"size\":10,\"solidity\":0.2}},\"type\":\"histogram\"}],\"mesh3d\":[{\"colorbar\":{\"outlinewidth\":0,\"ticks\":\"\"},\"type\":\"mesh3d\"}],\"parcoords\":[{\"line\":{\"colorbar\":{\"outlinewidth\":0,\"ticks\":\"\"}},\"type\":\"parcoords\"}],\"pie\":[{\"automargin\":true,\"type\":\"pie\"}],\"scatter3d\":[{\"line\":{\"colorbar\":{\"outlinewidth\":0,\"ticks\":\"\"}},\"marker\":{\"colorbar\":{\"outlinewidth\":0,\"ticks\":\"\"}},\"type\":\"scatter3d\"}],\"scattercarpet\":[{\"marker\":{\"colorbar\":{\"outlinewidth\":0,\"ticks\":\"\"}},\"type\":\"scattercarpet\"}],\"scattergeo\":[{\"marker\":{\"colorbar\":{\"outlinewidth\":0,\"ticks\":\"\"}},\"type\":\"scattergeo\"}],\"scattergl\":[{\"marker\":{\"colorbar\":{\"outlinewidth\":0,\"ticks\":\"\"}},\"type\":\"scattergl\"}],\"scattermapbox\":[{\"marker\":{\"colorbar\":{\"outlinewidth\":0,\"ticks\":\"\"}},\"type\":\"scattermapbox\"}],\"scatterpolargl\":[{\"marker\":{\"colorbar\":{\"outlinewidth\":0,\"ticks\":\"\"}},\"type\":\"scatterpolargl\"}],\"scatterpolar\":[{\"marker\":{\"colorbar\":{\"outlinewidth\":0,\"ticks\":\"\"}},\"type\":\"scatterpolar\"}],\"scatter\":[{\"marker\":{\"colorbar\":{\"outlinewidth\":0,\"ticks\":\"\"}},\"type\":\"scatter\"}],\"scatterternary\":[{\"marker\":{\"colorbar\":{\"outlinewidth\":0,\"ticks\":\"\"}},\"type\":\"scatterternary\"}],\"surface\":[{\"colorbar\":{\"outlinewidth\":0,\"ticks\":\"\"},\"colorscale\":[[0.0,\"#0d0887\"],[0.1111111111111111,\"#46039f\"],[0.2222222222222222,\"#7201a8\"],[0.3333333333333333,\"#9c179e\"],[0.4444444444444444,\"#bd3786\"],[0.5555555555555556,\"#d8576b\"],[0.6666666666666666,\"#ed7953\"],[0.7777777777777778,\"#fb9f3a\"],[0.8888888888888888,\"#fdca26\"],[1.0,\"#f0f921\"]],\"type\":\"surface\"}],\"table\":[{\"cells\":{\"fill\":{\"color\":\"#EBF0F8\"},\"line\":{\"color\":\"white\"}},\"header\":{\"fill\":{\"color\":\"#C8D4E3\"},\"line\":{\"color\":\"white\"}},\"type\":\"table\"}]},\"layout\":{\"annotationdefaults\":{\"arrowcolor\":\"#2a3f5f\",\"arrowhead\":0,\"arrowwidth\":1},\"autotypenumbers\":\"strict\",\"coloraxis\":{\"colorbar\":{\"outlinewidth\":0,\"ticks\":\"\"}},\"colorscale\":{\"diverging\":[[0,\"#8e0152\"],[0.1,\"#c51b7d\"],[0.2,\"#de77ae\"],[0.3,\"#f1b6da\"],[0.4,\"#fde0ef\"],[0.5,\"#f7f7f7\"],[0.6,\"#e6f5d0\"],[0.7,\"#b8e186\"],[0.8,\"#7fbc41\"],[0.9,\"#4d9221\"],[1,\"#276419\"]],\"sequential\":[[0.0,\"#0d0887\"],[0.1111111111111111,\"#46039f\"],[0.2222222222222222,\"#7201a8\"],[0.3333333333333333,\"#9c179e\"],[0.4444444444444444,\"#bd3786\"],[0.5555555555555556,\"#d8576b\"],[0.6666666666666666,\"#ed7953\"],[0.7777777777777778,\"#fb9f3a\"],[0.8888888888888888,\"#fdca26\"],[1.0,\"#f0f921\"]],\"sequentialminus\":[[0.0,\"#0d0887\"],[0.1111111111111111,\"#46039f\"],[0.2222222222222222,\"#7201a8\"],[0.3333333333333333,\"#9c179e\"],[0.4444444444444444,\"#bd3786\"],[0.5555555555555556,\"#d8576b\"],[0.6666666666666666,\"#ed7953\"],[0.7777777777777778,\"#fb9f3a\"],[0.8888888888888888,\"#fdca26\"],[1.0,\"#f0f921\"]]},\"colorway\":[\"#636efa\",\"#EF553B\",\"#00cc96\",\"#ab63fa\",\"#FFA15A\",\"#19d3f3\",\"#FF6692\",\"#B6E880\",\"#FF97FF\",\"#FECB52\"],\"font\":{\"color\":\"#2a3f5f\"},\"geo\":{\"bgcolor\":\"white\",\"lakecolor\":\"white\",\"landcolor\":\"#E5ECF6\",\"showlakes\":true,\"showland\":true,\"subunitcolor\":\"white\"},\"hoverlabel\":{\"align\":\"left\"},\"hovermode\":\"closest\",\"mapbox\":{\"style\":\"light\"},\"paper_bgcolor\":\"white\",\"plot_bgcolor\":\"#E5ECF6\",\"polar\":{\"angularaxis\":{\"gridcolor\":\"white\",\"linecolor\":\"white\",\"ticks\":\"\"},\"bgcolor\":\"#E5ECF6\",\"radialaxis\":{\"gridcolor\":\"white\",\"linecolor\":\"white\",\"ticks\":\"\"}},\"scene\":{\"xaxis\":{\"backgroundcolor\":\"#E5ECF6\",\"gridcolor\":\"white\",\"gridwidth\":2,\"linecolor\":\"white\",\"showbackground\":true,\"ticks\":\"\",\"zerolinecolor\":\"white\"},\"yaxis\":{\"backgroundcolor\":\"#E5ECF6\",\"gridcolor\":\"white\",\"gridwidth\":2,\"linecolor\":\"white\",\"showbackground\":true,\"ticks\":\"\",\"zerolinecolor\":\"white\"},\"zaxis\":{\"backgroundcolor\":\"#E5ECF6\",\"gridcolor\":\"white\",\"gridwidth\":2,\"linecolor\":\"white\",\"showbackground\":true,\"ticks\":\"\",\"zerolinecolor\":\"white\"}},\"shapedefaults\":{\"line\":{\"color\":\"#2a3f5f\"}},\"ternary\":{\"aaxis\":{\"gridcolor\":\"white\",\"linecolor\":\"white\",\"ticks\":\"\"},\"baxis\":{\"gridcolor\":\"white\",\"linecolor\":\"white\",\"ticks\":\"\"},\"bgcolor\":\"#E5ECF6\",\"caxis\":{\"gridcolor\":\"white\",\"linecolor\":\"white\",\"ticks\":\"\"}},\"title\":{\"x\":0.05},\"xaxis\":{\"automargin\":true,\"gridcolor\":\"white\",\"linecolor\":\"white\",\"ticks\":\"\",\"title\":{\"standoff\":15},\"zerolinecolor\":\"white\",\"zerolinewidth\":2},\"yaxis\":{\"automargin\":true,\"gridcolor\":\"white\",\"linecolor\":\"white\",\"ticks\":\"\",\"title\":{\"standoff\":15},\"zerolinecolor\":\"white\",\"zerolinewidth\":2}}},\"title\":{\"font\":{\"color\":\"#4D5663\"},\"text\":\"Modelo por desplazamiento: KNeighborsRegressor, 20 lags, pron\\u00f3stico a 56 dias, MAE: 0.0884\"},\"width\":950,\"xaxis\":{\"gridcolor\":\"#E1E5ED\",\"showgrid\":true,\"tickfont\":{\"color\":\"#4D5663\"},\"title\":{\"font\":{\"color\":\"#4D5663\"},\"text\":\"Fecha\"},\"zerolinecolor\":\"#E1E5ED\"},\"yaxis\":{\"gridcolor\":\"#E1E5ED\",\"showgrid\":true,\"tickfont\":{\"color\":\"#4D5663\"},\"title\":{\"font\":{\"color\":\"#4D5663\"},\"text\":\"metros\"},\"zerolinecolor\":\"#E1E5ED\"}},                        {\"showLink\": true, \"linkText\": \"Export to plot.ly\", \"plotlyServerURL\": \"https://plot.ly\", \"responsive\": true}                    ).then(function(){\n",
       "                            \n",
       "var gd = document.getElementById('33c534d3-26cd-43df-8b24-2cebb96de487');\n",
       "var x = new MutationObserver(function (mutations, observer) {{\n",
       "        var display = window.getComputedStyle(gd).display;\n",
       "        if (!display || display === 'none') {{\n",
       "            console.log([gd, 'removed!']);\n",
       "            Plotly.purge(gd);\n",
       "            observer.disconnect();\n",
       "        }}\n",
       "}});\n",
       "\n",
       "// Listen for the removal of the full notebook cells\n",
       "var notebookContainer = gd.closest('#notebook-container');\n",
       "if (notebookContainer) {{\n",
       "    x.observe(notebookContainer, {childList: true});\n",
       "}}\n",
       "\n",
       "// Listen for the clearing of the current output cell\n",
       "var outputEl = gd.closest('.output');\n",
       "if (outputEl) {{\n",
       "    x.observe(outputEl, {childList: true});\n",
       "}}\n",
       "\n",
       "                        })                };                });            </script>        </div>"
      ]
     },
     "metadata": {},
     "output_type": "display_data"
    }
   ],
   "source": [
    "optimizacion_dict = Pronosticador(regresor \\\n",
    "              ,parametros={\n",
    "#      'boosting_type': 'gbdt',\n",
    "#      'class_weight': None,\n",
    "#      'colsample_bytree': 1.0,\n",
    "#      'importance_type': 'split',\n",
    "#      'learning_rate': 0.1,\n",
    "#      'linear_tree': True,\n",
    "#      'max_bin': 505, ##\n",
    "#      'max_depth': 11, ##\n",
    "#      'min_child_samples': 20,\n",
    "#      'min_child_weight': 0.001,\n",
    "#      'min_split_gain': 0.0,\n",
    "#      'n_estimators': 100,\n",
    "#      'n_jobs': -1,\n",
    "#      'num_leaves': 31,\n",
    "#      'objective': 'regression',\n",
    "#      'random_state': 170162,\n",
    "#      'reg_alpha': 0.0,\n",
    "#      'reg_lambda': 0.0,\n",
    "#      'silent': 'warn',\n",
    "#      'subsample': 1.0,\n",
    "#      'subsample_for_bin': 200000,\n",
    "#      'subsample_freq': 0\n",
    "    }\n",
    "              ,X = X \\\n",
    "              ,y = y \\\n",
    "              ,fh = fh \\\n",
    "              ,lags = lags \\\n",
    "              ,plot = True\n",
    "             )"
   ]
  },
  {
   "cell_type": "code",
   "execution_count": 65,
   "id": "15520873",
   "metadata": {},
   "outputs": [
    {
     "name": "stdout",
     "output_type": "stream",
     "text": [
      "fh 56\n",
      "MAE 0.08839285714285657\n",
      "RMSE 0.1568805277910546\n"
     ]
    }
   ],
   "source": [
    "# Imprimo las claves que me interesan del diccionario del pronóstico\n",
    "keys = ['fh', 'MAE', 'RMSE']\n",
    "#[resultado_dict.get(key) for key in keys]    \n",
    "\n",
    "for key, value in optimizacion_dict.items():\n",
    "    if key in keys:\n",
    "        print(key, value)"
   ]
  },
  {
   "cell_type": "code",
   "execution_count": 66,
   "id": "e9629b6b",
   "metadata": {},
   "outputs": [
    {
     "data": {
      "text/plain": [
       "{'algorithm': 'auto',\n",
       " 'leaf_size': 30,\n",
       " 'metric': 'minkowski',\n",
       " 'metric_params': None,\n",
       " 'n_jobs': None,\n",
       " 'n_neighbors': 5,\n",
       " 'p': 2,\n",
       " 'weights': 'uniform'}"
      ]
     },
     "execution_count": 66,
     "metadata": {},
     "output_type": "execute_result"
    }
   ],
   "source": [
    "# Veo los parámetros utilizados por default\n",
    "regresor.get_params()"
   ]
  },
  {
   "cell_type": "code",
   "execution_count": 67,
   "id": "7d351684",
   "metadata": {},
   "outputs": [],
   "source": [
    "# Prueba de seteo de parámetros\n",
    "\n",
    "# regresor.set_params(**{'objective': 'reg:squarederror',\n",
    "#  'base_score': 0.5,\n",
    "#  'booster': 'gbtree',\n",
    "#  'colsample_bylevel': 1,\n",
    "#  'colsample_bynode': 1,\n",
    "#  'colsample_bytree': 1,\n",
    "#  'enable_categorical': False})"
   ]
  },
  {
   "cell_type": "markdown",
   "id": "edf03df9",
   "metadata": {},
   "source": [
    "### Optimización Bayesiana"
   ]
  },
  {
   "cell_type": "markdown",
   "id": "06993e1a",
   "metadata": {},
   "source": [
    "#### Grilla de Parámetros "
   ]
  },
  {
   "cell_type": "code",
   "execution_count": 68,
   "id": "a22602a6",
   "metadata": {},
   "outputs": [],
   "source": [
    "# Importo las clases de datos necesarios para las grillas de parámetros\n",
    "from skopt.space import Real, Integer, Categorical\n",
    "\n",
    "# ****** Estos parámetros dependen del regresor utilizado.\n",
    "# ****** Si se cambia de regresor, hay que cambiar la grilla de parámetros.\n",
    "\n",
    "# Parámetros fijos a pasar al modelo\n",
    "# Parámetros fijos del LGBMRegressor\n",
    "# parametros_fijos = {\n",
    "#      'boosting_type': 'gbdt',\n",
    "#      'class_weight': None,\n",
    "#      'colsample_bytree': 1.0,\n",
    "#      'importance_type': 'split',\n",
    "#      'learning_rate': 0.1,\n",
    "#      'linear_tree': True,\n",
    "#      'max_bin': 505, ##\n",
    "#      'max_depth': 11, ##\n",
    "#      'min_child_samples': 20,\n",
    "#      'min_child_weight': 0.001,\n",
    "#      'min_split_gain': 0.0,\n",
    "#      'n_estimators': 100,\n",
    "#      'n_jobs': -1,\n",
    "#      'num_leaves': 31,\n",
    "#      'objective': 'regression',\n",
    "#      'random_state': 170162,\n",
    "#      'reg_alpha': 0.0,\n",
    "#      'reg_lambda': 0.0,\n",
    "#      'silent': 'warn',\n",
    "#      'subsample': 1.0,\n",
    "#      'subsample_for_bin': 200000,\n",
    "#      'subsample_freq': 0\n",
    "#     }\n",
    "\n",
    "# Parámetros a optimizar LGBMRegressor\n",
    "# grilla_parametros = [\n",
    "\n",
    "# ###  Parameters for the Leaf-wise (Best-first) Tree\n",
    "# #     Categorical(['gbdt', 'dart', 'goss'], name='boosting_type'), # (['gbdt', 'dart', 'goss', 'rf']\n",
    "#     Integer(0, 20, 'uniform', name='max_depth'), #7\n",
    "    \n",
    "# ###  For Better Accuracy\n",
    "#     Real(0.099, 0.101, 'uniform', name='learning_rate'), #1\n",
    "#     Integer(80, 120, 'uniform', name='n_estimators'),   #1\n",
    "    \n",
    "# ###  Deal with Over-fitting\n",
    "#     Integer(25, 37, 'uniform', name='num_leaves'),  #2    \n",
    "#     Integer(400, 700, 'uniform', name='max_bin'),   #2\n",
    "#     Integer(10, 30, 'uniform', name='min_child_samples'), #3, min_data_in_leaf'\n",
    "#     Real(0.8, 1.0, 'uniform', name='subsample'), #5, 'bagging_fraction'\n",
    "#     Integer(0, 100, 'uniform', name='subsample_freq'), #6, 'bagging_freq'\n",
    "#     Real(0.0, 0.02, 'uniform', name='path_smooth'), #10\n",
    "#     Categorical([False, True], name='extra_trees'),\n",
    "#     Real(0.0, 10.0, 'uniform', name='reg_alpha'), # 'lambda_l1'\n",
    "#     Real(0.0, 10.0, 'uniform', name='reg_lambda'), # 'lambda_l2'\n",
    "#     Real(0.0, 100.0, 'uniform', name='min_split_gain'), #8, 'min_gain_to_split'\n",
    "\n",
    "# ###  For Faster Speed\n",
    "#     Real(0.7, 1.0, 'uniform', name='colsample_bytree'), #4, 'feature_fraction'\n",
    "#     Real(0.0005, 0.0015, 'uniform', name='min_child_weight'), #9 'min_sum_hessian_in_leaf'\n",
    "    \n",
    "#     ]\n",
    "\n",
    "# -----------------------------------------------------------------------------------------------------\n",
    "\n",
    "# Parámetros fijos para el regresor\n",
    "parametros_fijos = {\n",
    "    'n_jobs': -1\n",
    "    }\n",
    "\n",
    "# Parametros a optimizar del XGBRegressor\n",
    "# The list of hyper-parameters we want to optimize. For each one we define the\n",
    "# bounds, the corresponding scikit-learn parameter name, as well as how to\n",
    "# sample values from that dimension ('log-uniform' for the learning rate)\n",
    "\n",
    "# grilla_parametros = [\n",
    "#   Integer(1, 12, prior='uniform', transform='identity', name='max_depth'),\n",
    "#   Real(10**-1, 10**0, prior='uniform', transform='identity', name='learning_rate'),\n",
    "#   Integer(40, 400, prior='uniform', transform='identity', name='n_estimators'),\n",
    "#   Real(0.0, 10**0, prior='uniform', transform='identity', name='colsample_bytree'),\n",
    "# #   Integer(0, 10, prior='uniform', transform='identity', name='alpha'),\n",
    "# #   Integer(0, 10, prior='uniform', transform='identity', name='lambda'),\n",
    "# #   Integer(0, 100, prior='uniform', transform='identity', name='gamma')\n",
    "#     ]\n",
    "\n",
    "grilla_parametros = [\n",
    "    Integer (4, 20, prior='uniform', transform='identity', name='n_neighbors'),\n",
    "#     Integer (1, 50, prior='uniform', transform='identity', name='leaf_size'),\n",
    "    Integer (1, 3, prior='uniform', transform='identity', name='p'),\n",
    "    Categorical(['uniform','distance'],  name='weights'),\n",
    "    Categorical(['ball_tree','kd_tree', 'brute'],  name='algorithm'),\n",
    "    Categorical(['minkowski','euclidean','manhattan'], name='metric')\n",
    "]      \n"
   ]
  },
  {
   "cell_type": "markdown",
   "id": "61094102",
   "metadata": {},
   "source": [
    "#### Función objetivo a minimizar"
   ]
  },
  {
   "cell_type": "code",
   "execution_count": 69,
   "id": "b3a0bba5",
   "metadata": {},
   "outputs": [],
   "source": [
    "# # this decorator allows your objective function to receive the hyper-parameters as\n",
    "# # keyword arguments. This is particularly convenient when you want to set\n",
    "# # scikit-learn estimator parameters\n",
    "# @use_named_args(grilla_parametros)\n",
    "# def funcion_objetivo(**params):\n",
    "    \n",
    "#     # imprimo los parametros en evaluación\n",
    "#     print(params)\n",
    "\n",
    "#     score = regresionLGBM(ds, min_ErrorMedio_features, fh, False, False, False, {**parametros_fijos, **params})['MAE']\n",
    "    \n",
    "#     # Retorno la media de la métrica durante las cinco evaluaciones del CV\n",
    "#     return score\n",
    "\n",
    "from skopt.utils import use_named_args\n",
    "from sklearn.model_selection import cross_val_score\n",
    "\n",
    "# this decorator allows your objective function to receive the hyper-parameters as\n",
    "# keyword arguments. This is particularly convenient when you want to set\n",
    "# scikit-learn estimator parameters\n",
    "@use_named_args(grilla_parametros)\n",
    "def funcion_objetivo(**params):\n",
    "    \n",
    "# imprimo los parametros en evaluación\n",
    "#     print(params)\n",
    " \n",
    "    score = Pronosticador(regresor \\\n",
    "                  ,parametros={**parametros_fijos, **params}\n",
    "                  ,X = X \\\n",
    "                  ,y = y \\\n",
    "                  ,fh = fh \\\n",
    "                  ,lags = lags \\\n",
    "                  ,plot = False        \n",
    "                 )['MAE']\n",
    "    \n",
    "    \n",
    "#     # Defino el regresor con los parámetros que recibe de la función minimizadora\n",
    "#     regresor = LGBMRegressor().set_params(**{**parametros_fijos, **params})\n",
    "        \n",
    "#     # como score utilizo el promedio de los scores de 5 ciclos de cross validation\n",
    "#     score = np.mean(cross_val_score(\n",
    "#                                     estimator=regresor, \n",
    "#                                     # Entreno sobre todo el dataset\n",
    "#                                     X=X_train, \n",
    "#                                     y=y_train, \n",
    "#                                     # Hago crosvalidation en 10 segmentos\n",
    "#                                     cv=5, \n",
    "#                                     # Uso todos los procesadores disponibles\n",
    "#                                     n_jobs=-1,\n",
    "#                                     # Le digo al regresor que utilice esta métrica al momento de cortar\n",
    "#                                     scoring=\"neg_mean_absolute_error\"\n",
    "#                                     )\n",
    "#                      )\n",
    "    \n",
    "    # Retorno la media de la métrica durante las cinco evaluaciones del CV\n",
    "    return score"
   ]
  },
  {
   "cell_type": "markdown",
   "id": "23b9b82f",
   "metadata": {},
   "source": [
    "#### Función de Callback"
   ]
  },
  {
   "cell_type": "code",
   "execution_count": 70,
   "id": "b2bab426",
   "metadata": {},
   "outputs": [],
   "source": [
    "# Funcion que interrumpe la optimización si la mejora después de N_ITER iteraciones no es mejor que MEJORA\n",
    "def funcion_callback(res_gp):\n",
    "    print('****Función de Callback: Score actual ===>>>', res_gp.fun)\n",
    "    return None"
   ]
  },
  {
   "cell_type": "markdown",
   "id": "b08ad290",
   "metadata": {},
   "source": [
    "#### Función optimizadora"
   ]
  },
  {
   "cell_type": "code",
   "execution_count": 71,
   "id": "53e6d551",
   "metadata": {},
   "outputs": [
    {
     "name": "stdout",
     "output_type": "stream",
     "text": [
      "Iteration No: 1 started. Evaluating function at random point.\n",
      "****Función de Callback: Score actual ===>>> 0.13015131054741072\n",
      "Iteration No: 1 ended. Evaluation done at random point.\n",
      "Time taken: 0.4084\n",
      "Function value obtained: 0.1302\n",
      "Current minimum: 0.1302\n",
      "Iteration No: 2 started. Evaluating function at random point.\n",
      "****Función de Callback: Score actual ===>>> 0.13015131054741072\n",
      "Iteration No: 2 ended. Evaluation done at random point.\n",
      "Time taken: 0.4532\n",
      "Function value obtained: 0.1895\n",
      "Current minimum: 0.1302\n",
      "Iteration No: 3 started. Evaluating function at random point.\n",
      "****Función de Callback: Score actual ===>>> 0.09388652683723578\n",
      "Iteration No: 3 ended. Evaluation done at random point.\n",
      "Time taken: 0.3907\n",
      "Function value obtained: 0.0939\n",
      "Current minimum: 0.0939\n",
      "Iteration No: 4 started. Evaluating function at random point.\n",
      "****Función de Callback: Score actual ===>>> 0.09388652683723578\n",
      "Iteration No: 4 ended. Evaluation done at random point.\n",
      "Time taken: 0.4999\n",
      "Function value obtained: 0.1713\n",
      "Current minimum: 0.0939\n",
      "Iteration No: 5 started. Evaluating function at random point.\n",
      "****Función de Callback: Score actual ===>>> 0.09388652683723578\n",
      "Iteration No: 5 ended. Evaluation done at random point.\n",
      "Time taken: 0.4220\n",
      "Function value obtained: 0.1741\n",
      "Current minimum: 0.0939\n",
      "Iteration No: 6 started. Evaluating function at random point.\n",
      "****Función de Callback: Score actual ===>>> 0.09388652683723578\n",
      "Iteration No: 6 ended. Evaluation done at random point.\n",
      "Time taken: 0.4842\n",
      "Function value obtained: 0.1874\n",
      "Current minimum: 0.0939\n",
      "Iteration No: 7 started. Evaluating function at random point.\n",
      "****Función de Callback: Score actual ===>>> 0.09388652683723578\n",
      "Iteration No: 7 ended. Evaluation done at random point.\n",
      "Time taken: 0.4222\n",
      "Function value obtained: 0.1876\n",
      "Current minimum: 0.0939\n",
      "Iteration No: 8 started. Evaluating function at random point.\n",
      "****Función de Callback: Score actual ===>>> 0.08859693877551018\n",
      "Iteration No: 8 ended. Evaluation done at random point.\n",
      "Time taken: 0.4842\n",
      "Function value obtained: 0.0886\n",
      "Current minimum: 0.0886\n",
      "Iteration No: 9 started. Evaluating function at random point.\n",
      "****Función de Callback: Score actual ===>>> 0.08859693877551018\n",
      "Iteration No: 9 ended. Evaluation done at random point.\n",
      "Time taken: 0.5000\n",
      "Function value obtained: 0.1877\n",
      "Current minimum: 0.0886\n",
      "Iteration No: 10 started. Evaluating function at random point.\n",
      "****Función de Callback: Score actual ===>>> 0.08859693877551018\n",
      "Iteration No: 10 ended. Evaluation done at random point.\n",
      "Time taken: 3.3879\n",
      "Function value obtained: 0.1876\n",
      "Current minimum: 0.0886\n",
      "Iteration No: 11 started. Searching for the next optimal point.\n",
      "****Función de Callback: Score actual ===>>> 0.08859693877551018\n",
      "Iteration No: 11 ended. Search finished for the next optimal point.\n",
      "Time taken: 0.9255\n",
      "Function value obtained: 0.0951\n",
      "Current minimum: 0.0886\n",
      "Iteration No: 12 started. Searching for the next optimal point.\n",
      "****Función de Callback: Score actual ===>>> 0.08859693877551018\n",
      "Iteration No: 12 ended. Search finished for the next optimal point.\n",
      "Time taken: 0.8116\n",
      "Function value obtained: 0.0887\n",
      "Current minimum: 0.0886\n",
      "Iteration No: 13 started. Searching for the next optimal point.\n",
      "****Función de Callback: Score actual ===>>> 0.08830110239037518\n",
      "Iteration No: 13 ended. Search finished for the next optimal point.\n",
      "Time taken: 0.8595\n",
      "Function value obtained: 0.0883\n",
      "Current minimum: 0.0883\n",
      "Iteration No: 14 started. Searching for the next optimal point.\n",
      "****Función de Callback: Score actual ===>>> 0.08796606279896738\n",
      "Iteration No: 14 ended. Search finished for the next optimal point.\n",
      "Time taken: 0.7031\n",
      "Function value obtained: 0.0880\n",
      "Current minimum: 0.0880\n",
      "Iteration No: 15 started. Searching for the next optimal point.\n",
      "****Función de Callback: Score actual ===>>> 0.08696428571428491\n",
      "Iteration No: 15 ended. Search finished for the next optimal point.\n",
      "Time taken: 0.7500\n",
      "Function value obtained: 0.0870\n",
      "Current minimum: 0.0870\n",
      "Iteration No: 16 started. Searching for the next optimal point.\n",
      "****Función de Callback: Score actual ===>>> 0.08694117174031797\n",
      "Iteration No: 16 ended. Search finished for the next optimal point.\n",
      "Time taken: 0.7344\n",
      "Function value obtained: 0.0869\n",
      "Current minimum: 0.0869\n",
      "Iteration No: 17 started. Searching for the next optimal point.\n",
      "****Función de Callback: Score actual ===>>> 0.08694117174031797\n",
      "Iteration No: 17 ended. Search finished for the next optimal point.\n",
      "Time taken: 0.7499\n",
      "Function value obtained: 0.0879\n",
      "Current minimum: 0.0869\n",
      "Iteration No: 18 started. Searching for the next optimal point.\n",
      "****Función de Callback: Score actual ===>>> 0.08694117174031797\n",
      "Iteration No: 18 ended. Search finished for the next optimal point.\n",
      "Time taken: 0.7813\n",
      "Function value obtained: 0.0901\n",
      "Current minimum: 0.0869\n",
      "Iteration No: 19 started. Searching for the next optimal point.\n",
      "****Función de Callback: Score actual ===>>> 0.08694117174031797\n",
      "Iteration No: 19 ended. Search finished for the next optimal point.\n",
      "Time taken: 0.7830\n",
      "Function value obtained: 0.0884\n",
      "Current minimum: 0.0869\n",
      "Iteration No: 20 started. Searching for the next optimal point.\n",
      "****Función de Callback: Score actual ===>>> 0.08694117174031797\n",
      "Iteration No: 20 ended. Search finished for the next optimal point.\n",
      "Time taken: 0.7795\n",
      "Function value obtained: 0.0886\n",
      "Current minimum: 0.0869\n",
      "Iteration No: 21 started. Searching for the next optimal point.\n",
      "****Función de Callback: Score actual ===>>> 0.08694117174031797\n",
      "Iteration No: 21 ended. Search finished for the next optimal point.\n",
      "Time taken: 0.8593\n",
      "Function value obtained: 0.0882\n",
      "Current minimum: 0.0869\n",
      "Iteration No: 22 started. Searching for the next optimal point.\n",
      "****Función de Callback: Score actual ===>>> 0.08694117174031797\n",
      "Iteration No: 22 ended. Search finished for the next optimal point.\n",
      "Time taken: 0.7500\n",
      "Function value obtained: 0.0895\n",
      "Current minimum: 0.0869\n",
      "Iteration No: 23 started. Searching for the next optimal point.\n",
      "****Función de Callback: Score actual ===>>> 0.08694117174031797\n",
      "Iteration No: 23 ended. Search finished for the next optimal point.\n",
      "Time taken: 0.8281\n",
      "Function value obtained: 0.0939\n",
      "Current minimum: 0.0869\n",
      "Iteration No: 24 started. Searching for the next optimal point.\n",
      "****Función de Callback: Score actual ===>>> 0.08694117174031797\n",
      "Iteration No: 24 ended. Search finished for the next optimal point.\n",
      "Time taken: 0.7969\n",
      "Function value obtained: 0.0901\n",
      "Current minimum: 0.0869\n",
      "Iteration No: 25 started. Searching for the next optimal point.\n",
      "****Función de Callback: Score actual ===>>> 0.08694117174031797\n",
      "Iteration No: 25 ended. Search finished for the next optimal point.\n",
      "Time taken: 0.9379\n",
      "Function value obtained: 0.0870\n",
      "Current minimum: 0.0869\n",
      "Iteration No: 26 started. Searching for the next optimal point.\n",
      "****Función de Callback: Score actual ===>>> 0.08694117174031797\n",
      "Iteration No: 26 ended. Search finished for the next optimal point.\n",
      "Time taken: 0.9058\n",
      "Function value obtained: 0.0891\n",
      "Current minimum: 0.0869\n",
      "Iteration No: 27 started. Searching for the next optimal point.\n",
      "****Función de Callback: Score actual ===>>> 0.08694117174029183\n",
      "Iteration No: 27 ended. Search finished for the next optimal point.\n",
      "Time taken: 0.9063\n",
      "Function value obtained: 0.0869\n",
      "Current minimum: 0.0869\n",
      "Iteration No: 28 started. Searching for the next optimal point.\n",
      "****Función de Callback: Score actual ===>>> 0.08694117174029183\n",
      "Iteration No: 28 ended. Search finished for the next optimal point.\n",
      "Time taken: 0.9218\n",
      "Function value obtained: 0.0886\n",
      "Current minimum: 0.0869\n",
      "Iteration No: 29 started. Searching for the next optimal point.\n",
      "****Función de Callback: Score actual ===>>> 0.08694117174029183\n",
      "Iteration No: 29 ended. Search finished for the next optimal point.\n",
      "Time taken: 0.8751\n",
      "Function value obtained: 0.0893\n",
      "Current minimum: 0.0869\n",
      "Iteration No: 30 started. Searching for the next optimal point.\n",
      "****Función de Callback: Score actual ===>>> 0.08694117174029183\n",
      "Iteration No: 30 ended. Search finished for the next optimal point.\n",
      "Time taken: 0.9531\n",
      "Function value obtained: 0.0870\n",
      "Current minimum: 0.0869\n",
      "Iteration No: 31 started. Searching for the next optimal point.\n"
     ]
    },
    {
     "name": "stderr",
     "output_type": "stream",
     "text": [
      "C:\\Users\\josel\\.conda\\envs\\tesis\\lib\\site-packages\\skopt\\optimizer\\optimizer.py:449: UserWarning:\n",
      "\n",
      "The objective has been evaluated at this point before.\n",
      "\n"
     ]
    },
    {
     "name": "stdout",
     "output_type": "stream",
     "text": [
      "****Función de Callback: Score actual ===>>> 0.08694117174029183\n",
      "Iteration No: 31 ended. Search finished for the next optimal point.\n",
      "Time taken: 0.9532\n",
      "Function value obtained: 0.0869\n",
      "Current minimum: 0.0869\n",
      "Iteration No: 32 started. Searching for the next optimal point.\n",
      "****Función de Callback: Score actual ===>>> 0.08694117174029183\n",
      "Iteration No: 32 ended. Search finished for the next optimal point.\n",
      "Time taken: 0.9374\n",
      "Function value obtained: 0.0884\n",
      "Current minimum: 0.0869\n",
      "Iteration No: 33 started. Searching for the next optimal point.\n",
      "****Función de Callback: Score actual ===>>> 0.08694117174029183\n",
      "Iteration No: 33 ended. Search finished for the next optimal point.\n",
      "Time taken: 0.9242\n",
      "Function value obtained: 0.0870\n",
      "Current minimum: 0.0869\n",
      "Iteration No: 34 started. Searching for the next optimal point.\n",
      "****Función de Callback: Score actual ===>>> 0.08694117174029183\n",
      "Iteration No: 34 ended. Search finished for the next optimal point.\n",
      "Time taken: 0.8727\n",
      "Function value obtained: 0.0870\n",
      "Current minimum: 0.0869\n",
      "Iteration No: 35 started. Searching for the next optimal point.\n"
     ]
    },
    {
     "name": "stderr",
     "output_type": "stream",
     "text": [
      "C:\\Users\\josel\\.conda\\envs\\tesis\\lib\\site-packages\\skopt\\optimizer\\optimizer.py:449: UserWarning:\n",
      "\n",
      "The objective has been evaluated at this point before.\n",
      "\n"
     ]
    },
    {
     "name": "stdout",
     "output_type": "stream",
     "text": [
      "****Función de Callback: Score actual ===>>> 0.08694117174029183\n",
      "Iteration No: 35 ended. Search finished for the next optimal point.\n",
      "Time taken: 1.0624\n",
      "Function value obtained: 0.0870\n",
      "Current minimum: 0.0869\n",
      "Iteration No: 36 started. Searching for the next optimal point.\n"
     ]
    },
    {
     "name": "stderr",
     "output_type": "stream",
     "text": [
      "C:\\Users\\josel\\.conda\\envs\\tesis\\lib\\site-packages\\skopt\\optimizer\\optimizer.py:449: UserWarning:\n",
      "\n",
      "The objective has been evaluated at this point before.\n",
      "\n"
     ]
    },
    {
     "name": "stdout",
     "output_type": "stream",
     "text": [
      "****Función de Callback: Score actual ===>>> 0.08694117174029183\n",
      "Iteration No: 36 ended. Search finished for the next optimal point.\n",
      "Time taken: 1.0469\n",
      "Function value obtained: 0.0870\n",
      "Current minimum: 0.0869\n",
      "Iteration No: 37 started. Searching for the next optimal point.\n"
     ]
    },
    {
     "name": "stderr",
     "output_type": "stream",
     "text": [
      "C:\\Users\\josel\\.conda\\envs\\tesis\\lib\\site-packages\\skopt\\optimizer\\optimizer.py:449: UserWarning:\n",
      "\n",
      "The objective has been evaluated at this point before.\n",
      "\n"
     ]
    },
    {
     "name": "stdout",
     "output_type": "stream",
     "text": [
      "****Función de Callback: Score actual ===>>> 0.08694117174029183\n",
      "Iteration No: 37 ended. Search finished for the next optimal point.\n",
      "Time taken: 1.0156\n",
      "Function value obtained: 0.0869\n",
      "Current minimum: 0.0869\n",
      "Iteration No: 38 started. Searching for the next optimal point.\n",
      "****Función de Callback: Score actual ===>>> 0.08694117174029183\n",
      "Iteration No: 38 ended. Search finished for the next optimal point.\n",
      "Time taken: 0.9220\n",
      "Function value obtained: 0.0884\n",
      "Current minimum: 0.0869\n",
      "Iteration No: 39 started. Searching for the next optimal point.\n",
      "****Función de Callback: Score actual ===>>> 0.08694117174029183\n",
      "Iteration No: 39 ended. Search finished for the next optimal point.\n",
      "Time taken: 0.9530\n",
      "Function value obtained: 0.0886\n",
      "Current minimum: 0.0869\n",
      "Iteration No: 40 started. Searching for the next optimal point.\n",
      "****Función de Callback: Score actual ===>>> 0.08694117174029183\n",
      "Iteration No: 40 ended. Search finished for the next optimal point.\n",
      "Time taken: 1.0156\n",
      "Function value obtained: 0.0886\n",
      "Current minimum: 0.0869\n",
      "Iteration No: 41 started. Searching for the next optimal point.\n"
     ]
    },
    {
     "name": "stderr",
     "output_type": "stream",
     "text": [
      "C:\\Users\\josel\\.conda\\envs\\tesis\\lib\\site-packages\\skopt\\optimizer\\optimizer.py:449: UserWarning:\n",
      "\n",
      "The objective has been evaluated at this point before.\n",
      "\n"
     ]
    },
    {
     "name": "stdout",
     "output_type": "stream",
     "text": [
      "****Función de Callback: Score actual ===>>> 0.08694117174029183\n",
      "Iteration No: 41 ended. Search finished for the next optimal point.\n",
      "Time taken: 0.9532\n",
      "Function value obtained: 0.0886\n",
      "Current minimum: 0.0869\n",
      "Iteration No: 42 started. Searching for the next optimal point.\n"
     ]
    },
    {
     "name": "stderr",
     "output_type": "stream",
     "text": [
      "C:\\Users\\josel\\.conda\\envs\\tesis\\lib\\site-packages\\skopt\\optimizer\\optimizer.py:449: UserWarning:\n",
      "\n",
      "The objective has been evaluated at this point before.\n",
      "\n"
     ]
    },
    {
     "name": "stdout",
     "output_type": "stream",
     "text": [
      "****Función de Callback: Score actual ===>>> 0.08694117174029183\n",
      "Iteration No: 42 ended. Search finished for the next optimal point.\n",
      "Time taken: 0.9378\n",
      "Function value obtained: 0.0886\n",
      "Current minimum: 0.0869\n",
      "Iteration No: 43 started. Searching for the next optimal point.\n",
      "****Función de Callback: Score actual ===>>> 0.08694117174029183\n",
      "Iteration No: 43 ended. Search finished for the next optimal point.\n",
      "Time taken: 0.9220\n",
      "Function value obtained: 0.0895\n",
      "Current minimum: 0.0869\n",
      "Iteration No: 44 started. Searching for the next optimal point.\n",
      "****Función de Callback: Score actual ===>>> 0.08694117174029183\n",
      "Iteration No: 44 ended. Search finished for the next optimal point.\n",
      "Time taken: 0.8926\n",
      "Function value obtained: 0.0933\n",
      "Current minimum: 0.0869\n",
      "Iteration No: 45 started. Searching for the next optimal point.\n",
      "****Función de Callback: Score actual ===>>> 0.08694117174029183\n",
      "Iteration No: 45 ended. Search finished for the next optimal point.\n",
      "Time taken: 1.0448\n",
      "Function value obtained: 0.0886\n",
      "Current minimum: 0.0869\n",
      "Iteration No: 46 started. Searching for the next optimal point.\n",
      "****Función de Callback: Score actual ===>>> 0.08694117174029183\n",
      "Iteration No: 46 ended. Search finished for the next optimal point.\n",
      "Time taken: 0.9372\n",
      "Function value obtained: 0.0895\n",
      "Current minimum: 0.0869\n",
      "Iteration No: 47 started. Searching for the next optimal point.\n",
      "****Función de Callback: Score actual ===>>> 0.08694117174029183\n",
      "Iteration No: 47 ended. Search finished for the next optimal point.\n",
      "Time taken: 0.9219\n",
      "Function value obtained: 0.0883\n",
      "Current minimum: 0.0869\n",
      "Iteration No: 48 started. Searching for the next optimal point.\n",
      "****Función de Callback: Score actual ===>>> 0.08694117174029183\n",
      "Iteration No: 48 ended. Search finished for the next optimal point.\n",
      "Time taken: 1.0156\n",
      "Function value obtained: 0.1887\n",
      "Current minimum: 0.0869\n",
      "Iteration No: 49 started. Searching for the next optimal point.\n"
     ]
    },
    {
     "name": "stderr",
     "output_type": "stream",
     "text": [
      "C:\\Users\\josel\\.conda\\envs\\tesis\\lib\\site-packages\\skopt\\optimizer\\optimizer.py:449: UserWarning:\n",
      "\n",
      "The objective has been evaluated at this point before.\n",
      "\n"
     ]
    },
    {
     "name": "stdout",
     "output_type": "stream",
     "text": [
      "****Función de Callback: Score actual ===>>> 0.08694117174029183\n",
      "Iteration No: 49 ended. Search finished for the next optimal point.\n",
      "Time taken: 1.0468\n",
      "Function value obtained: 0.0886\n",
      "Current minimum: 0.0869\n",
      "Iteration No: 50 started. Searching for the next optimal point.\n"
     ]
    },
    {
     "name": "stderr",
     "output_type": "stream",
     "text": [
      "C:\\Users\\josel\\.conda\\envs\\tesis\\lib\\site-packages\\skopt\\optimizer\\optimizer.py:449: UserWarning:\n",
      "\n",
      "The objective has been evaluated at this point before.\n",
      "\n"
     ]
    },
    {
     "name": "stdout",
     "output_type": "stream",
     "text": [
      "****Función de Callback: Score actual ===>>> 0.08694117174029183\n",
      "Iteration No: 50 ended. Search finished for the next optimal point.\n",
      "Time taken: 1.0469\n",
      "Function value obtained: 0.0886\n",
      "Current minimum: 0.0869\n",
      "Iteration No: 51 started. Searching for the next optimal point.\n",
      "****Función de Callback: Score actual ===>>> 0.08694117174029183\n",
      "Iteration No: 51 ended. Search finished for the next optimal point.\n",
      "Time taken: 1.0785\n",
      "Function value obtained: 0.0870\n",
      "Current minimum: 0.0869\n",
      "Iteration No: 52 started. Searching for the next optimal point.\n"
     ]
    },
    {
     "name": "stderr",
     "output_type": "stream",
     "text": [
      "C:\\Users\\josel\\.conda\\envs\\tesis\\lib\\site-packages\\skopt\\optimizer\\optimizer.py:449: UserWarning:\n",
      "\n",
      "The objective has been evaluated at this point before.\n",
      "\n"
     ]
    },
    {
     "name": "stdout",
     "output_type": "stream",
     "text": [
      "****Función de Callback: Score actual ===>>> 0.08694117174029183\n",
      "Iteration No: 52 ended. Search finished for the next optimal point.\n",
      "Time taken: 1.0153\n",
      "Function value obtained: 0.0869\n",
      "Current minimum: 0.0869\n",
      "Iteration No: 53 started. Searching for the next optimal point.\n",
      "****Función de Callback: Score actual ===>>> 0.08694117174029183\n",
      "Iteration No: 53 ended. Search finished for the next optimal point.\n",
      "Time taken: 1.0317\n",
      "Function value obtained: 0.0990\n",
      "Current minimum: 0.0869\n",
      "Iteration No: 54 started. Searching for the next optimal point.\n"
     ]
    },
    {
     "name": "stderr",
     "output_type": "stream",
     "text": [
      "C:\\Users\\josel\\.conda\\envs\\tesis\\lib\\site-packages\\skopt\\optimizer\\optimizer.py:449: UserWarning:\n",
      "\n",
      "The objective has been evaluated at this point before.\n",
      "\n"
     ]
    },
    {
     "name": "stdout",
     "output_type": "stream",
     "text": [
      "****Función de Callback: Score actual ===>>> 0.08694117174029183\n",
      "Iteration No: 54 ended. Search finished for the next optimal point.\n",
      "Time taken: 1.1245\n",
      "Function value obtained: 0.0870\n",
      "Current minimum: 0.0869\n",
      "Iteration No: 55 started. Searching for the next optimal point.\n"
     ]
    },
    {
     "name": "stderr",
     "output_type": "stream",
     "text": [
      "C:\\Users\\josel\\.conda\\envs\\tesis\\lib\\site-packages\\skopt\\optimizer\\optimizer.py:449: UserWarning:\n",
      "\n",
      "The objective has been evaluated at this point before.\n",
      "\n"
     ]
    },
    {
     "name": "stdout",
     "output_type": "stream",
     "text": [
      "****Función de Callback: Score actual ===>>> 0.08694117174029183\n",
      "Iteration No: 55 ended. Search finished for the next optimal point.\n",
      "Time taken: 1.1719\n",
      "Function value obtained: 0.0870\n",
      "Current minimum: 0.0869\n",
      "Iteration No: 56 started. Searching for the next optimal point.\n"
     ]
    },
    {
     "name": "stderr",
     "output_type": "stream",
     "text": [
      "C:\\Users\\josel\\.conda\\envs\\tesis\\lib\\site-packages\\skopt\\optimizer\\optimizer.py:449: UserWarning:\n",
      "\n",
      "The objective has been evaluated at this point before.\n",
      "\n"
     ]
    },
    {
     "name": "stdout",
     "output_type": "stream",
     "text": [
      "****Función de Callback: Score actual ===>>> 0.08694117174029183\n",
      "Iteration No: 56 ended. Search finished for the next optimal point.\n",
      "Time taken: 1.1564\n",
      "Function value obtained: 0.0870\n",
      "Current minimum: 0.0869\n",
      "Iteration No: 57 started. Searching for the next optimal point.\n"
     ]
    },
    {
     "name": "stderr",
     "output_type": "stream",
     "text": [
      "C:\\Users\\josel\\.conda\\envs\\tesis\\lib\\site-packages\\skopt\\optimizer\\optimizer.py:449: UserWarning:\n",
      "\n",
      "The objective has been evaluated at this point before.\n",
      "\n"
     ]
    },
    {
     "name": "stdout",
     "output_type": "stream",
     "text": [
      "****Función de Callback: Score actual ===>>> 0.08694117174029183\n",
      "Iteration No: 57 ended. Search finished for the next optimal point.\n",
      "Time taken: 1.1717\n",
      "Function value obtained: 0.0870\n",
      "Current minimum: 0.0869\n",
      "Iteration No: 58 started. Searching for the next optimal point.\n"
     ]
    },
    {
     "name": "stderr",
     "output_type": "stream",
     "text": [
      "C:\\Users\\josel\\.conda\\envs\\tesis\\lib\\site-packages\\skopt\\optimizer\\optimizer.py:449: UserWarning:\n",
      "\n",
      "The objective has been evaluated at this point before.\n",
      "\n"
     ]
    },
    {
     "name": "stdout",
     "output_type": "stream",
     "text": [
      "****Función de Callback: Score actual ===>>> 0.08694117174029183\n",
      "Iteration No: 58 ended. Search finished for the next optimal point.\n",
      "Time taken: 1.2031\n",
      "Function value obtained: 0.0870\n",
      "Current minimum: 0.0869\n",
      "Iteration No: 59 started. Searching for the next optimal point.\n"
     ]
    },
    {
     "name": "stderr",
     "output_type": "stream",
     "text": [
      "C:\\Users\\josel\\.conda\\envs\\tesis\\lib\\site-packages\\skopt\\optimizer\\optimizer.py:449: UserWarning:\n",
      "\n",
      "The objective has been evaluated at this point before.\n",
      "\n"
     ]
    },
    {
     "name": "stdout",
     "output_type": "stream",
     "text": [
      "****Función de Callback: Score actual ===>>> 0.08694117174029183\n",
      "Iteration No: 59 ended. Search finished for the next optimal point.\n",
      "Time taken: 1.1719\n",
      "Function value obtained: 0.0870\n",
      "Current minimum: 0.0869\n",
      "Iteration No: 60 started. Searching for the next optimal point.\n"
     ]
    },
    {
     "name": "stderr",
     "output_type": "stream",
     "text": [
      "C:\\Users\\josel\\.conda\\envs\\tesis\\lib\\site-packages\\skopt\\optimizer\\optimizer.py:449: UserWarning:\n",
      "\n",
      "The objective has been evaluated at this point before.\n",
      "\n"
     ]
    },
    {
     "name": "stdout",
     "output_type": "stream",
     "text": [
      "****Función de Callback: Score actual ===>>> 0.08694117174029183\n",
      "Iteration No: 60 ended. Search finished for the next optimal point.\n",
      "Time taken: 1.2033\n",
      "Function value obtained: 0.0870\n",
      "Current minimum: 0.0869\n",
      "Iteration No: 61 started. Searching for the next optimal point.\n"
     ]
    },
    {
     "name": "stderr",
     "output_type": "stream",
     "text": [
      "C:\\Users\\josel\\.conda\\envs\\tesis\\lib\\site-packages\\skopt\\optimizer\\optimizer.py:449: UserWarning:\n",
      "\n",
      "The objective has been evaluated at this point before.\n",
      "\n"
     ]
    },
    {
     "name": "stdout",
     "output_type": "stream",
     "text": [
      "****Función de Callback: Score actual ===>>> 0.08694117174029183\n",
      "Iteration No: 61 ended. Search finished for the next optimal point.\n",
      "Time taken: 1.2344\n",
      "Function value obtained: 0.0870\n",
      "Current minimum: 0.0869\n",
      "Iteration No: 62 started. Searching for the next optimal point.\n"
     ]
    },
    {
     "name": "stderr",
     "output_type": "stream",
     "text": [
      "C:\\Users\\josel\\.conda\\envs\\tesis\\lib\\site-packages\\skopt\\optimizer\\optimizer.py:449: UserWarning:\n",
      "\n",
      "The objective has been evaluated at this point before.\n",
      "\n"
     ]
    },
    {
     "name": "stdout",
     "output_type": "stream",
     "text": [
      "****Función de Callback: Score actual ===>>> 0.08694117174029183\n",
      "Iteration No: 62 ended. Search finished for the next optimal point.\n",
      "Time taken: 1.1092\n",
      "Function value obtained: 0.0869\n",
      "Current minimum: 0.0869\n",
      "Iteration No: 63 started. Searching for the next optimal point.\n"
     ]
    },
    {
     "name": "stderr",
     "output_type": "stream",
     "text": [
      "C:\\Users\\josel\\.conda\\envs\\tesis\\lib\\site-packages\\skopt\\optimizer\\optimizer.py:449: UserWarning:\n",
      "\n",
      "The objective has been evaluated at this point before.\n",
      "\n"
     ]
    },
    {
     "name": "stdout",
     "output_type": "stream",
     "text": [
      "****Función de Callback: Score actual ===>>> 0.08694117174029183\n",
      "Iteration No: 63 ended. Search finished for the next optimal point.\n",
      "Time taken: 1.2032\n",
      "Function value obtained: 0.0870\n",
      "Current minimum: 0.0869\n",
      "Iteration No: 64 started. Searching for the next optimal point.\n"
     ]
    },
    {
     "name": "stderr",
     "output_type": "stream",
     "text": [
      "C:\\Users\\josel\\.conda\\envs\\tesis\\lib\\site-packages\\skopt\\optimizer\\optimizer.py:449: UserWarning:\n",
      "\n",
      "The objective has been evaluated at this point before.\n",
      "\n"
     ]
    },
    {
     "name": "stdout",
     "output_type": "stream",
     "text": [
      "****Función de Callback: Score actual ===>>> 0.08694117174029183\n",
      "Iteration No: 64 ended. Search finished for the next optimal point.\n",
      "Time taken: 1.2030\n",
      "Function value obtained: 0.0870\n",
      "Current minimum: 0.0869\n",
      "Iteration No: 65 started. Searching for the next optimal point.\n"
     ]
    },
    {
     "name": "stderr",
     "output_type": "stream",
     "text": [
      "C:\\Users\\josel\\.conda\\envs\\tesis\\lib\\site-packages\\skopt\\optimizer\\optimizer.py:449: UserWarning:\n",
      "\n",
      "The objective has been evaluated at this point before.\n",
      "\n"
     ]
    },
    {
     "name": "stdout",
     "output_type": "stream",
     "text": [
      "****Función de Callback: Score actual ===>>> 0.08694117174029183\n",
      "Iteration No: 65 ended. Search finished for the next optimal point.\n",
      "Time taken: 1.1875\n",
      "Function value obtained: 0.0870\n",
      "Current minimum: 0.0869\n",
      "Iteration No: 66 started. Searching for the next optimal point.\n"
     ]
    },
    {
     "name": "stderr",
     "output_type": "stream",
     "text": [
      "C:\\Users\\josel\\.conda\\envs\\tesis\\lib\\site-packages\\skopt\\optimizer\\optimizer.py:449: UserWarning:\n",
      "\n",
      "The objective has been evaluated at this point before.\n",
      "\n"
     ]
    },
    {
     "name": "stdout",
     "output_type": "stream",
     "text": [
      "****Función de Callback: Score actual ===>>> 0.08694117174029183\n",
      "Iteration No: 66 ended. Search finished for the next optimal point.\n",
      "Time taken: 1.2499\n",
      "Function value obtained: 0.0870\n",
      "Current minimum: 0.0869\n",
      "Iteration No: 67 started. Searching for the next optimal point.\n"
     ]
    },
    {
     "name": "stderr",
     "output_type": "stream",
     "text": [
      "C:\\Users\\josel\\.conda\\envs\\tesis\\lib\\site-packages\\skopt\\optimizer\\optimizer.py:449: UserWarning:\n",
      "\n",
      "The objective has been evaluated at this point before.\n",
      "\n"
     ]
    },
    {
     "name": "stdout",
     "output_type": "stream",
     "text": [
      "****Función de Callback: Score actual ===>>> 0.08694117174029183\n",
      "Iteration No: 67 ended. Search finished for the next optimal point.\n",
      "Time taken: 1.2344\n",
      "Function value obtained: 0.0870\n",
      "Current minimum: 0.0869\n",
      "Iteration No: 68 started. Searching for the next optimal point.\n"
     ]
    },
    {
     "name": "stderr",
     "output_type": "stream",
     "text": [
      "C:\\Users\\josel\\.conda\\envs\\tesis\\lib\\site-packages\\skopt\\optimizer\\optimizer.py:449: UserWarning:\n",
      "\n",
      "The objective has been evaluated at this point before.\n",
      "\n"
     ]
    },
    {
     "name": "stdout",
     "output_type": "stream",
     "text": [
      "****Función de Callback: Score actual ===>>> 0.08694117174029183\n",
      "Iteration No: 68 ended. Search finished for the next optimal point.\n",
      "Time taken: 1.2969\n",
      "Function value obtained: 0.0870\n",
      "Current minimum: 0.0869\n",
      "Iteration No: 69 started. Searching for the next optimal point.\n"
     ]
    },
    {
     "name": "stderr",
     "output_type": "stream",
     "text": [
      "C:\\Users\\josel\\.conda\\envs\\tesis\\lib\\site-packages\\skopt\\optimizer\\optimizer.py:449: UserWarning:\n",
      "\n",
      "The objective has been evaluated at this point before.\n",
      "\n"
     ]
    },
    {
     "name": "stdout",
     "output_type": "stream",
     "text": [
      "****Función de Callback: Score actual ===>>> 0.08694117174029183\n",
      "Iteration No: 69 ended. Search finished for the next optimal point.\n",
      "Time taken: 1.2813\n",
      "Function value obtained: 0.0870\n",
      "Current minimum: 0.0869\n",
      "Iteration No: 70 started. Searching for the next optimal point.\n"
     ]
    },
    {
     "name": "stderr",
     "output_type": "stream",
     "text": [
      "C:\\Users\\josel\\.conda\\envs\\tesis\\lib\\site-packages\\skopt\\optimizer\\optimizer.py:449: UserWarning:\n",
      "\n",
      "The objective has been evaluated at this point before.\n",
      "\n"
     ]
    },
    {
     "name": "stdout",
     "output_type": "stream",
     "text": [
      "****Función de Callback: Score actual ===>>> 0.08694117174029183\n",
      "Iteration No: 70 ended. Search finished for the next optimal point.\n",
      "Time taken: 1.2658\n",
      "Function value obtained: 0.0870\n",
      "Current minimum: 0.0869\n",
      "Iteration No: 71 started. Searching for the next optimal point.\n"
     ]
    },
    {
     "name": "stderr",
     "output_type": "stream",
     "text": [
      "C:\\Users\\josel\\.conda\\envs\\tesis\\lib\\site-packages\\skopt\\optimizer\\optimizer.py:449: UserWarning:\n",
      "\n",
      "The objective has been evaluated at this point before.\n",
      "\n"
     ]
    },
    {
     "name": "stdout",
     "output_type": "stream",
     "text": [
      "****Función de Callback: Score actual ===>>> 0.08694117174029183\n",
      "Iteration No: 71 ended. Search finished for the next optimal point.\n",
      "Time taken: 1.2656\n",
      "Function value obtained: 0.0870\n",
      "Current minimum: 0.0869\n",
      "Iteration No: 72 started. Searching for the next optimal point.\n"
     ]
    },
    {
     "name": "stderr",
     "output_type": "stream",
     "text": [
      "C:\\Users\\josel\\.conda\\envs\\tesis\\lib\\site-packages\\skopt\\optimizer\\optimizer.py:449: UserWarning:\n",
      "\n",
      "The objective has been evaluated at this point before.\n",
      "\n"
     ]
    },
    {
     "name": "stdout",
     "output_type": "stream",
     "text": [
      "****Función de Callback: Score actual ===>>> 0.08694117174029183\n",
      "Iteration No: 72 ended. Search finished for the next optimal point.\n",
      "Time taken: 1.3592\n",
      "Function value obtained: 0.0870\n",
      "Current minimum: 0.0869\n",
      "Iteration No: 73 started. Searching for the next optimal point.\n"
     ]
    },
    {
     "name": "stderr",
     "output_type": "stream",
     "text": [
      "C:\\Users\\josel\\.conda\\envs\\tesis\\lib\\site-packages\\skopt\\optimizer\\optimizer.py:449: UserWarning:\n",
      "\n",
      "The objective has been evaluated at this point before.\n",
      "\n"
     ]
    },
    {
     "name": "stdout",
     "output_type": "stream",
     "text": [
      "****Función de Callback: Score actual ===>>> 0.08694117174029183\n",
      "Iteration No: 73 ended. Search finished for the next optimal point.\n",
      "Time taken: 1.3282\n",
      "Function value obtained: 0.0870\n",
      "Current minimum: 0.0869\n",
      "Iteration No: 74 started. Searching for the next optimal point.\n"
     ]
    },
    {
     "name": "stderr",
     "output_type": "stream",
     "text": [
      "C:\\Users\\josel\\.conda\\envs\\tesis\\lib\\site-packages\\skopt\\optimizer\\optimizer.py:449: UserWarning:\n",
      "\n",
      "The objective has been evaluated at this point before.\n",
      "\n"
     ]
    },
    {
     "name": "stdout",
     "output_type": "stream",
     "text": [
      "****Función de Callback: Score actual ===>>> 0.08694117174029183\n",
      "Iteration No: 74 ended. Search finished for the next optimal point.\n",
      "Time taken: 1.2342\n",
      "Function value obtained: 0.0869\n",
      "Current minimum: 0.0869\n",
      "Iteration No: 75 started. Searching for the next optimal point.\n"
     ]
    },
    {
     "name": "stderr",
     "output_type": "stream",
     "text": [
      "C:\\Users\\josel\\.conda\\envs\\tesis\\lib\\site-packages\\skopt\\optimizer\\optimizer.py:449: UserWarning:\n",
      "\n",
      "The objective has been evaluated at this point before.\n",
      "\n"
     ]
    },
    {
     "name": "stdout",
     "output_type": "stream",
     "text": [
      "****Función de Callback: Score actual ===>>> 0.08694117174029183\n",
      "Iteration No: 75 ended. Search finished for the next optimal point.\n",
      "Time taken: 1.3438\n",
      "Function value obtained: 0.0869\n",
      "Current minimum: 0.0869\n",
      "Iteration No: 76 started. Searching for the next optimal point.\n"
     ]
    },
    {
     "name": "stderr",
     "output_type": "stream",
     "text": [
      "C:\\Users\\josel\\.conda\\envs\\tesis\\lib\\site-packages\\skopt\\optimizer\\optimizer.py:449: UserWarning:\n",
      "\n",
      "The objective has been evaluated at this point before.\n",
      "\n"
     ]
    },
    {
     "name": "stdout",
     "output_type": "stream",
     "text": [
      "****Función de Callback: Score actual ===>>> 0.08694117174029183\n",
      "Iteration No: 76 ended. Search finished for the next optimal point.\n",
      "Time taken: 1.3593\n",
      "Function value obtained: 0.0870\n",
      "Current minimum: 0.0869\n",
      "Iteration No: 77 started. Searching for the next optimal point.\n"
     ]
    },
    {
     "name": "stderr",
     "output_type": "stream",
     "text": [
      "C:\\Users\\josel\\.conda\\envs\\tesis\\lib\\site-packages\\skopt\\optimizer\\optimizer.py:449: UserWarning:\n",
      "\n",
      "The objective has been evaluated at this point before.\n",
      "\n"
     ]
    },
    {
     "name": "stdout",
     "output_type": "stream",
     "text": [
      "****Función de Callback: Score actual ===>>> 0.08694117174029183\n",
      "Iteration No: 77 ended. Search finished for the next optimal point.\n",
      "Time taken: 1.3750\n",
      "Function value obtained: 0.0870\n",
      "Current minimum: 0.0869\n",
      "Iteration No: 78 started. Searching for the next optimal point.\n"
     ]
    },
    {
     "name": "stderr",
     "output_type": "stream",
     "text": [
      "C:\\Users\\josel\\.conda\\envs\\tesis\\lib\\site-packages\\skopt\\optimizer\\optimizer.py:449: UserWarning:\n",
      "\n",
      "The objective has been evaluated at this point before.\n",
      "\n"
     ]
    },
    {
     "name": "stdout",
     "output_type": "stream",
     "text": [
      "****Función de Callback: Score actual ===>>> 0.08694117174029183\n",
      "Iteration No: 78 ended. Search finished for the next optimal point.\n",
      "Time taken: 1.3906\n",
      "Function value obtained: 0.0870\n",
      "Current minimum: 0.0869\n",
      "Iteration No: 79 started. Searching for the next optimal point.\n"
     ]
    },
    {
     "name": "stderr",
     "output_type": "stream",
     "text": [
      "C:\\Users\\josel\\.conda\\envs\\tesis\\lib\\site-packages\\skopt\\optimizer\\optimizer.py:449: UserWarning:\n",
      "\n",
      "The objective has been evaluated at this point before.\n",
      "\n"
     ]
    },
    {
     "name": "stdout",
     "output_type": "stream",
     "text": [
      "****Función de Callback: Score actual ===>>> 0.08694117174029183\n",
      "Iteration No: 79 ended. Search finished for the next optimal point.\n",
      "Time taken: 1.3909\n",
      "Function value obtained: 0.0870\n",
      "Current minimum: 0.0869\n",
      "Iteration No: 80 started. Searching for the next optimal point.\n"
     ]
    },
    {
     "name": "stderr",
     "output_type": "stream",
     "text": [
      "C:\\Users\\josel\\.conda\\envs\\tesis\\lib\\site-packages\\skopt\\optimizer\\optimizer.py:449: UserWarning:\n",
      "\n",
      "The objective has been evaluated at this point before.\n",
      "\n"
     ]
    },
    {
     "name": "stdout",
     "output_type": "stream",
     "text": [
      "****Función de Callback: Score actual ===>>> 0.08694117174029183\n",
      "Iteration No: 80 ended. Search finished for the next optimal point.\n",
      "Time taken: 1.4843\n",
      "Function value obtained: 0.0869\n",
      "Current minimum: 0.0869\n",
      "Iteration No: 81 started. Searching for the next optimal point.\n"
     ]
    },
    {
     "name": "stderr",
     "output_type": "stream",
     "text": [
      "C:\\Users\\josel\\.conda\\envs\\tesis\\lib\\site-packages\\skopt\\optimizer\\optimizer.py:449: UserWarning:\n",
      "\n",
      "The objective has been evaluated at this point before.\n",
      "\n"
     ]
    },
    {
     "name": "stdout",
     "output_type": "stream",
     "text": [
      "****Función de Callback: Score actual ===>>> 0.08694117174029183\n",
      "Iteration No: 81 ended. Search finished for the next optimal point.\n",
      "Time taken: 1.3436\n",
      "Function value obtained: 0.0870\n",
      "Current minimum: 0.0869\n",
      "Iteration No: 82 started. Searching for the next optimal point.\n"
     ]
    },
    {
     "name": "stderr",
     "output_type": "stream",
     "text": [
      "C:\\Users\\josel\\.conda\\envs\\tesis\\lib\\site-packages\\skopt\\optimizer\\optimizer.py:449: UserWarning:\n",
      "\n",
      "The objective has been evaluated at this point before.\n",
      "\n"
     ]
    },
    {
     "name": "stdout",
     "output_type": "stream",
     "text": [
      "****Función de Callback: Score actual ===>>> 0.08694117174029183\n",
      "Iteration No: 82 ended. Search finished for the next optimal point.\n",
      "Time taken: 1.4067\n",
      "Function value obtained: 0.0870\n",
      "Current minimum: 0.0869\n",
      "Iteration No: 83 started. Searching for the next optimal point.\n"
     ]
    },
    {
     "name": "stderr",
     "output_type": "stream",
     "text": [
      "C:\\Users\\josel\\.conda\\envs\\tesis\\lib\\site-packages\\skopt\\optimizer\\optimizer.py:449: UserWarning:\n",
      "\n",
      "The objective has been evaluated at this point before.\n",
      "\n"
     ]
    },
    {
     "name": "stdout",
     "output_type": "stream",
     "text": [
      "****Función de Callback: Score actual ===>>> 0.08694117174029183\n",
      "Iteration No: 83 ended. Search finished for the next optimal point.\n",
      "Time taken: 1.4527\n",
      "Function value obtained: 0.0870\n",
      "Current minimum: 0.0869\n",
      "Iteration No: 84 started. Searching for the next optimal point.\n",
      "****Función de Callback: Score actual ===>>> 0.08694117174029183\n",
      "Iteration No: 84 ended. Search finished for the next optimal point.\n",
      "Time taken: 1.3594\n",
      "Function value obtained: 0.0869\n",
      "Current minimum: 0.0869\n",
      "Iteration No: 85 started. Searching for the next optimal point.\n"
     ]
    },
    {
     "name": "stderr",
     "output_type": "stream",
     "text": [
      "C:\\Users\\josel\\.conda\\envs\\tesis\\lib\\site-packages\\skopt\\optimizer\\optimizer.py:449: UserWarning:\n",
      "\n",
      "The objective has been evaluated at this point before.\n",
      "\n"
     ]
    },
    {
     "name": "stdout",
     "output_type": "stream",
     "text": [
      "****Función de Callback: Score actual ===>>> 0.08694117174029183\n",
      "Iteration No: 85 ended. Search finished for the next optimal point.\n",
      "Time taken: 1.4062\n",
      "Function value obtained: 0.0870\n",
      "Current minimum: 0.0869\n",
      "Iteration No: 86 started. Searching for the next optimal point.\n"
     ]
    },
    {
     "name": "stderr",
     "output_type": "stream",
     "text": [
      "C:\\Users\\josel\\.conda\\envs\\tesis\\lib\\site-packages\\skopt\\optimizer\\optimizer.py:449: UserWarning:\n",
      "\n",
      "The objective has been evaluated at this point before.\n",
      "\n"
     ]
    },
    {
     "name": "stdout",
     "output_type": "stream",
     "text": [
      "****Función de Callback: Score actual ===>>> 0.08694117174029183\n",
      "Iteration No: 86 ended. Search finished for the next optimal point.\n",
      "Time taken: 1.4531\n",
      "Function value obtained: 0.0870\n",
      "Current minimum: 0.0869\n",
      "Iteration No: 87 started. Searching for the next optimal point.\n"
     ]
    },
    {
     "name": "stderr",
     "output_type": "stream",
     "text": [
      "C:\\Users\\josel\\.conda\\envs\\tesis\\lib\\site-packages\\skopt\\optimizer\\optimizer.py:449: UserWarning:\n",
      "\n",
      "The objective has been evaluated at this point before.\n",
      "\n"
     ]
    },
    {
     "name": "stdout",
     "output_type": "stream",
     "text": [
      "****Función de Callback: Score actual ===>>> 0.08694117174029183\n",
      "Iteration No: 87 ended. Search finished for the next optimal point.\n",
      "Time taken: 1.4531\n",
      "Function value obtained: 0.0870\n",
      "Current minimum: 0.0869\n",
      "Iteration No: 88 started. Searching for the next optimal point.\n"
     ]
    },
    {
     "name": "stderr",
     "output_type": "stream",
     "text": [
      "C:\\Users\\josel\\.conda\\envs\\tesis\\lib\\site-packages\\skopt\\optimizer\\optimizer.py:449: UserWarning:\n",
      "\n",
      "The objective has been evaluated at this point before.\n",
      "\n"
     ]
    },
    {
     "name": "stdout",
     "output_type": "stream",
     "text": [
      "****Función de Callback: Score actual ===>>> 0.08694117174029183\n",
      "Iteration No: 88 ended. Search finished for the next optimal point.\n",
      "Time taken: 1.5005\n",
      "Function value obtained: 0.0870\n",
      "Current minimum: 0.0869\n",
      "Iteration No: 89 started. Searching for the next optimal point.\n"
     ]
    },
    {
     "name": "stderr",
     "output_type": "stream",
     "text": [
      "C:\\Users\\josel\\.conda\\envs\\tesis\\lib\\site-packages\\skopt\\optimizer\\optimizer.py:449: UserWarning:\n",
      "\n",
      "The objective has been evaluated at this point before.\n",
      "\n"
     ]
    },
    {
     "name": "stdout",
     "output_type": "stream",
     "text": [
      "****Función de Callback: Score actual ===>>> 0.08694117174029183\n",
      "Iteration No: 89 ended. Search finished for the next optimal point.\n",
      "Time taken: 1.4569\n",
      "Function value obtained: 0.0870\n",
      "Current minimum: 0.0869\n",
      "Iteration No: 90 started. Searching for the next optimal point.\n"
     ]
    },
    {
     "name": "stderr",
     "output_type": "stream",
     "text": [
      "C:\\Users\\josel\\.conda\\envs\\tesis\\lib\\site-packages\\skopt\\optimizer\\optimizer.py:449: UserWarning:\n",
      "\n",
      "The objective has been evaluated at this point before.\n",
      "\n"
     ]
    },
    {
     "name": "stdout",
     "output_type": "stream",
     "text": [
      "****Función de Callback: Score actual ===>>> 0.08694117174029183\n",
      "Iteration No: 90 ended. Search finished for the next optimal point.\n",
      "Time taken: 1.4489\n",
      "Function value obtained: 0.0870\n",
      "Current minimum: 0.0869\n",
      "Iteration No: 91 started. Searching for the next optimal point.\n"
     ]
    },
    {
     "name": "stderr",
     "output_type": "stream",
     "text": [
      "C:\\Users\\josel\\.conda\\envs\\tesis\\lib\\site-packages\\skopt\\optimizer\\optimizer.py:449: UserWarning:\n",
      "\n",
      "The objective has been evaluated at this point before.\n",
      "\n"
     ]
    },
    {
     "name": "stdout",
     "output_type": "stream",
     "text": [
      "****Función de Callback: Score actual ===>>> 0.08694117174029183\n",
      "Iteration No: 91 ended. Search finished for the next optimal point.\n",
      "Time taken: 1.6012\n",
      "Function value obtained: 0.0870\n",
      "Current minimum: 0.0869\n",
      "Iteration No: 92 started. Searching for the next optimal point.\n"
     ]
    },
    {
     "name": "stderr",
     "output_type": "stream",
     "text": [
      "C:\\Users\\josel\\.conda\\envs\\tesis\\lib\\site-packages\\skopt\\optimizer\\optimizer.py:449: UserWarning:\n",
      "\n",
      "The objective has been evaluated at this point before.\n",
      "\n"
     ]
    },
    {
     "name": "stdout",
     "output_type": "stream",
     "text": [
      "****Función de Callback: Score actual ===>>> 0.08694117174029183\n",
      "Iteration No: 92 ended. Search finished for the next optimal point.\n",
      "Time taken: 1.6802\n",
      "Function value obtained: 0.0870\n",
      "Current minimum: 0.0869\n",
      "Iteration No: 93 started. Searching for the next optimal point.\n",
      "****Función de Callback: Score actual ===>>> 0.08694117174029183\n",
      "Iteration No: 93 ended. Search finished for the next optimal point.\n",
      "Time taken: 1.6406\n",
      "Function value obtained: 0.0944\n",
      "Current minimum: 0.0869\n",
      "Iteration No: 94 started. Searching for the next optimal point.\n"
     ]
    },
    {
     "name": "stderr",
     "output_type": "stream",
     "text": [
      "C:\\Users\\josel\\.conda\\envs\\tesis\\lib\\site-packages\\skopt\\optimizer\\optimizer.py:449: UserWarning:\n",
      "\n",
      "The objective has been evaluated at this point before.\n",
      "\n"
     ]
    },
    {
     "name": "stdout",
     "output_type": "stream",
     "text": [
      "****Función de Callback: Score actual ===>>> 0.08694117174029183\n",
      "Iteration No: 94 ended. Search finished for the next optimal point.\n",
      "Time taken: 1.8441\n",
      "Function value obtained: 0.0870\n",
      "Current minimum: 0.0869\n",
      "Iteration No: 95 started. Searching for the next optimal point.\n"
     ]
    },
    {
     "name": "stderr",
     "output_type": "stream",
     "text": [
      "C:\\Users\\josel\\.conda\\envs\\tesis\\lib\\site-packages\\skopt\\optimizer\\optimizer.py:449: UserWarning:\n",
      "\n",
      "The objective has been evaluated at this point before.\n",
      "\n"
     ]
    },
    {
     "name": "stdout",
     "output_type": "stream",
     "text": [
      "****Función de Callback: Score actual ===>>> 0.08694117174029183\n",
      "Iteration No: 95 ended. Search finished for the next optimal point.\n",
      "Time taken: 1.7499\n",
      "Function value obtained: 0.0870\n",
      "Current minimum: 0.0869\n",
      "Iteration No: 96 started. Searching for the next optimal point.\n"
     ]
    },
    {
     "name": "stderr",
     "output_type": "stream",
     "text": [
      "C:\\Users\\josel\\.conda\\envs\\tesis\\lib\\site-packages\\skopt\\optimizer\\optimizer.py:449: UserWarning:\n",
      "\n",
      "The objective has been evaluated at this point before.\n",
      "\n"
     ]
    },
    {
     "name": "stdout",
     "output_type": "stream",
     "text": [
      "****Función de Callback: Score actual ===>>> 0.08694117174029183\n",
      "Iteration No: 96 ended. Search finished for the next optimal point.\n",
      "Time taken: 1.6565\n",
      "Function value obtained: 0.0870\n",
      "Current minimum: 0.0869\n",
      "Iteration No: 97 started. Searching for the next optimal point.\n"
     ]
    },
    {
     "name": "stderr",
     "output_type": "stream",
     "text": [
      "C:\\Users\\josel\\.conda\\envs\\tesis\\lib\\site-packages\\skopt\\optimizer\\optimizer.py:449: UserWarning:\n",
      "\n",
      "The objective has been evaluated at this point before.\n",
      "\n"
     ]
    },
    {
     "name": "stdout",
     "output_type": "stream",
     "text": [
      "****Función de Callback: Score actual ===>>> 0.08694117174029183\n",
      "Iteration No: 97 ended. Search finished for the next optimal point.\n",
      "Time taken: 1.7652\n",
      "Function value obtained: 0.0870\n",
      "Current minimum: 0.0869\n",
      "Iteration No: 98 started. Searching for the next optimal point.\n"
     ]
    },
    {
     "name": "stderr",
     "output_type": "stream",
     "text": [
      "C:\\Users\\josel\\.conda\\envs\\tesis\\lib\\site-packages\\skopt\\optimizer\\optimizer.py:449: UserWarning:\n",
      "\n",
      "The objective has been evaluated at this point before.\n",
      "\n"
     ]
    },
    {
     "name": "stdout",
     "output_type": "stream",
     "text": [
      "****Función de Callback: Score actual ===>>> 0.08694117174029183\n",
      "Iteration No: 98 ended. Search finished for the next optimal point.\n",
      "Time taken: 1.6716\n",
      "Function value obtained: 0.0870\n",
      "Current minimum: 0.0869\n",
      "Iteration No: 99 started. Searching for the next optimal point.\n"
     ]
    },
    {
     "name": "stderr",
     "output_type": "stream",
     "text": [
      "C:\\Users\\josel\\.conda\\envs\\tesis\\lib\\site-packages\\skopt\\optimizer\\optimizer.py:449: UserWarning:\n",
      "\n",
      "The objective has been evaluated at this point before.\n",
      "\n"
     ]
    },
    {
     "name": "stdout",
     "output_type": "stream",
     "text": [
      "****Función de Callback: Score actual ===>>> 0.08694117174029183\n",
      "Iteration No: 99 ended. Search finished for the next optimal point.\n",
      "Time taken: 1.7346\n",
      "Function value obtained: 0.0870\n",
      "Current minimum: 0.0869\n",
      "Iteration No: 100 started. Searching for the next optimal point.\n"
     ]
    },
    {
     "name": "stderr",
     "output_type": "stream",
     "text": [
      "C:\\Users\\josel\\.conda\\envs\\tesis\\lib\\site-packages\\skopt\\optimizer\\optimizer.py:449: UserWarning:\n",
      "\n",
      "The objective has been evaluated at this point before.\n",
      "\n"
     ]
    },
    {
     "name": "stdout",
     "output_type": "stream",
     "text": [
      "****Función de Callback: Score actual ===>>> 0.08694117174029183\n",
      "Iteration No: 100 ended. Search finished for the next optimal point.\n",
      "Time taken: 1.8278\n",
      "Function value obtained: 0.0870\n",
      "Current minimum: 0.0869\n"
     ]
    }
   ],
   "source": [
    "from skopt import gp_minimize\n",
    "\n",
    "######### Número de iteraciones de optimización\n",
    "ITERACIONES = 100\n",
    "\n",
    "res_gp = gp_minimize(func=funcion_objetivo, \n",
    "                     dimensions=grilla_parametros, \n",
    "                     n_calls=ITERACIONES,\n",
    "                     callback=funcion_callback, \n",
    "                     random_state=170162,\n",
    "#                      initial_point_generator = 'lhs', #[random, sobol, halton, hammersly, lhs]\n",
    "#                      acq_func = 'gp_hedge', #[gp_hedge, LCB, EI, PI, EIps, PIps]\n",
    "#                      acq_optimizer = 'auto', #[lbfgs, sampling, auto]\n",
    "#                      n_points=15000, \n",
    "                     verbose=True,\n",
    "                     n_jobs=-1\n",
    "                     )"
   ]
  },
  {
   "cell_type": "markdown",
   "id": "97d3158e",
   "metadata": {},
   "source": [
    "#### Progreso de la optimización "
   ]
  },
  {
   "cell_type": "code",
   "execution_count": 72,
   "id": "11eb2eaf",
   "metadata": {},
   "outputs": [
    {
     "data": {
      "image/png": "[encoded data removed]",
      "text/plain": [
       "<Figure size 1152x288 with 1 Axes>"
      ]
     },
     "metadata": {
      "needs_background": "light"
     },
     "output_type": "display_data"
    }
   ],
   "source": [
    "# Grafico el progreso de la minimización\n",
    "from skopt.plots import plot_convergence\n",
    "\n",
    "plt.rcParams['figure.figsize'] = (16, 4)\n",
    "ax = plot_convergence(res_gp)\n",
    "#ax.set_title(regresor.__class__.__name__ + ' Optimización Bayesiana')\n",
    "fig = ax.get_figure()\n",
    "#fig.savefig(path_grabacion + nombre_modelo + ' Optimización Bayesiana' + '.jpg')"
   ]
  },
  {
   "cell_type": "markdown",
   "id": "665732c7",
   "metadata": {},
   "source": [
    "#### Parámetros optimizados"
   ]
  },
  {
   "cell_type": "code",
   "execution_count": 73,
   "id": "a4968474",
   "metadata": {},
   "outputs": [
    {
     "name": "stdout",
     "output_type": "stream",
     "text": [
      "\n",
      "Mejores parámetros: {'n_jobs': -1, 'n_neighbors': 4, 'p': 3, 'weights': 'distance', 'algorithm': 'brute', 'metric': 'euclidean'}\n"
     ]
    }
   ],
   "source": [
    "# Los mejores parámetros encontrados en la optimización\n",
    "best_params={**parametros_fijos, **dict(list(zip(res_gp.space.dimension_names, res_gp.x)))}\n",
    "print('\\nMejores parámetros:', best_params)"
   ]
  },
  {
   "cell_type": "markdown",
   "id": "51e40c68",
   "metadata": {},
   "source": [
    "#### Regresiono con los nuevos parámetros"
   ]
  },
  {
   "cell_type": "code",
   "execution_count": 74,
   "id": "84481935",
   "metadata": {},
   "outputs": [
    {
     "data": {
      "application/vnd.plotly.v1+json": {
       "config": {
        "linkText": "Export to plot.ly",
        "plotlyServerURL": "https://plot.ly",
        "showLink": true
       },
       "data": [
        {
         "line": {
          "color": "rgba(255, 153, 51, 1.0)",
          "dash": "solid",
          "shape": "linear",
          "width": 1.3
         },
         "marker": {
          "size": 5,
          "symbol": "circle"
         },
         "mode": "lines+markers",
         "name": "SALTO",
         "text": "",
         "type": "scatter",
         "x": [
          "2021-03-11",
          "2021-03-12",
          "2021-03-13",
          "2021-03-14",
          "2021-03-15",
          "2021-03-16",
          "2021-03-17",
          "2021-03-18",
          "2021-03-19",
          "2021-03-20",
          "2021-03-21",
          "2021-03-22",
          "2021-03-23",
          "2021-03-24",
          "2021-03-25",
          "2021-03-26",
          "2021-03-27",
          "2021-03-28",
          "2021-03-29",
          "2021-03-30",
          "2021-03-31",
          "2021-04-01",
          "2021-04-02",
          "2021-04-03",
          "2021-04-04",
          "2021-04-05",
          "2021-04-06",
          "2021-04-07",
          "2021-04-08",
          "2021-04-09",
          "2021-04-10",
          "2021-04-11",
          "2021-04-12",
          "2021-04-13",
          "2021-04-14",
          "2021-04-15",
          "2021-04-16",
          "2021-04-17",
          "2021-04-18",
          "2021-04-19",
          "2021-04-20",
          "2021-04-21",
          "2021-04-22",
          "2021-04-23",
          "2021-04-24",
          "2021-04-25",
          "2021-04-26",
          "2021-04-27",
          "2021-04-28",
          "2021-04-29",
          "2021-04-30",
          "2021-05-01",
          "2021-05-02",
          "2021-05-03",
          "2021-05-04",
          "2021-05-05",
          "2021-05-06",
          "2021-05-07",
          "2021-05-08",
          "2021-05-09",
          "2021-05-10",
          "2021-05-11",
          "2021-05-12",
          "2021-05-13",
          "2021-05-14",
          "2021-05-15",
          "2021-05-16",
          "2021-05-17",
          "2021-05-18",
          "2021-05-19",
          "2021-05-20",
          "2021-05-21",
          "2021-05-22",
          "2021-05-23",
          "2021-05-24",
          "2021-05-25",
          "2021-05-26",
          "2021-05-27",
          "2021-05-28",
          "2021-05-29",
          "2021-05-30",
          "2021-05-31",
          "2021-06-01",
          "2021-06-02",
          "2021-06-03",
          "2021-06-04",
          "2021-06-05",
          "2021-06-06",
          "2021-06-07",
          "2021-06-08",
          "2021-06-09",
          "2021-06-10",
          "2021-06-11",
          "2021-06-12",
          "2021-06-13",
          "2021-06-14",
          "2021-06-15",
          "2021-06-16",
          "2021-06-17",
          "2021-06-18",
          "2021-06-19",
          "2021-06-20",
          "2021-06-21",
          "2021-06-22",
          "2021-06-23",
          "2021-06-24",
          "2021-06-25",
          "2021-06-26",
          "2021-06-27",
          "2021-06-28",
          "2021-06-29",
          "2021-06-30"
         ],
         "y": [
          23.300000000000004,
          23.34,
          23.39,
          23.410000000000004,
          23.29,
          23.169999999999995,
          23.17,
          23.160000000000004,
          23.17,
          23.21,
          23.300000000000004,
          23.28,
          23.2,
          23.24,
          23.25,
          23.28,
          23.39,
          23.47,
          23.239999999999995,
          23.169999999999995,
          23.09,
          23.3,
          23.53000000000001,
          23.660000000000004,
          23.639999999999997,
          23.61,
          23.61,
          23.599999999999994,
          23.599999999999994,
          23.59,
          23.630000000000003,
          23.620000000000005,
          23.669999999999995,
          23.68,
          23.72000000000001,
          23.77,
          23.800000000000004,
          23.82,
          23.85,
          23.840000000000003,
          23.85000000000001,
          23.77000000000001,
          23.75,
          23.72000000000001,
          23.68,
          23.760000000000005,
          23.64,
          23.67,
          23.629999999999995,
          23.65,
          23.73,
          23.770000000000003,
          23.770000000000003,
          23.789999999999992,
          23.76,
          23.78000000000001,
          23.760000000000005,
          23.78,
          23.78,
          23.8,
          23.72000000000001,
          23.7,
          23.680000000000007,
          23.67,
          23.66,
          23.71999999999999,
          23.72000000000001,
          23.70000000000001,
          23.72,
          23.73,
          23.750000000000007,
          23.760000000000005,
          23.72000000000001,
          23.73,
          23.8,
          23.78,
          23.52000000000001,
          23.090000000000003,
          23.010000000000005,
          23.270000000000003,
          23.570000000000007,
          23.749999999999996,
          23.90000000000001,
          23.88000000000001,
          23.89,
          23.90000000000001,
          23.86,
          23.889999999999997,
          23.8,
          23.750000000000007,
          23.739999999999995,
          23.7,
          23.660000000000004,
          23.74,
          23.770000000000003,
          23.75,
          23.730000000000004,
          23.74,
          23.709999999999997,
          23.709999999999997,
          23.77,
          23.79,
          23.790000000000006,
          23.8,
          23.849999999999994,
          23.84,
          23.85,
          23.840000000000003,
          23.840000000000003,
          23.860000000000007,
          23.860000000000007,
          23.889999999999997
         ]
        },
        {
         "line": {
          "color": "rgba(55, 128, 191, 1.0)",
          "dash": "solid",
          "shape": "linear",
          "width": 1.3
         },
         "marker": {
          "size": 5,
          "symbol": "circle"
         },
         "mode": "lines+markers",
         "name": "SALTO_pred",
         "text": "",
         "type": "scatter",
         "x": [
          "2021-03-11",
          "2021-03-12",
          "2021-03-13",
          "2021-03-14",
          "2021-03-15",
          "2021-03-16",
          "2021-03-17",
          "2021-03-18",
          "2021-03-19",
          "2021-03-20",
          "2021-03-21",
          "2021-03-22",
          "2021-03-23",
          "2021-03-24",
          "2021-03-25",
          "2021-03-26",
          "2021-03-27",
          "2021-03-28",
          "2021-03-29",
          "2021-03-30",
          "2021-03-31",
          "2021-04-01",
          "2021-04-02",
          "2021-04-03",
          "2021-04-04",
          "2021-04-05",
          "2021-04-06",
          "2021-04-07",
          "2021-04-08",
          "2021-04-09",
          "2021-04-10",
          "2021-04-11",
          "2021-04-12",
          "2021-04-13",
          "2021-04-14",
          "2021-04-15",
          "2021-04-16",
          "2021-04-17",
          "2021-04-18",
          "2021-04-19",
          "2021-04-20",
          "2021-04-21",
          "2021-04-22",
          "2021-04-23",
          "2021-04-24",
          "2021-04-25",
          "2021-04-26",
          "2021-04-27",
          "2021-04-28",
          "2021-04-29",
          "2021-04-30",
          "2021-05-01",
          "2021-05-02",
          "2021-05-03",
          "2021-05-04",
          "2021-05-05",
          "2021-05-06",
          "2021-05-07",
          "2021-05-08",
          "2021-05-09",
          "2021-05-10",
          "2021-05-11",
          "2021-05-12",
          "2021-05-13",
          "2021-05-14",
          "2021-05-15",
          "2021-05-16",
          "2021-05-17",
          "2021-05-18",
          "2021-05-19",
          "2021-05-20",
          "2021-05-21",
          "2021-05-22",
          "2021-05-23",
          "2021-05-24",
          "2021-05-25",
          "2021-05-26",
          "2021-05-27",
          "2021-05-28",
          "2021-05-29",
          "2021-05-30",
          "2021-05-31",
          "2021-06-01",
          "2021-06-02",
          "2021-06-03",
          "2021-06-04",
          "2021-06-05",
          "2021-06-06",
          "2021-06-07",
          "2021-06-08",
          "2021-06-09",
          "2021-06-10",
          "2021-06-11",
          "2021-06-12",
          "2021-06-13",
          "2021-06-14",
          "2021-06-15",
          "2021-06-16",
          "2021-06-17",
          "2021-06-18",
          "2021-06-19",
          "2021-06-20",
          "2021-06-21",
          "2021-06-22",
          "2021-06-23",
          "2021-06-24",
          "2021-06-25",
          "2021-06-26",
          "2021-06-27",
          "2021-06-28",
          "2021-06-29",
          "2021-06-30"
         ],
         "y": [
          "",
          "",
          "",
          "",
          "",
          "",
          "",
          "",
          "",
          "",
          "",
          "",
          "",
          "",
          "",
          "",
          "",
          "",
          "",
          "",
          "",
          "",
          "",
          "",
          "",
          "",
          "",
          "",
          "",
          "",
          "",
          "",
          "",
          "",
          "",
          "",
          "",
          "",
          "",
          "",
          "",
          "",
          "",
          "",
          "",
          "",
          "",
          "",
          "",
          "",
          "",
          "",
          "",
          "",
          "",
          "",
          23.774788338490957,
          23.775086471442556,
          23.76470789284094,
          23.737418935257995,
          23.73448618564718,
          23.699874916175208,
          23.68825218853716,
          23.67372200892729,
          23.64777431255709,
          23.670630076696114,
          23.696632598748096,
          23.732868022568688,
          23.76592686914228,
          23.773307860291244,
          23.774990681333126,
          23.774650215227574,
          23.774731062993872,
          23.775159186546237,
          23.77494539562444,
          23.76345213296008,
          23.735398005568413,
          23.70081724213893,
          23.700521104533305,
          23.687414944073954,
          23.647705116962417,
          23.668502678632734,
          23.69263366326915,
          23.72907322589068,
          23.764288709468453,
          23.773181431360676,
          23.775330156523896,
          23.774700313194817,
          23.77459650405753,
          23.77514913951351,
          23.774948775066495,
          23.764298843786545,
          23.737005543536238,
          23.73402544814886,
          23.700281839997228,
          23.68753082449561,
          23.673396508098207,
          23.66817056410329,
          23.692569465153777,
          23.69962319056076,
          23.73451143170792,
          23.76680785097589,
          23.77311712430312,
          23.77502032134201,
          23.774675731141016,
          23.77477943000427,
          23.775117460653288,
          23.774913466453157,
          23.76356043265017,
          23.735562483044284,
          23.700649235145416,
          23.700293494750305
         ]
        }
       ],
       "layout": {
        "height": 350,
        "legend": {
         "bgcolor": "#F5F6F9",
         "font": {
          "color": "#4D5663"
         }
        },
        "paper_bgcolor": "#F5F6F9",
        "plot_bgcolor": "#F5F6F9",
        "template": {
         "data": {
          "bar": [
           {
            "error_x": {
             "color": "#2a3f5f"
            },
            "error_y": {
             "color": "#2a3f5f"
            },
            "marker": {
             "line": {
              "color": "#E5ECF6",
              "width": 0.5
             },
             "pattern": {
              "fillmode": "overlay",
              "size": 10,
              "solidity": 0.2
             }
            },
            "type": "bar"
           }
          ],
          "barpolar": [
           {
            "marker": {
             "line": {
              "color": "#E5ECF6",
              "width": 0.5
             },
             "pattern": {
              "fillmode": "overlay",
              "size": 10,
              "solidity": 0.2
             }
            },
            "type": "barpolar"
           }
          ],
          "carpet": [
           {
            "aaxis": {
             "endlinecolor": "#2a3f5f",
             "gridcolor": "white",
             "linecolor": "white",
             "minorgridcolor": "white",
             "startlinecolor": "#2a3f5f"
            },
            "baxis": {
             "endlinecolor": "#2a3f5f",
             "gridcolor": "white",
             "linecolor": "white",
             "minorgridcolor": "white",
             "startlinecolor": "#2a3f5f"
            },
            "type": "carpet"
           }
          ],
          "choropleth": [
           {
            "colorbar": {
             "outlinewidth": 0,
             "ticks": ""
            },
            "type": "choropleth"
           }
          ],
          "contour": [
           {
            "colorbar": {
             "outlinewidth": 0,
             "ticks": ""
            },
            "colorscale": [
             [
              0,
              "#0d0887"
             ],
             [
              0.1111111111111111,
              "#46039f"
             ],
             [
              0.2222222222222222,
              "#7201a8"
             ],
             [
              0.3333333333333333,
              "#9c179e"
             ],
             [
              0.4444444444444444,
              "#bd3786"
             ],
             [
              0.5555555555555556,
              "#d8576b"
             ],
             [
              0.6666666666666666,
              "#ed7953"
             ],
             [
              0.7777777777777778,
              "#fb9f3a"
             ],
             [
              0.8888888888888888,
              "#fdca26"
             ],
             [
              1,
              "#f0f921"
             ]
            ],
            "type": "contour"
           }
          ],
          "contourcarpet": [
           {
            "colorbar": {
             "outlinewidth": 0,
             "ticks": ""
            },
            "type": "contourcarpet"
           }
          ],
          "heatmap": [
           {
            "colorbar": {
             "outlinewidth": 0,
             "ticks": ""
            },
            "colorscale": [
             [
              0,
              "#0d0887"
             ],
             [
              0.1111111111111111,
              "#46039f"
             ],
             [
              0.2222222222222222,
              "#7201a8"
             ],
             [
              0.3333333333333333,
              "#9c179e"
             ],
             [
              0.4444444444444444,
              "#bd3786"
             ],
             [
              0.5555555555555556,
              "#d8576b"
             ],
             [
              0.6666666666666666,
              "#ed7953"
             ],
             [
              0.7777777777777778,
              "#fb9f3a"
             ],
             [
              0.8888888888888888,
              "#fdca26"
             ],
             [
              1,
              "#f0f921"
             ]
            ],
            "type": "heatmap"
           }
          ],
          "heatmapgl": [
           {
            "colorbar": {
             "outlinewidth": 0,
             "ticks": ""
            },
            "colorscale": [
             [
              0,
              "#0d0887"
             ],
             [
              0.1111111111111111,
              "#46039f"
             ],
             [
              0.2222222222222222,
              "#7201a8"
             ],
             [
              0.3333333333333333,
              "#9c179e"
             ],
             [
              0.4444444444444444,
              "#bd3786"
             ],
             [
              0.5555555555555556,
              "#d8576b"
             ],
             [
              0.6666666666666666,
              "#ed7953"
             ],
             [
              0.7777777777777778,
              "#fb9f3a"
             ],
             [
              0.8888888888888888,
              "#fdca26"
             ],
             [
              1,
              "#f0f921"
             ]
            ],
            "type": "heatmapgl"
           }
          ],
          "histogram": [
           {
            "marker": {
             "pattern": {
              "fillmode": "overlay",
              "size": 10,
              "solidity": 0.2
             }
            },
            "type": "histogram"
           }
          ],
          "histogram2d": [
           {
            "colorbar": {
             "outlinewidth": 0,
             "ticks": ""
            },
            "colorscale": [
             [
              0,
              "#0d0887"
             ],
             [
              0.1111111111111111,
              "#46039f"
             ],
             [
              0.2222222222222222,
              "#7201a8"
             ],
             [
              0.3333333333333333,
              "#9c179e"
             ],
             [
              0.4444444444444444,
              "#bd3786"
             ],
             [
              0.5555555555555556,
              "#d8576b"
             ],
             [
              0.6666666666666666,
              "#ed7953"
             ],
             [
              0.7777777777777778,
              "#fb9f3a"
             ],
             [
              0.8888888888888888,
              "#fdca26"
             ],
             [
              1,
              "#f0f921"
             ]
            ],
            "type": "histogram2d"
           }
          ],
          "histogram2dcontour": [
           {
            "colorbar": {
             "outlinewidth": 0,
             "ticks": ""
            },
            "colorscale": [
             [
              0,
              "#0d0887"
             ],
             [
              0.1111111111111111,
              "#46039f"
             ],
             [
              0.2222222222222222,
              "#7201a8"
             ],
             [
              0.3333333333333333,
              "#9c179e"
             ],
             [
              0.4444444444444444,
              "#bd3786"
             ],
             [
              0.5555555555555556,
              "#d8576b"
             ],
             [
              0.6666666666666666,
              "#ed7953"
             ],
             [
              0.7777777777777778,
              "#fb9f3a"
             ],
             [
              0.8888888888888888,
              "#fdca26"
             ],
             [
              1,
              "#f0f921"
             ]
            ],
            "type": "histogram2dcontour"
           }
          ],
          "mesh3d": [
           {
            "colorbar": {
             "outlinewidth": 0,
             "ticks": ""
            },
            "type": "mesh3d"
           }
          ],
          "parcoords": [
           {
            "line": {
             "colorbar": {
              "outlinewidth": 0,
              "ticks": ""
             }
            },
            "type": "parcoords"
           }
          ],
          "pie": [
           {
            "automargin": true,
            "type": "pie"
           }
          ],
          "scatter": [
           {
            "marker": {
             "colorbar": {
              "outlinewidth": 0,
              "ticks": ""
             }
            },
            "type": "scatter"
           }
          ],
          "scatter3d": [
           {
            "line": {
             "colorbar": {
              "outlinewidth": 0,
              "ticks": ""
             }
            },
            "marker": {
             "colorbar": {
              "outlinewidth": 0,
              "ticks": ""
             }
            },
            "type": "scatter3d"
           }
          ],
          "scattercarpet": [
           {
            "marker": {
             "colorbar": {
              "outlinewidth": 0,
              "ticks": ""
             }
            },
            "type": "scattercarpet"
           }
          ],
          "scattergeo": [
           {
            "marker": {
             "colorbar": {
              "outlinewidth": 0,
              "ticks": ""
             }
            },
            "type": "scattergeo"
           }
          ],
          "scattergl": [
           {
            "marker": {
             "colorbar": {
              "outlinewidth": 0,
              "ticks": ""
             }
            },
            "type": "scattergl"
           }
          ],
          "scattermapbox": [
           {
            "marker": {
             "colorbar": {
              "outlinewidth": 0,
              "ticks": ""
             }
            },
            "type": "scattermapbox"
           }
          ],
          "scatterpolar": [
           {
            "marker": {
             "colorbar": {
              "outlinewidth": 0,
              "ticks": ""
             }
            },
            "type": "scatterpolar"
           }
          ],
          "scatterpolargl": [
           {
            "marker": {
             "colorbar": {
              "outlinewidth": 0,
              "ticks": ""
             }
            },
            "type": "scatterpolargl"
           }
          ],
          "scatterternary": [
           {
            "marker": {
             "colorbar": {
              "outlinewidth": 0,
              "ticks": ""
             }
            },
            "type": "scatterternary"
           }
          ],
          "surface": [
           {
            "colorbar": {
             "outlinewidth": 0,
             "ticks": ""
            },
            "colorscale": [
             [
              0,
              "#0d0887"
             ],
             [
              0.1111111111111111,
              "#46039f"
             ],
             [
              0.2222222222222222,
              "#7201a8"
             ],
             [
              0.3333333333333333,
              "#9c179e"
             ],
             [
              0.4444444444444444,
              "#bd3786"
             ],
             [
              0.5555555555555556,
              "#d8576b"
             ],
             [
              0.6666666666666666,
              "#ed7953"
             ],
             [
              0.7777777777777778,
              "#fb9f3a"
             ],
             [
              0.8888888888888888,
              "#fdca26"
             ],
             [
              1,
              "#f0f921"
             ]
            ],
            "type": "surface"
           }
          ],
          "table": [
           {
            "cells": {
             "fill": {
              "color": "#EBF0F8"
             },
             "line": {
              "color": "white"
             }
            },
            "header": {
             "fill": {
              "color": "#C8D4E3"
             },
             "line": {
              "color": "white"
             }
            },
            "type": "table"
           }
          ]
         },
         "layout": {
          "annotationdefaults": {
           "arrowcolor": "#2a3f5f",
           "arrowhead": 0,
           "arrowwidth": 1
          },
          "autotypenumbers": "strict",
          "coloraxis": {
           "colorbar": {
            "outlinewidth": 0,
            "ticks": ""
           }
          },
          "colorscale": {
           "diverging": [
            [
             0,
             "#8e0152"
            ],
            [
             0.1,
             "#c51b7d"
            ],
            [
             0.2,
             "#de77ae"
            ],
            [
             0.3,
             "#f1b6da"
            ],
            [
             0.4,
             "#fde0ef"
            ],
            [
             0.5,
             "#f7f7f7"
            ],
            [
             0.6,
             "#e6f5d0"
            ],
            [
             0.7,
             "#b8e186"
            ],
            [
             0.8,
             "#7fbc41"
            ],
            [
             0.9,
             "#4d9221"
            ],
            [
             1,
             "#276419"
            ]
           ],
           "sequential": [
            [
             0,
             "#0d0887"
            ],
            [
             0.1111111111111111,
             "#46039f"
            ],
            [
             0.2222222222222222,
             "#7201a8"
            ],
            [
             0.3333333333333333,
             "#9c179e"
            ],
            [
             0.4444444444444444,
             "#bd3786"
            ],
            [
             0.5555555555555556,
             "#d8576b"
            ],
            [
             0.6666666666666666,
             "#ed7953"
            ],
            [
             0.7777777777777778,
             "#fb9f3a"
            ],
            [
             0.8888888888888888,
             "#fdca26"
            ],
            [
             1,
             "#f0f921"
            ]
           ],
           "sequentialminus": [
            [
             0,
             "#0d0887"
            ],
            [
             0.1111111111111111,
             "#46039f"
            ],
            [
             0.2222222222222222,
             "#7201a8"
            ],
            [
             0.3333333333333333,
             "#9c179e"
            ],
            [
             0.4444444444444444,
             "#bd3786"
            ],
            [
             0.5555555555555556,
             "#d8576b"
            ],
            [
             0.6666666666666666,
             "#ed7953"
            ],
            [
             0.7777777777777778,
             "#fb9f3a"
            ],
            [
             0.8888888888888888,
             "#fdca26"
            ],
            [
             1,
             "#f0f921"
            ]
           ]
          },
          "colorway": [
           "#636efa",
           "#EF553B",
           "#00cc96",
           "#ab63fa",
           "#FFA15A",
           "#19d3f3",
           "#FF6692",
           "#B6E880",
           "#FF97FF",
           "#FECB52"
          ],
          "font": {
           "color": "#2a3f5f"
          },
          "geo": {
           "bgcolor": "white",
           "lakecolor": "white",
           "landcolor": "#E5ECF6",
           "showlakes": true,
           "showland": true,
           "subunitcolor": "white"
          },
          "hoverlabel": {
           "align": "left"
          },
          "hovermode": "closest",
          "mapbox": {
           "style": "light"
          },
          "paper_bgcolor": "white",
          "plot_bgcolor": "#E5ECF6",
          "polar": {
           "angularaxis": {
            "gridcolor": "white",
            "linecolor": "white",
            "ticks": ""
           },
           "bgcolor": "#E5ECF6",
           "radialaxis": {
            "gridcolor": "white",
            "linecolor": "white",
            "ticks": ""
           }
          },
          "scene": {
           "xaxis": {
            "backgroundcolor": "#E5ECF6",
            "gridcolor": "white",
            "gridwidth": 2,
            "linecolor": "white",
            "showbackground": true,
            "ticks": "",
            "zerolinecolor": "white"
           },
           "yaxis": {
            "backgroundcolor": "#E5ECF6",
            "gridcolor": "white",
            "gridwidth": 2,
            "linecolor": "white",
            "showbackground": true,
            "ticks": "",
            "zerolinecolor": "white"
           },
           "zaxis": {
            "backgroundcolor": "#E5ECF6",
            "gridcolor": "white",
            "gridwidth": 2,
            "linecolor": "white",
            "showbackground": true,
            "ticks": "",
            "zerolinecolor": "white"
           }
          },
          "shapedefaults": {
           "line": {
            "color": "#2a3f5f"
           }
          },
          "ternary": {
           "aaxis": {
            "gridcolor": "white",
            "linecolor": "white",
            "ticks": ""
           },
           "baxis": {
            "gridcolor": "white",
            "linecolor": "white",
            "ticks": ""
           },
           "bgcolor": "#E5ECF6",
           "caxis": {
            "gridcolor": "white",
            "linecolor": "white",
            "ticks": ""
           }
          },
          "title": {
           "x": 0.05
          },
          "xaxis": {
           "automargin": true,
           "gridcolor": "white",
           "linecolor": "white",
           "ticks": "",
           "title": {
            "standoff": 15
           },
           "zerolinecolor": "white",
           "zerolinewidth": 2
          },
          "yaxis": {
           "automargin": true,
           "gridcolor": "white",
           "linecolor": "white",
           "ticks": "",
           "title": {
            "standoff": 15
           },
           "zerolinecolor": "white",
           "zerolinewidth": 2
          }
         }
        },
        "title": {
         "font": {
          "color": "#4D5663"
         },
         "text": "Modelo por desplazamiento: KNeighborsRegressor, 20 lags, pronóstico a 56 dias, MAE: 0.0869"
        },
        "width": 950,
        "xaxis": {
         "gridcolor": "#E1E5ED",
         "showgrid": true,
         "tickfont": {
          "color": "#4D5663"
         },
         "title": {
          "font": {
           "color": "#4D5663"
          },
          "text": "Fecha"
         },
         "zerolinecolor": "#E1E5ED"
        },
        "yaxis": {
         "gridcolor": "#E1E5ED",
         "showgrid": true,
         "tickfont": {
          "color": "#4D5663"
         },
         "title": {
          "font": {
           "color": "#4D5663"
          },
          "text": "metros"
         },
         "zerolinecolor": "#E1E5ED"
        }
       }
      },
      "text/html": [
       "<div>                            <div id=\"6af40c83-af61-441d-93b2-a517e8f4e40a\" class=\"plotly-graph-div\" style=\"height:350px; width:950px;\"></div>            <script type=\"text/javascript\">                require([\"plotly\"], function(Plotly) {                    window.PLOTLYENV=window.PLOTLYENV || {};\n",
       "                    window.PLOTLYENV.BASE_URL='https://plot.ly';                                    if (document.getElementById(\"6af40c83-af61-441d-93b2-a517e8f4e40a\")) {                    Plotly.newPlot(                        \"6af40c83-af61-441d-93b2-a517e8f4e40a\",                        [{\"line\":{\"color\":\"rgba(255, 153, 51, 1.0)\",\"dash\":\"solid\",\"shape\":\"linear\",\"width\":1.3},\"marker\":{\"size\":5.0,\"symbol\":\"circle\"},\"mode\":\"lines+markers\",\"name\":\"SALTO\",\"text\":\"\",\"x\":[\"2021-03-11\",\"2021-03-12\",\"2021-03-13\",\"2021-03-14\",\"2021-03-15\",\"2021-03-16\",\"2021-03-17\",\"2021-03-18\",\"2021-03-19\",\"2021-03-20\",\"2021-03-21\",\"2021-03-22\",\"2021-03-23\",\"2021-03-24\",\"2021-03-25\",\"2021-03-26\",\"2021-03-27\",\"2021-03-28\",\"2021-03-29\",\"2021-03-30\",\"2021-03-31\",\"2021-04-01\",\"2021-04-02\",\"2021-04-03\",\"2021-04-04\",\"2021-04-05\",\"2021-04-06\",\"2021-04-07\",\"2021-04-08\",\"2021-04-09\",\"2021-04-10\",\"2021-04-11\",\"2021-04-12\",\"2021-04-13\",\"2021-04-14\",\"2021-04-15\",\"2021-04-16\",\"2021-04-17\",\"2021-04-18\",\"2021-04-19\",\"2021-04-20\",\"2021-04-21\",\"2021-04-22\",\"2021-04-23\",\"2021-04-24\",\"2021-04-25\",\"2021-04-26\",\"2021-04-27\",\"2021-04-28\",\"2021-04-29\",\"2021-04-30\",\"2021-05-01\",\"2021-05-02\",\"2021-05-03\",\"2021-05-04\",\"2021-05-05\",\"2021-05-06\",\"2021-05-07\",\"2021-05-08\",\"2021-05-09\",\"2021-05-10\",\"2021-05-11\",\"2021-05-12\",\"2021-05-13\",\"2021-05-14\",\"2021-05-15\",\"2021-05-16\",\"2021-05-17\",\"2021-05-18\",\"2021-05-19\",\"2021-05-20\",\"2021-05-21\",\"2021-05-22\",\"2021-05-23\",\"2021-05-24\",\"2021-05-25\",\"2021-05-26\",\"2021-05-27\",\"2021-05-28\",\"2021-05-29\",\"2021-05-30\",\"2021-05-31\",\"2021-06-01\",\"2021-06-02\",\"2021-06-03\",\"2021-06-04\",\"2021-06-05\",\"2021-06-06\",\"2021-06-07\",\"2021-06-08\",\"2021-06-09\",\"2021-06-10\",\"2021-06-11\",\"2021-06-12\",\"2021-06-13\",\"2021-06-14\",\"2021-06-15\",\"2021-06-16\",\"2021-06-17\",\"2021-06-18\",\"2021-06-19\",\"2021-06-20\",\"2021-06-21\",\"2021-06-22\",\"2021-06-23\",\"2021-06-24\",\"2021-06-25\",\"2021-06-26\",\"2021-06-27\",\"2021-06-28\",\"2021-06-29\",\"2021-06-30\"],\"y\":[23.300000000000004,23.34,23.39,23.410000000000004,23.29,23.169999999999995,23.17,23.160000000000004,23.17,23.21,23.300000000000004,23.28,23.2,23.24,23.25,23.28,23.39,23.47,23.239999999999995,23.169999999999995,23.09,23.3,23.53000000000001,23.660000000000004,23.639999999999997,23.61,23.61,23.599999999999994,23.599999999999994,23.59,23.630000000000003,23.620000000000005,23.669999999999995,23.68,23.72000000000001,23.77,23.800000000000004,23.82,23.85,23.840000000000003,23.85000000000001,23.77000000000001,23.75,23.72000000000001,23.68,23.760000000000005,23.64,23.67,23.629999999999995,23.65,23.73,23.770000000000003,23.770000000000003,23.789999999999992,23.76,23.78000000000001,23.760000000000005,23.78,23.78,23.8,23.72000000000001,23.7,23.680000000000007,23.67,23.66,23.71999999999999,23.72000000000001,23.70000000000001,23.72,23.73,23.750000000000007,23.760000000000005,23.72000000000001,23.73,23.8,23.78,23.52000000000001,23.090000000000003,23.010000000000005,23.270000000000003,23.570000000000007,23.749999999999996,23.90000000000001,23.88000000000001,23.89,23.90000000000001,23.86,23.889999999999997,23.8,23.750000000000007,23.739999999999995,23.7,23.660000000000004,23.74,23.770000000000003,23.75,23.730000000000004,23.74,23.709999999999997,23.709999999999997,23.77,23.79,23.790000000000006,23.8,23.849999999999994,23.84,23.85,23.840000000000003,23.840000000000003,23.860000000000007,23.860000000000007,23.889999999999997],\"type\":\"scatter\"},{\"line\":{\"color\":\"rgba(55, 128, 191, 1.0)\",\"dash\":\"solid\",\"shape\":\"linear\",\"width\":1.3},\"marker\":{\"size\":5.0,\"symbol\":\"circle\"},\"mode\":\"lines+markers\",\"name\":\"SALTO_pred\",\"text\":\"\",\"x\":[\"2021-03-11\",\"2021-03-12\",\"2021-03-13\",\"2021-03-14\",\"2021-03-15\",\"2021-03-16\",\"2021-03-17\",\"2021-03-18\",\"2021-03-19\",\"2021-03-20\",\"2021-03-21\",\"2021-03-22\",\"2021-03-23\",\"2021-03-24\",\"2021-03-25\",\"2021-03-26\",\"2021-03-27\",\"2021-03-28\",\"2021-03-29\",\"2021-03-30\",\"2021-03-31\",\"2021-04-01\",\"2021-04-02\",\"2021-04-03\",\"2021-04-04\",\"2021-04-05\",\"2021-04-06\",\"2021-04-07\",\"2021-04-08\",\"2021-04-09\",\"2021-04-10\",\"2021-04-11\",\"2021-04-12\",\"2021-04-13\",\"2021-04-14\",\"2021-04-15\",\"2021-04-16\",\"2021-04-17\",\"2021-04-18\",\"2021-04-19\",\"2021-04-20\",\"2021-04-21\",\"2021-04-22\",\"2021-04-23\",\"2021-04-24\",\"2021-04-25\",\"2021-04-26\",\"2021-04-27\",\"2021-04-28\",\"2021-04-29\",\"2021-04-30\",\"2021-05-01\",\"2021-05-02\",\"2021-05-03\",\"2021-05-04\",\"2021-05-05\",\"2021-05-06\",\"2021-05-07\",\"2021-05-08\",\"2021-05-09\",\"2021-05-10\",\"2021-05-11\",\"2021-05-12\",\"2021-05-13\",\"2021-05-14\",\"2021-05-15\",\"2021-05-16\",\"2021-05-17\",\"2021-05-18\",\"2021-05-19\",\"2021-05-20\",\"2021-05-21\",\"2021-05-22\",\"2021-05-23\",\"2021-05-24\",\"2021-05-25\",\"2021-05-26\",\"2021-05-27\",\"2021-05-28\",\"2021-05-29\",\"2021-05-30\",\"2021-05-31\",\"2021-06-01\",\"2021-06-02\",\"2021-06-03\",\"2021-06-04\",\"2021-06-05\",\"2021-06-06\",\"2021-06-07\",\"2021-06-08\",\"2021-06-09\",\"2021-06-10\",\"2021-06-11\",\"2021-06-12\",\"2021-06-13\",\"2021-06-14\",\"2021-06-15\",\"2021-06-16\",\"2021-06-17\",\"2021-06-18\",\"2021-06-19\",\"2021-06-20\",\"2021-06-21\",\"2021-06-22\",\"2021-06-23\",\"2021-06-24\",\"2021-06-25\",\"2021-06-26\",\"2021-06-27\",\"2021-06-28\",\"2021-06-29\",\"2021-06-30\"],\"y\":[\"\",\"\",\"\",\"\",\"\",\"\",\"\",\"\",\"\",\"\",\"\",\"\",\"\",\"\",\"\",\"\",\"\",\"\",\"\",\"\",\"\",\"\",\"\",\"\",\"\",\"\",\"\",\"\",\"\",\"\",\"\",\"\",\"\",\"\",\"\",\"\",\"\",\"\",\"\",\"\",\"\",\"\",\"\",\"\",\"\",\"\",\"\",\"\",\"\",\"\",\"\",\"\",\"\",\"\",\"\",\"\",23.774788338490957,23.775086471442556,23.76470789284094,23.737418935257995,23.73448618564718,23.699874916175208,23.68825218853716,23.67372200892729,23.64777431255709,23.670630076696114,23.696632598748096,23.732868022568688,23.76592686914228,23.773307860291244,23.774990681333126,23.774650215227574,23.774731062993872,23.775159186546237,23.77494539562444,23.76345213296008,23.735398005568413,23.70081724213893,23.700521104533305,23.687414944073954,23.647705116962417,23.668502678632734,23.69263366326915,23.72907322589068,23.764288709468453,23.773181431360676,23.775330156523896,23.774700313194817,23.77459650405753,23.77514913951351,23.774948775066495,23.764298843786545,23.737005543536238,23.73402544814886,23.700281839997228,23.68753082449561,23.673396508098207,23.66817056410329,23.692569465153777,23.69962319056076,23.73451143170792,23.76680785097589,23.77311712430312,23.77502032134201,23.774675731141016,23.77477943000427,23.775117460653288,23.774913466453157,23.76356043265017,23.735562483044284,23.700649235145416,23.700293494750305],\"type\":\"scatter\"}],                        {\"height\":350,\"legend\":{\"bgcolor\":\"#F5F6F9\",\"font\":{\"color\":\"#4D5663\"}},\"paper_bgcolor\":\"#F5F6F9\",\"plot_bgcolor\":\"#F5F6F9\",\"template\":{\"data\":{\"barpolar\":[{\"marker\":{\"line\":{\"color\":\"#E5ECF6\",\"width\":0.5},\"pattern\":{\"fillmode\":\"overlay\",\"size\":10,\"solidity\":0.2}},\"type\":\"barpolar\"}],\"bar\":[{\"error_x\":{\"color\":\"#2a3f5f\"},\"error_y\":{\"color\":\"#2a3f5f\"},\"marker\":{\"line\":{\"color\":\"#E5ECF6\",\"width\":0.5},\"pattern\":{\"fillmode\":\"overlay\",\"size\":10,\"solidity\":0.2}},\"type\":\"bar\"}],\"carpet\":[{\"aaxis\":{\"endlinecolor\":\"#2a3f5f\",\"gridcolor\":\"white\",\"linecolor\":\"white\",\"minorgridcolor\":\"white\",\"startlinecolor\":\"#2a3f5f\"},\"baxis\":{\"endlinecolor\":\"#2a3f5f\",\"gridcolor\":\"white\",\"linecolor\":\"white\",\"minorgridcolor\":\"white\",\"startlinecolor\":\"#2a3f5f\"},\"type\":\"carpet\"}],\"choropleth\":[{\"colorbar\":{\"outlinewidth\":0,\"ticks\":\"\"},\"type\":\"choropleth\"}],\"contourcarpet\":[{\"colorbar\":{\"outlinewidth\":0,\"ticks\":\"\"},\"type\":\"contourcarpet\"}],\"contour\":[{\"colorbar\":{\"outlinewidth\":0,\"ticks\":\"\"},\"colorscale\":[[0.0,\"#0d0887\"],[0.1111111111111111,\"#46039f\"],[0.2222222222222222,\"#7201a8\"],[0.3333333333333333,\"#9c179e\"],[0.4444444444444444,\"#bd3786\"],[0.5555555555555556,\"#d8576b\"],[0.6666666666666666,\"#ed7953\"],[0.7777777777777778,\"#fb9f3a\"],[0.8888888888888888,\"#fdca26\"],[1.0,\"#f0f921\"]],\"type\":\"contour\"}],\"heatmapgl\":[{\"colorbar\":{\"outlinewidth\":0,\"ticks\":\"\"},\"colorscale\":[[0.0,\"#0d0887\"],[0.1111111111111111,\"#46039f\"],[0.2222222222222222,\"#7201a8\"],[0.3333333333333333,\"#9c179e\"],[0.4444444444444444,\"#bd3786\"],[0.5555555555555556,\"#d8576b\"],[0.6666666666666666,\"#ed7953\"],[0.7777777777777778,\"#fb9f3a\"],[0.8888888888888888,\"#fdca26\"],[1.0,\"#f0f921\"]],\"type\":\"heatmapgl\"}],\"heatmap\":[{\"colorbar\":{\"outlinewidth\":0,\"ticks\":\"\"},\"colorscale\":[[0.0,\"#0d0887\"],[0.1111111111111111,\"#46039f\"],[0.2222222222222222,\"#7201a8\"],[0.3333333333333333,\"#9c179e\"],[0.4444444444444444,\"#bd3786\"],[0.5555555555555556,\"#d8576b\"],[0.6666666666666666,\"#ed7953\"],[0.7777777777777778,\"#fb9f3a\"],[0.8888888888888888,\"#fdca26\"],[1.0,\"#f0f921\"]],\"type\":\"heatmap\"}],\"histogram2dcontour\":[{\"colorbar\":{\"outlinewidth\":0,\"ticks\":\"\"},\"colorscale\":[[0.0,\"#0d0887\"],[0.1111111111111111,\"#46039f\"],[0.2222222222222222,\"#7201a8\"],[0.3333333333333333,\"#9c179e\"],[0.4444444444444444,\"#bd3786\"],[0.5555555555555556,\"#d8576b\"],[0.6666666666666666,\"#ed7953\"],[0.7777777777777778,\"#fb9f3a\"],[0.8888888888888888,\"#fdca26\"],[1.0,\"#f0f921\"]],\"type\":\"histogram2dcontour\"}],\"histogram2d\":[{\"colorbar\":{\"outlinewidth\":0,\"ticks\":\"\"},\"colorscale\":[[0.0,\"#0d0887\"],[0.1111111111111111,\"#46039f\"],[0.2222222222222222,\"#7201a8\"],[0.3333333333333333,\"#9c179e\"],[0.4444444444444444,\"#bd3786\"],[0.5555555555555556,\"#d8576b\"],[0.6666666666666666,\"#ed7953\"],[0.7777777777777778,\"#fb9f3a\"],[0.8888888888888888,\"#fdca26\"],[1.0,\"#f0f921\"]],\"type\":\"histogram2d\"}],\"histogram\":[{\"marker\":{\"pattern\":{\"fillmode\":\"overlay\",\"size\":10,\"solidity\":0.2}},\"type\":\"histogram\"}],\"mesh3d\":[{\"colorbar\":{\"outlinewidth\":0,\"ticks\":\"\"},\"type\":\"mesh3d\"}],\"parcoords\":[{\"line\":{\"colorbar\":{\"outlinewidth\":0,\"ticks\":\"\"}},\"type\":\"parcoords\"}],\"pie\":[{\"automargin\":true,\"type\":\"pie\"}],\"scatter3d\":[{\"line\":{\"colorbar\":{\"outlinewidth\":0,\"ticks\":\"\"}},\"marker\":{\"colorbar\":{\"outlinewidth\":0,\"ticks\":\"\"}},\"type\":\"scatter3d\"}],\"scattercarpet\":[{\"marker\":{\"colorbar\":{\"outlinewidth\":0,\"ticks\":\"\"}},\"type\":\"scattercarpet\"}],\"scattergeo\":[{\"marker\":{\"colorbar\":{\"outlinewidth\":0,\"ticks\":\"\"}},\"type\":\"scattergeo\"}],\"scattergl\":[{\"marker\":{\"colorbar\":{\"outlinewidth\":0,\"ticks\":\"\"}},\"type\":\"scattergl\"}],\"scattermapbox\":[{\"marker\":{\"colorbar\":{\"outlinewidth\":0,\"ticks\":\"\"}},\"type\":\"scattermapbox\"}],\"scatterpolargl\":[{\"marker\":{\"colorbar\":{\"outlinewidth\":0,\"ticks\":\"\"}},\"type\":\"scatterpolargl\"}],\"scatterpolar\":[{\"marker\":{\"colorbar\":{\"outlinewidth\":0,\"ticks\":\"\"}},\"type\":\"scatterpolar\"}],\"scatter\":[{\"marker\":{\"colorbar\":{\"outlinewidth\":0,\"ticks\":\"\"}},\"type\":\"scatter\"}],\"scatterternary\":[{\"marker\":{\"colorbar\":{\"outlinewidth\":0,\"ticks\":\"\"}},\"type\":\"scatterternary\"}],\"surface\":[{\"colorbar\":{\"outlinewidth\":0,\"ticks\":\"\"},\"colorscale\":[[0.0,\"#0d0887\"],[0.1111111111111111,\"#46039f\"],[0.2222222222222222,\"#7201a8\"],[0.3333333333333333,\"#9c179e\"],[0.4444444444444444,\"#bd3786\"],[0.5555555555555556,\"#d8576b\"],[0.6666666666666666,\"#ed7953\"],[0.7777777777777778,\"#fb9f3a\"],[0.8888888888888888,\"#fdca26\"],[1.0,\"#f0f921\"]],\"type\":\"surface\"}],\"table\":[{\"cells\":{\"fill\":{\"color\":\"#EBF0F8\"},\"line\":{\"color\":\"white\"}},\"header\":{\"fill\":{\"color\":\"#C8D4E3\"},\"line\":{\"color\":\"white\"}},\"type\":\"table\"}]},\"layout\":{\"annotationdefaults\":{\"arrowcolor\":\"#2a3f5f\",\"arrowhead\":0,\"arrowwidth\":1},\"autotypenumbers\":\"strict\",\"coloraxis\":{\"colorbar\":{\"outlinewidth\":0,\"ticks\":\"\"}},\"colorscale\":{\"diverging\":[[0,\"#8e0152\"],[0.1,\"#c51b7d\"],[0.2,\"#de77ae\"],[0.3,\"#f1b6da\"],[0.4,\"#fde0ef\"],[0.5,\"#f7f7f7\"],[0.6,\"#e6f5d0\"],[0.7,\"#b8e186\"],[0.8,\"#7fbc41\"],[0.9,\"#4d9221\"],[1,\"#276419\"]],\"sequential\":[[0.0,\"#0d0887\"],[0.1111111111111111,\"#46039f\"],[0.2222222222222222,\"#7201a8\"],[0.3333333333333333,\"#9c179e\"],[0.4444444444444444,\"#bd3786\"],[0.5555555555555556,\"#d8576b\"],[0.6666666666666666,\"#ed7953\"],[0.7777777777777778,\"#fb9f3a\"],[0.8888888888888888,\"#fdca26\"],[1.0,\"#f0f921\"]],\"sequentialminus\":[[0.0,\"#0d0887\"],[0.1111111111111111,\"#46039f\"],[0.2222222222222222,\"#7201a8\"],[0.3333333333333333,\"#9c179e\"],[0.4444444444444444,\"#bd3786\"],[0.5555555555555556,\"#d8576b\"],[0.6666666666666666,\"#ed7953\"],[0.7777777777777778,\"#fb9f3a\"],[0.8888888888888888,\"#fdca26\"],[1.0,\"#f0f921\"]]},\"colorway\":[\"#636efa\",\"#EF553B\",\"#00cc96\",\"#ab63fa\",\"#FFA15A\",\"#19d3f3\",\"#FF6692\",\"#B6E880\",\"#FF97FF\",\"#FECB52\"],\"font\":{\"color\":\"#2a3f5f\"},\"geo\":{\"bgcolor\":\"white\",\"lakecolor\":\"white\",\"landcolor\":\"#E5ECF6\",\"showlakes\":true,\"showland\":true,\"subunitcolor\":\"white\"},\"hoverlabel\":{\"align\":\"left\"},\"hovermode\":\"closest\",\"mapbox\":{\"style\":\"light\"},\"paper_bgcolor\":\"white\",\"plot_bgcolor\":\"#E5ECF6\",\"polar\":{\"angularaxis\":{\"gridcolor\":\"white\",\"linecolor\":\"white\",\"ticks\":\"\"},\"bgcolor\":\"#E5ECF6\",\"radialaxis\":{\"gridcolor\":\"white\",\"linecolor\":\"white\",\"ticks\":\"\"}},\"scene\":{\"xaxis\":{\"backgroundcolor\":\"#E5ECF6\",\"gridcolor\":\"white\",\"gridwidth\":2,\"linecolor\":\"white\",\"showbackground\":true,\"ticks\":\"\",\"zerolinecolor\":\"white\"},\"yaxis\":{\"backgroundcolor\":\"#E5ECF6\",\"gridcolor\":\"white\",\"gridwidth\":2,\"linecolor\":\"white\",\"showbackground\":true,\"ticks\":\"\",\"zerolinecolor\":\"white\"},\"zaxis\":{\"backgroundcolor\":\"#E5ECF6\",\"gridcolor\":\"white\",\"gridwidth\":2,\"linecolor\":\"white\",\"showbackground\":true,\"ticks\":\"\",\"zerolinecolor\":\"white\"}},\"shapedefaults\":{\"line\":{\"color\":\"#2a3f5f\"}},\"ternary\":{\"aaxis\":{\"gridcolor\":\"white\",\"linecolor\":\"white\",\"ticks\":\"\"},\"baxis\":{\"gridcolor\":\"white\",\"linecolor\":\"white\",\"ticks\":\"\"},\"bgcolor\":\"#E5ECF6\",\"caxis\":{\"gridcolor\":\"white\",\"linecolor\":\"white\",\"ticks\":\"\"}},\"title\":{\"x\":0.05},\"xaxis\":{\"automargin\":true,\"gridcolor\":\"white\",\"linecolor\":\"white\",\"ticks\":\"\",\"title\":{\"standoff\":15},\"zerolinecolor\":\"white\",\"zerolinewidth\":2},\"yaxis\":{\"automargin\":true,\"gridcolor\":\"white\",\"linecolor\":\"white\",\"ticks\":\"\",\"title\":{\"standoff\":15},\"zerolinecolor\":\"white\",\"zerolinewidth\":2}}},\"title\":{\"font\":{\"color\":\"#4D5663\"},\"text\":\"Modelo por desplazamiento: KNeighborsRegressor, 20 lags, pron\\u00f3stico a 56 dias, MAE: 0.0869\"},\"width\":950,\"xaxis\":{\"gridcolor\":\"#E1E5ED\",\"showgrid\":true,\"tickfont\":{\"color\":\"#4D5663\"},\"title\":{\"font\":{\"color\":\"#4D5663\"},\"text\":\"Fecha\"},\"zerolinecolor\":\"#E1E5ED\"},\"yaxis\":{\"gridcolor\":\"#E1E5ED\",\"showgrid\":true,\"tickfont\":{\"color\":\"#4D5663\"},\"title\":{\"font\":{\"color\":\"#4D5663\"},\"text\":\"metros\"},\"zerolinecolor\":\"#E1E5ED\"}},                        {\"showLink\": true, \"linkText\": \"Export to plot.ly\", \"plotlyServerURL\": \"https://plot.ly\", \"responsive\": true}                    ).then(function(){\n",
       "                            \n",
       "var gd = document.getElementById('6af40c83-af61-441d-93b2-a517e8f4e40a');\n",
       "var x = new MutationObserver(function (mutations, observer) {{\n",
       "        var display = window.getComputedStyle(gd).display;\n",
       "        if (!display || display === 'none') {{\n",
       "            console.log([gd, 'removed!']);\n",
       "            Plotly.purge(gd);\n",
       "            observer.disconnect();\n",
       "        }}\n",
       "}});\n",
       "\n",
       "// Listen for the removal of the full notebook cells\n",
       "var notebookContainer = gd.closest('#notebook-container');\n",
       "if (notebookContainer) {{\n",
       "    x.observe(notebookContainer, {childList: true});\n",
       "}}\n",
       "\n",
       "// Listen for the clearing of the current output cell\n",
       "var outputEl = gd.closest('.output');\n",
       "if (outputEl) {{\n",
       "    x.observe(outputEl, {childList: true});\n",
       "}}\n",
       "\n",
       "                        })                };                });            </script>        </div>"
      ]
     },
     "metadata": {},
     "output_type": "display_data"
    }
   ],
   "source": [
    "optimizacion_dict = Pronosticador(regresor \\\n",
    "                  ,parametros=best_params \\\n",
    "                  ,X=X \\\n",
    "                  ,y=y \\\n",
    "                  ,fh=fh \\\n",
    "                  ,lags=lags \\\n",
    "                  ,plot = True\n",
    "                 )"
   ]
  },
  {
   "cell_type": "code",
   "execution_count": 75,
   "id": "9b7587f1",
   "metadata": {},
   "outputs": [
    {
     "name": "stdout",
     "output_type": "stream",
     "text": [
      "fh 56\n",
      "MAE 0.08694117174029183\n",
      "RMSE 0.15562887726565788\n"
     ]
    }
   ],
   "source": [
    "keys = ['fh', 'MAE', 'RMSE']\n",
    "#[resultado_dict.get(key) for key in keys]    \n",
    "\n",
    "for key, value in optimizacion_dict.items():\n",
    "    if key in keys:\n",
    "        print(key, value)"
   ]
  },
  {
   "cell_type": "code",
   "execution_count": null,
   "id": "cb6d8c3d",
   "metadata": {},
   "outputs": [],
   "source": []
  }
 ],
 "metadata": {
  "kernelspec": {
   "display_name": "Python 3 (ipykernel)",
   "language": "python",
   "name": "python3"
  },
  "language_info": {
   "codemirror_mode": {
    "name": "ipython",
    "version": 3
   },
   "file_extension": ".py",
   "mimetype": "text/x-python",
   "name": "python",
   "nbconvert_exporter": "python",
   "pygments_lexer": "ipython3",
   "version": "3.8.12"
  }
 },
 "nbformat": 4,
 "nbformat_minor": 5
}
