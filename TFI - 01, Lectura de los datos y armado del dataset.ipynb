{
 "cells": [
  {
   "cell_type": "markdown",
   "id": "723a030d",
   "metadata": {},
   "source": [
    "# Central Hidroeléctrica Yacyretá\n",
    "## 01 - Lectura de los datos y armado del Dataset\n",
    "### Fecha: 28-Nov-21"
   ]
  },
  {
   "cell_type": "code",
   "execution_count": 1,
   "id": "6610be9f",
   "metadata": {},
   "outputs": [],
   "source": [
    "# Cargo numpy y pandas para trabajar con dataframes\n",
    "import pandas as pd\n",
    "import numpy as np\n",
    "import matplotlib.pyplot as plt\n",
    "from datetime import date"
   ]
  },
  {
   "cell_type": "code",
   "execution_count": 2,
   "id": "639fda68",
   "metadata": {},
   "outputs": [],
   "source": [
    "# Create DataFrame with a single date column  \n",
    "CHY = pd.DataFrame({'FECHA': pd.date_range('2010-01-01', '2021-12-31')}) "
   ]
  },
  {
   "cell_type": "code",
   "execution_count": 3,
   "id": "9add3cdc",
   "metadata": {},
   "outputs": [
    {
     "name": "stdout",
     "output_type": "stream",
     "text": [
      "<class 'pandas.core.frame.DataFrame'>\n",
      "RangeIndex: 4383 entries, 0 to 4382\n",
      "Data columns (total 1 columns):\n",
      " #   Column  Non-Null Count  Dtype         \n",
      "---  ------  --------------  -----         \n",
      " 0   FECHA   4383 non-null   datetime64[ns]\n",
      "dtypes: datetime64[ns](1)\n",
      "memory usage: 34.4 KB\n"
     ]
    }
   ],
   "source": [
    "CHY.info()"
   ]
  },
  {
   "cell_type": "code",
   "execution_count": 4,
   "id": "cf496bd5",
   "metadata": {},
   "outputs": [
    {
     "data": {
      "text/html": [
       "<div>\n",
       "<style scoped>\n",
       "    .dataframe tbody tr th:only-of-type {\n",
       "        vertical-align: middle;\n",
       "    }\n",
       "\n",
       "    .dataframe tbody tr th {\n",
       "        vertical-align: top;\n",
       "    }\n",
       "\n",
       "    .dataframe thead th {\n",
       "        text-align: right;\n",
       "    }\n",
       "</style>\n",
       "<table border=\"1\" class=\"dataframe\">\n",
       "  <thead>\n",
       "    <tr style=\"text-align: right;\">\n",
       "      <th></th>\n",
       "      <th>FECHA</th>\n",
       "    </tr>\n",
       "  </thead>\n",
       "  <tbody>\n",
       "    <tr>\n",
       "      <th>0</th>\n",
       "      <td>2010-01-01</td>\n",
       "    </tr>\n",
       "    <tr>\n",
       "      <th>1</th>\n",
       "      <td>2010-01-02</td>\n",
       "    </tr>\n",
       "    <tr>\n",
       "      <th>2</th>\n",
       "      <td>2010-01-03</td>\n",
       "    </tr>\n",
       "    <tr>\n",
       "      <th>3</th>\n",
       "      <td>2010-01-04</td>\n",
       "    </tr>\n",
       "    <tr>\n",
       "      <th>4</th>\n",
       "      <td>2010-01-05</td>\n",
       "    </tr>\n",
       "    <tr>\n",
       "      <th>...</th>\n",
       "      <td>...</td>\n",
       "    </tr>\n",
       "    <tr>\n",
       "      <th>4378</th>\n",
       "      <td>2021-12-27</td>\n",
       "    </tr>\n",
       "    <tr>\n",
       "      <th>4379</th>\n",
       "      <td>2021-12-28</td>\n",
       "    </tr>\n",
       "    <tr>\n",
       "      <th>4380</th>\n",
       "      <td>2021-12-29</td>\n",
       "    </tr>\n",
       "    <tr>\n",
       "      <th>4381</th>\n",
       "      <td>2021-12-30</td>\n",
       "    </tr>\n",
       "    <tr>\n",
       "      <th>4382</th>\n",
       "      <td>2021-12-31</td>\n",
       "    </tr>\n",
       "  </tbody>\n",
       "</table>\n",
       "<p>4383 rows × 1 columns</p>\n",
       "</div>"
      ],
      "text/plain": [
       "          FECHA\n",
       "0    2010-01-01\n",
       "1    2010-01-02\n",
       "2    2010-01-03\n",
       "3    2010-01-04\n",
       "4    2010-01-05\n",
       "...         ...\n",
       "4378 2021-12-27\n",
       "4379 2021-12-28\n",
       "4380 2021-12-29\n",
       "4381 2021-12-30\n",
       "4382 2021-12-31\n",
       "\n",
       "[4383 rows x 1 columns]"
      ]
     },
     "execution_count": 4,
     "metadata": {},
     "output_type": "execute_result"
    }
   ],
   "source": [
    "CHY"
   ]
  },
  {
   "cell_type": "code",
   "execution_count": 5,
   "id": "e83fbaf1",
   "metadata": {},
   "outputs": [
    {
     "data": {
      "text/plain": [
       "4383"
      ]
     },
     "execution_count": 5,
     "metadata": {},
     "output_type": "execute_result"
    }
   ],
   "source": [
    "# Check all dates are distinct\n",
    "CHY.FECHA.nunique()"
   ]
  },
  {
   "cell_type": "markdown",
   "id": "761cf419",
   "metadata": {},
   "source": [
    "## Cotas de Embalse y de Restitución"
   ]
  },
  {
   "cell_type": "code",
   "execution_count": 6,
   "id": "b98f12c4",
   "metadata": {},
   "outputs": [],
   "source": [
    "# Especifico el nombre del archivo y el path\n",
    "path = './datasets/CHY/'\n",
    "file_name = 'Cota Embalse y Restitución.xlsx'"
   ]
  },
  {
   "cell_type": "code",
   "execution_count": 7,
   "id": "1adee2b8",
   "metadata": {},
   "outputs": [],
   "source": [
    "# Vuelvo a leer el archivo excel, especificando las filas a saltar y las columnas a leer \n",
    "df = pd.read_excel(path + file_name, \n",
    "                   sheet_name = 'Cotas',\n",
    "                   skiprows = range(0, 2),\n",
    "                   usecols = 'C:E')\n",
    "\n",
    "# Renombro algunas columnas\n",
    "df = df.rename(columns={'HEMBC [msnm]': 'COTA_EMBALSE', 'HRES [msnm]': 'COTA_RESTITUCION'})"
   ]
  },
  {
   "cell_type": "code",
   "execution_count": 8,
   "id": "998e4328",
   "metadata": {},
   "outputs": [
    {
     "data": {
      "text/html": [
       "<div>\n",
       "<style scoped>\n",
       "    .dataframe tbody tr th:only-of-type {\n",
       "        vertical-align: middle;\n",
       "    }\n",
       "\n",
       "    .dataframe tbody tr th {\n",
       "        vertical-align: top;\n",
       "    }\n",
       "\n",
       "    .dataframe thead th {\n",
       "        text-align: right;\n",
       "    }\n",
       "</style>\n",
       "<table border=\"1\" class=\"dataframe\">\n",
       "  <thead>\n",
       "    <tr style=\"text-align: right;\">\n",
       "      <th></th>\n",
       "      <th>FECHA</th>\n",
       "      <th>COTA_EMBALSE</th>\n",
       "      <th>COTA_RESTITUCION</th>\n",
       "    </tr>\n",
       "  </thead>\n",
       "  <tbody>\n",
       "    <tr>\n",
       "      <th>0</th>\n",
       "      <td>2011-01-01</td>\n",
       "      <td>82.04</td>\n",
       "      <td>60.17</td>\n",
       "    </tr>\n",
       "    <tr>\n",
       "      <th>1</th>\n",
       "      <td>2011-01-02</td>\n",
       "      <td>82.06</td>\n",
       "      <td>60.17</td>\n",
       "    </tr>\n",
       "    <tr>\n",
       "      <th>2</th>\n",
       "      <td>2011-01-03</td>\n",
       "      <td>82.07</td>\n",
       "      <td>60.12</td>\n",
       "    </tr>\n",
       "    <tr>\n",
       "      <th>3</th>\n",
       "      <td>2011-01-04</td>\n",
       "      <td>82.08</td>\n",
       "      <td>60.12</td>\n",
       "    </tr>\n",
       "    <tr>\n",
       "      <th>4</th>\n",
       "      <td>2011-01-05</td>\n",
       "      <td>82.13</td>\n",
       "      <td>60.08</td>\n",
       "    </tr>\n",
       "    <tr>\n",
       "      <th>...</th>\n",
       "      <td>...</td>\n",
       "      <td>...</td>\n",
       "      <td>...</td>\n",
       "    </tr>\n",
       "    <tr>\n",
       "      <th>3850</th>\n",
       "      <td>2021-07-17</td>\n",
       "      <td>82.86</td>\n",
       "      <td>58.96</td>\n",
       "    </tr>\n",
       "    <tr>\n",
       "      <th>3851</th>\n",
       "      <td>2021-07-18</td>\n",
       "      <td>82.86</td>\n",
       "      <td>59.01</td>\n",
       "    </tr>\n",
       "    <tr>\n",
       "      <th>3852</th>\n",
       "      <td>2021-07-19</td>\n",
       "      <td>82.88</td>\n",
       "      <td>59.01</td>\n",
       "    </tr>\n",
       "    <tr>\n",
       "      <th>3853</th>\n",
       "      <td>2021-07-20</td>\n",
       "      <td>82.88</td>\n",
       "      <td>59.01</td>\n",
       "    </tr>\n",
       "    <tr>\n",
       "      <th>3854</th>\n",
       "      <td>2021-07-21</td>\n",
       "      <td>82.86</td>\n",
       "      <td>58.97</td>\n",
       "    </tr>\n",
       "  </tbody>\n",
       "</table>\n",
       "<p>3855 rows × 3 columns</p>\n",
       "</div>"
      ],
      "text/plain": [
       "          FECHA  COTA_EMBALSE  COTA_RESTITUCION\n",
       "0    2011-01-01         82.04             60.17\n",
       "1    2011-01-02         82.06             60.17\n",
       "2    2011-01-03         82.07             60.12\n",
       "3    2011-01-04         82.08             60.12\n",
       "4    2011-01-05         82.13             60.08\n",
       "...         ...           ...               ...\n",
       "3850 2021-07-17         82.86             58.96\n",
       "3851 2021-07-18         82.86             59.01\n",
       "3852 2021-07-19         82.88             59.01\n",
       "3853 2021-07-20         82.88             59.01\n",
       "3854 2021-07-21         82.86             58.97\n",
       "\n",
       "[3855 rows x 3 columns]"
      ]
     },
     "execution_count": 8,
     "metadata": {},
     "output_type": "execute_result"
    }
   ],
   "source": [
    "df"
   ]
  },
  {
   "cell_type": "code",
   "execution_count": 9,
   "id": "5dec5c54",
   "metadata": {},
   "outputs": [],
   "source": [
    "#CHY = pd.merge(CHY_df, df, how='left', on='FECHA', validate='one_to_one', indicator=True)"
   ]
  },
  {
   "cell_type": "code",
   "execution_count": 10,
   "id": "fd221b72",
   "metadata": {},
   "outputs": [],
   "source": [
    "CHY = CHY.merge(df, how='left', on='FECHA', validate='one_to_one', indicator=True)"
   ]
  },
  {
   "cell_type": "code",
   "execution_count": 11,
   "id": "5f3597c8",
   "metadata": {},
   "outputs": [
    {
     "data": {
      "text/html": [
       "<div>\n",
       "<style scoped>\n",
       "    .dataframe tbody tr th:only-of-type {\n",
       "        vertical-align: middle;\n",
       "    }\n",
       "\n",
       "    .dataframe tbody tr th {\n",
       "        vertical-align: top;\n",
       "    }\n",
       "\n",
       "    .dataframe thead th {\n",
       "        text-align: right;\n",
       "    }\n",
       "</style>\n",
       "<table border=\"1\" class=\"dataframe\">\n",
       "  <thead>\n",
       "    <tr style=\"text-align: right;\">\n",
       "      <th></th>\n",
       "      <th>FECHA</th>\n",
       "      <th>COTA_EMBALSE</th>\n",
       "      <th>COTA_RESTITUCION</th>\n",
       "      <th>_merge</th>\n",
       "    </tr>\n",
       "  </thead>\n",
       "  <tbody>\n",
       "    <tr>\n",
       "      <th>0</th>\n",
       "      <td>2010-01-01</td>\n",
       "      <td>NaN</td>\n",
       "      <td>NaN</td>\n",
       "      <td>left_only</td>\n",
       "    </tr>\n",
       "    <tr>\n",
       "      <th>1</th>\n",
       "      <td>2010-01-02</td>\n",
       "      <td>NaN</td>\n",
       "      <td>NaN</td>\n",
       "      <td>left_only</td>\n",
       "    </tr>\n",
       "    <tr>\n",
       "      <th>2</th>\n",
       "      <td>2010-01-03</td>\n",
       "      <td>NaN</td>\n",
       "      <td>NaN</td>\n",
       "      <td>left_only</td>\n",
       "    </tr>\n",
       "    <tr>\n",
       "      <th>3</th>\n",
       "      <td>2010-01-04</td>\n",
       "      <td>NaN</td>\n",
       "      <td>NaN</td>\n",
       "      <td>left_only</td>\n",
       "    </tr>\n",
       "    <tr>\n",
       "      <th>4</th>\n",
       "      <td>2010-01-05</td>\n",
       "      <td>NaN</td>\n",
       "      <td>NaN</td>\n",
       "      <td>left_only</td>\n",
       "    </tr>\n",
       "    <tr>\n",
       "      <th>...</th>\n",
       "      <td>...</td>\n",
       "      <td>...</td>\n",
       "      <td>...</td>\n",
       "      <td>...</td>\n",
       "    </tr>\n",
       "    <tr>\n",
       "      <th>4378</th>\n",
       "      <td>2021-12-27</td>\n",
       "      <td>NaN</td>\n",
       "      <td>NaN</td>\n",
       "      <td>left_only</td>\n",
       "    </tr>\n",
       "    <tr>\n",
       "      <th>4379</th>\n",
       "      <td>2021-12-28</td>\n",
       "      <td>NaN</td>\n",
       "      <td>NaN</td>\n",
       "      <td>left_only</td>\n",
       "    </tr>\n",
       "    <tr>\n",
       "      <th>4380</th>\n",
       "      <td>2021-12-29</td>\n",
       "      <td>NaN</td>\n",
       "      <td>NaN</td>\n",
       "      <td>left_only</td>\n",
       "    </tr>\n",
       "    <tr>\n",
       "      <th>4381</th>\n",
       "      <td>2021-12-30</td>\n",
       "      <td>NaN</td>\n",
       "      <td>NaN</td>\n",
       "      <td>left_only</td>\n",
       "    </tr>\n",
       "    <tr>\n",
       "      <th>4382</th>\n",
       "      <td>2021-12-31</td>\n",
       "      <td>NaN</td>\n",
       "      <td>NaN</td>\n",
       "      <td>left_only</td>\n",
       "    </tr>\n",
       "  </tbody>\n",
       "</table>\n",
       "<p>4383 rows × 4 columns</p>\n",
       "</div>"
      ],
      "text/plain": [
       "          FECHA  COTA_EMBALSE  COTA_RESTITUCION     _merge\n",
       "0    2010-01-01           NaN               NaN  left_only\n",
       "1    2010-01-02           NaN               NaN  left_only\n",
       "2    2010-01-03           NaN               NaN  left_only\n",
       "3    2010-01-04           NaN               NaN  left_only\n",
       "4    2010-01-05           NaN               NaN  left_only\n",
       "...         ...           ...               ...        ...\n",
       "4378 2021-12-27           NaN               NaN  left_only\n",
       "4379 2021-12-28           NaN               NaN  left_only\n",
       "4380 2021-12-29           NaN               NaN  left_only\n",
       "4381 2021-12-30           NaN               NaN  left_only\n",
       "4382 2021-12-31           NaN               NaN  left_only\n",
       "\n",
       "[4383 rows x 4 columns]"
      ]
     },
     "execution_count": 11,
     "metadata": {},
     "output_type": "execute_result"
    }
   ],
   "source": [
    "CHY"
   ]
  },
  {
   "cell_type": "code",
   "execution_count": 12,
   "id": "b508ce3c",
   "metadata": {},
   "outputs": [
    {
     "data": {
      "text/plain": [
       "both          3855\n",
       "left_only      528\n",
       "right_only       0\n",
       "Name: _merge, dtype: int64"
      ]
     },
     "execution_count": 12,
     "metadata": {},
     "output_type": "execute_result"
    }
   ],
   "source": [
    "CHY._merge.value_counts()"
   ]
  },
  {
   "cell_type": "code",
   "execution_count": 13,
   "id": "27ee6699",
   "metadata": {},
   "outputs": [],
   "source": [
    "# Elimino las columna _merge\n",
    "CHY=CHY.drop(columns=['_merge'])"
   ]
  },
  {
   "cell_type": "code",
   "execution_count": 14,
   "id": "2004d4cd",
   "metadata": {},
   "outputs": [],
   "source": [
    "# Calculo la columna SALTO\n",
    "CHY['SALTO'] = CHY['COTA_EMBALSE'] - CHY['COTA_RESTITUCION']"
   ]
  },
  {
   "cell_type": "code",
   "execution_count": 15,
   "id": "f1c772e6",
   "metadata": {},
   "outputs": [
    {
     "data": {
      "text/html": [
       "<div>\n",
       "<style scoped>\n",
       "    .dataframe tbody tr th:only-of-type {\n",
       "        vertical-align: middle;\n",
       "    }\n",
       "\n",
       "    .dataframe tbody tr th {\n",
       "        vertical-align: top;\n",
       "    }\n",
       "\n",
       "    .dataframe thead th {\n",
       "        text-align: right;\n",
       "    }\n",
       "</style>\n",
       "<table border=\"1\" class=\"dataframe\">\n",
       "  <thead>\n",
       "    <tr style=\"text-align: right;\">\n",
       "      <th></th>\n",
       "      <th>FECHA</th>\n",
       "      <th>COTA_EMBALSE</th>\n",
       "      <th>COTA_RESTITUCION</th>\n",
       "      <th>SALTO</th>\n",
       "    </tr>\n",
       "  </thead>\n",
       "  <tbody>\n",
       "    <tr>\n",
       "      <th>0</th>\n",
       "      <td>2010-01-01</td>\n",
       "      <td>NaN</td>\n",
       "      <td>NaN</td>\n",
       "      <td>NaN</td>\n",
       "    </tr>\n",
       "    <tr>\n",
       "      <th>1</th>\n",
       "      <td>2010-01-02</td>\n",
       "      <td>NaN</td>\n",
       "      <td>NaN</td>\n",
       "      <td>NaN</td>\n",
       "    </tr>\n",
       "    <tr>\n",
       "      <th>2</th>\n",
       "      <td>2010-01-03</td>\n",
       "      <td>NaN</td>\n",
       "      <td>NaN</td>\n",
       "      <td>NaN</td>\n",
       "    </tr>\n",
       "    <tr>\n",
       "      <th>3</th>\n",
       "      <td>2010-01-04</td>\n",
       "      <td>NaN</td>\n",
       "      <td>NaN</td>\n",
       "      <td>NaN</td>\n",
       "    </tr>\n",
       "    <tr>\n",
       "      <th>4</th>\n",
       "      <td>2010-01-05</td>\n",
       "      <td>NaN</td>\n",
       "      <td>NaN</td>\n",
       "      <td>NaN</td>\n",
       "    </tr>\n",
       "    <tr>\n",
       "      <th>...</th>\n",
       "      <td>...</td>\n",
       "      <td>...</td>\n",
       "      <td>...</td>\n",
       "      <td>...</td>\n",
       "    </tr>\n",
       "    <tr>\n",
       "      <th>4378</th>\n",
       "      <td>2021-12-27</td>\n",
       "      <td>NaN</td>\n",
       "      <td>NaN</td>\n",
       "      <td>NaN</td>\n",
       "    </tr>\n",
       "    <tr>\n",
       "      <th>4379</th>\n",
       "      <td>2021-12-28</td>\n",
       "      <td>NaN</td>\n",
       "      <td>NaN</td>\n",
       "      <td>NaN</td>\n",
       "    </tr>\n",
       "    <tr>\n",
       "      <th>4380</th>\n",
       "      <td>2021-12-29</td>\n",
       "      <td>NaN</td>\n",
       "      <td>NaN</td>\n",
       "      <td>NaN</td>\n",
       "    </tr>\n",
       "    <tr>\n",
       "      <th>4381</th>\n",
       "      <td>2021-12-30</td>\n",
       "      <td>NaN</td>\n",
       "      <td>NaN</td>\n",
       "      <td>NaN</td>\n",
       "    </tr>\n",
       "    <tr>\n",
       "      <th>4382</th>\n",
       "      <td>2021-12-31</td>\n",
       "      <td>NaN</td>\n",
       "      <td>NaN</td>\n",
       "      <td>NaN</td>\n",
       "    </tr>\n",
       "  </tbody>\n",
       "</table>\n",
       "<p>4383 rows × 4 columns</p>\n",
       "</div>"
      ],
      "text/plain": [
       "          FECHA  COTA_EMBALSE  COTA_RESTITUCION  SALTO\n",
       "0    2010-01-01           NaN               NaN    NaN\n",
       "1    2010-01-02           NaN               NaN    NaN\n",
       "2    2010-01-03           NaN               NaN    NaN\n",
       "3    2010-01-04           NaN               NaN    NaN\n",
       "4    2010-01-05           NaN               NaN    NaN\n",
       "...         ...           ...               ...    ...\n",
       "4378 2021-12-27           NaN               NaN    NaN\n",
       "4379 2021-12-28           NaN               NaN    NaN\n",
       "4380 2021-12-29           NaN               NaN    NaN\n",
       "4381 2021-12-30           NaN               NaN    NaN\n",
       "4382 2021-12-31           NaN               NaN    NaN\n",
       "\n",
       "[4383 rows x 4 columns]"
      ]
     },
     "execution_count": 15,
     "metadata": {},
     "output_type": "execute_result"
    }
   ],
   "source": [
    "CHY"
   ]
  },
  {
   "cell_type": "markdown",
   "id": "e20362a7",
   "metadata": {},
   "source": [
    "## Caudal Afluente"
   ]
  },
  {
   "cell_type": "code",
   "execution_count": 16,
   "id": "585dbd17",
   "metadata": {},
   "outputs": [],
   "source": [
    "# Especifico el nombre del archivo y el path\n",
    "#path = './datasets/CHY/'\n",
    "\n",
    "file_name = 'Caudal Afluente.xlsx'"
   ]
  },
  {
   "cell_type": "code",
   "execution_count": 17,
   "id": "a5cba0f8",
   "metadata": {},
   "outputs": [],
   "source": [
    "# Leo el archivo, descartando filas y columnas en blanco\n",
    "df = pd.read_excel(path + file_name, header=2).dropna(axis='columns', how='all').dropna(axis='rows', how='all')\n",
    "# Ajusto el nombre de la columna de caudal afluente\n",
    "df.rename(columns={'QAFLR [m3/s]': 'QAFLR'}, inplace = True)\n",
    "#df"
   ]
  },
  {
   "cell_type": "code",
   "execution_count": 18,
   "id": "c0fbb68c",
   "metadata": {},
   "outputs": [
    {
     "name": "stdout",
     "output_type": "stream",
     "text": [
      "<class 'pandas.core.frame.DataFrame'>\n",
      "Int64Index: 3855 entries, 0 to 3854\n",
      "Data columns (total 2 columns):\n",
      " #   Column  Non-Null Count  Dtype         \n",
      "---  ------  --------------  -----         \n",
      " 0   FECHA   3855 non-null   datetime64[ns]\n",
      " 1   QAFLR   3855 non-null   float64       \n",
      "dtypes: datetime64[ns](1), float64(1)\n",
      "memory usage: 90.4 KB\n"
     ]
    }
   ],
   "source": [
    "df.info()"
   ]
  },
  {
   "cell_type": "code",
   "execution_count": 19,
   "id": "5b7267ee",
   "metadata": {},
   "outputs": [
    {
     "data": {
      "text/html": [
       "<div>\n",
       "<style scoped>\n",
       "    .dataframe tbody tr th:only-of-type {\n",
       "        vertical-align: middle;\n",
       "    }\n",
       "\n",
       "    .dataframe tbody tr th {\n",
       "        vertical-align: top;\n",
       "    }\n",
       "\n",
       "    .dataframe thead th {\n",
       "        text-align: right;\n",
       "    }\n",
       "</style>\n",
       "<table border=\"1\" class=\"dataframe\">\n",
       "  <thead>\n",
       "    <tr style=\"text-align: right;\">\n",
       "      <th></th>\n",
       "      <th>FECHA</th>\n",
       "      <th>QAFLR</th>\n",
       "    </tr>\n",
       "  </thead>\n",
       "  <tbody>\n",
       "    <tr>\n",
       "      <th>0</th>\n",
       "      <td>2011-01-01</td>\n",
       "      <td>13936.0</td>\n",
       "    </tr>\n",
       "    <tr>\n",
       "      <th>1</th>\n",
       "      <td>2011-01-02</td>\n",
       "      <td>13267.0</td>\n",
       "    </tr>\n",
       "    <tr>\n",
       "      <th>2</th>\n",
       "      <td>2011-01-03</td>\n",
       "      <td>12670.0</td>\n",
       "    </tr>\n",
       "    <tr>\n",
       "      <th>3</th>\n",
       "      <td>2011-01-04</td>\n",
       "      <td>12909.0</td>\n",
       "    </tr>\n",
       "    <tr>\n",
       "      <th>4</th>\n",
       "      <td>2011-01-05</td>\n",
       "      <td>13787.0</td>\n",
       "    </tr>\n",
       "    <tr>\n",
       "      <th>...</th>\n",
       "      <td>...</td>\n",
       "      <td>...</td>\n",
       "    </tr>\n",
       "    <tr>\n",
       "      <th>3850</th>\n",
       "      <td>2021-07-17</td>\n",
       "      <td>6657.0</td>\n",
       "    </tr>\n",
       "    <tr>\n",
       "      <th>3851</th>\n",
       "      <td>2021-07-18</td>\n",
       "      <td>6520.0</td>\n",
       "    </tr>\n",
       "    <tr>\n",
       "      <th>3852</th>\n",
       "      <td>2021-07-19</td>\n",
       "      <td>6513.0</td>\n",
       "    </tr>\n",
       "    <tr>\n",
       "      <th>3853</th>\n",
       "      <td>2021-07-20</td>\n",
       "      <td>5962.0</td>\n",
       "    </tr>\n",
       "    <tr>\n",
       "      <th>3854</th>\n",
       "      <td>2021-07-21</td>\n",
       "      <td>6315.0</td>\n",
       "    </tr>\n",
       "  </tbody>\n",
       "</table>\n",
       "<p>3855 rows × 2 columns</p>\n",
       "</div>"
      ],
      "text/plain": [
       "          FECHA    QAFLR\n",
       "0    2011-01-01  13936.0\n",
       "1    2011-01-02  13267.0\n",
       "2    2011-01-03  12670.0\n",
       "3    2011-01-04  12909.0\n",
       "4    2011-01-05  13787.0\n",
       "...         ...      ...\n",
       "3850 2021-07-17   6657.0\n",
       "3851 2021-07-18   6520.0\n",
       "3852 2021-07-19   6513.0\n",
       "3853 2021-07-20   5962.0\n",
       "3854 2021-07-21   6315.0\n",
       "\n",
       "[3855 rows x 2 columns]"
      ]
     },
     "execution_count": 19,
     "metadata": {},
     "output_type": "execute_result"
    }
   ],
   "source": [
    "df"
   ]
  },
  {
   "cell_type": "code",
   "execution_count": 20,
   "id": "2d84339e",
   "metadata": {},
   "outputs": [],
   "source": [
    "CHY = CHY.merge(df, how='left', on='FECHA', validate='one_to_one', indicator=True)"
   ]
  },
  {
   "cell_type": "code",
   "execution_count": 21,
   "id": "8a90da5f",
   "metadata": {},
   "outputs": [
    {
     "data": {
      "text/plain": [
       "both          3855\n",
       "left_only      528\n",
       "right_only       0\n",
       "Name: _merge, dtype: int64"
      ]
     },
     "execution_count": 21,
     "metadata": {},
     "output_type": "execute_result"
    }
   ],
   "source": [
    "CHY._merge.value_counts()"
   ]
  },
  {
   "cell_type": "code",
   "execution_count": 22,
   "id": "0d3e0198",
   "metadata": {},
   "outputs": [
    {
     "data": {
      "text/html": [
       "<div>\n",
       "<style scoped>\n",
       "    .dataframe tbody tr th:only-of-type {\n",
       "        vertical-align: middle;\n",
       "    }\n",
       "\n",
       "    .dataframe tbody tr th {\n",
       "        vertical-align: top;\n",
       "    }\n",
       "\n",
       "    .dataframe thead th {\n",
       "        text-align: right;\n",
       "    }\n",
       "</style>\n",
       "<table border=\"1\" class=\"dataframe\">\n",
       "  <thead>\n",
       "    <tr style=\"text-align: right;\">\n",
       "      <th></th>\n",
       "      <th>FECHA</th>\n",
       "      <th>COTA_EMBALSE</th>\n",
       "      <th>COTA_RESTITUCION</th>\n",
       "      <th>SALTO</th>\n",
       "      <th>QAFLR</th>\n",
       "      <th>_merge</th>\n",
       "    </tr>\n",
       "  </thead>\n",
       "  <tbody>\n",
       "    <tr>\n",
       "      <th>0</th>\n",
       "      <td>2010-01-01</td>\n",
       "      <td>NaN</td>\n",
       "      <td>NaN</td>\n",
       "      <td>NaN</td>\n",
       "      <td>NaN</td>\n",
       "      <td>left_only</td>\n",
       "    </tr>\n",
       "    <tr>\n",
       "      <th>1</th>\n",
       "      <td>2010-01-02</td>\n",
       "      <td>NaN</td>\n",
       "      <td>NaN</td>\n",
       "      <td>NaN</td>\n",
       "      <td>NaN</td>\n",
       "      <td>left_only</td>\n",
       "    </tr>\n",
       "    <tr>\n",
       "      <th>2</th>\n",
       "      <td>2010-01-03</td>\n",
       "      <td>NaN</td>\n",
       "      <td>NaN</td>\n",
       "      <td>NaN</td>\n",
       "      <td>NaN</td>\n",
       "      <td>left_only</td>\n",
       "    </tr>\n",
       "    <tr>\n",
       "      <th>3</th>\n",
       "      <td>2010-01-04</td>\n",
       "      <td>NaN</td>\n",
       "      <td>NaN</td>\n",
       "      <td>NaN</td>\n",
       "      <td>NaN</td>\n",
       "      <td>left_only</td>\n",
       "    </tr>\n",
       "    <tr>\n",
       "      <th>4</th>\n",
       "      <td>2010-01-05</td>\n",
       "      <td>NaN</td>\n",
       "      <td>NaN</td>\n",
       "      <td>NaN</td>\n",
       "      <td>NaN</td>\n",
       "      <td>left_only</td>\n",
       "    </tr>\n",
       "    <tr>\n",
       "      <th>...</th>\n",
       "      <td>...</td>\n",
       "      <td>...</td>\n",
       "      <td>...</td>\n",
       "      <td>...</td>\n",
       "      <td>...</td>\n",
       "      <td>...</td>\n",
       "    </tr>\n",
       "    <tr>\n",
       "      <th>4378</th>\n",
       "      <td>2021-12-27</td>\n",
       "      <td>NaN</td>\n",
       "      <td>NaN</td>\n",
       "      <td>NaN</td>\n",
       "      <td>NaN</td>\n",
       "      <td>left_only</td>\n",
       "    </tr>\n",
       "    <tr>\n",
       "      <th>4379</th>\n",
       "      <td>2021-12-28</td>\n",
       "      <td>NaN</td>\n",
       "      <td>NaN</td>\n",
       "      <td>NaN</td>\n",
       "      <td>NaN</td>\n",
       "      <td>left_only</td>\n",
       "    </tr>\n",
       "    <tr>\n",
       "      <th>4380</th>\n",
       "      <td>2021-12-29</td>\n",
       "      <td>NaN</td>\n",
       "      <td>NaN</td>\n",
       "      <td>NaN</td>\n",
       "      <td>NaN</td>\n",
       "      <td>left_only</td>\n",
       "    </tr>\n",
       "    <tr>\n",
       "      <th>4381</th>\n",
       "      <td>2021-12-30</td>\n",
       "      <td>NaN</td>\n",
       "      <td>NaN</td>\n",
       "      <td>NaN</td>\n",
       "      <td>NaN</td>\n",
       "      <td>left_only</td>\n",
       "    </tr>\n",
       "    <tr>\n",
       "      <th>4382</th>\n",
       "      <td>2021-12-31</td>\n",
       "      <td>NaN</td>\n",
       "      <td>NaN</td>\n",
       "      <td>NaN</td>\n",
       "      <td>NaN</td>\n",
       "      <td>left_only</td>\n",
       "    </tr>\n",
       "  </tbody>\n",
       "</table>\n",
       "<p>4383 rows × 6 columns</p>\n",
       "</div>"
      ],
      "text/plain": [
       "          FECHA  COTA_EMBALSE  COTA_RESTITUCION  SALTO  QAFLR     _merge\n",
       "0    2010-01-01           NaN               NaN    NaN    NaN  left_only\n",
       "1    2010-01-02           NaN               NaN    NaN    NaN  left_only\n",
       "2    2010-01-03           NaN               NaN    NaN    NaN  left_only\n",
       "3    2010-01-04           NaN               NaN    NaN    NaN  left_only\n",
       "4    2010-01-05           NaN               NaN    NaN    NaN  left_only\n",
       "...         ...           ...               ...    ...    ...        ...\n",
       "4378 2021-12-27           NaN               NaN    NaN    NaN  left_only\n",
       "4379 2021-12-28           NaN               NaN    NaN    NaN  left_only\n",
       "4380 2021-12-29           NaN               NaN    NaN    NaN  left_only\n",
       "4381 2021-12-30           NaN               NaN    NaN    NaN  left_only\n",
       "4382 2021-12-31           NaN               NaN    NaN    NaN  left_only\n",
       "\n",
       "[4383 rows x 6 columns]"
      ]
     },
     "execution_count": 22,
     "metadata": {},
     "output_type": "execute_result"
    }
   ],
   "source": [
    "CHY"
   ]
  },
  {
   "cell_type": "code",
   "execution_count": 23,
   "id": "aebb8932",
   "metadata": {},
   "outputs": [],
   "source": [
    "# Elimino las columna _merge\n",
    "CHY.drop(columns=['_merge'], inplace=True)"
   ]
  },
  {
   "cell_type": "code",
   "execution_count": 24,
   "id": "33b0abe1",
   "metadata": {},
   "outputs": [
    {
     "data": {
      "text/html": [
       "<div>\n",
       "<style scoped>\n",
       "    .dataframe tbody tr th:only-of-type {\n",
       "        vertical-align: middle;\n",
       "    }\n",
       "\n",
       "    .dataframe tbody tr th {\n",
       "        vertical-align: top;\n",
       "    }\n",
       "\n",
       "    .dataframe thead th {\n",
       "        text-align: right;\n",
       "    }\n",
       "</style>\n",
       "<table border=\"1\" class=\"dataframe\">\n",
       "  <thead>\n",
       "    <tr style=\"text-align: right;\">\n",
       "      <th></th>\n",
       "      <th>FECHA</th>\n",
       "      <th>COTA_EMBALSE</th>\n",
       "      <th>COTA_RESTITUCION</th>\n",
       "      <th>SALTO</th>\n",
       "      <th>QAFLR</th>\n",
       "    </tr>\n",
       "  </thead>\n",
       "  <tbody>\n",
       "    <tr>\n",
       "      <th>0</th>\n",
       "      <td>2010-01-01</td>\n",
       "      <td>NaN</td>\n",
       "      <td>NaN</td>\n",
       "      <td>NaN</td>\n",
       "      <td>NaN</td>\n",
       "    </tr>\n",
       "    <tr>\n",
       "      <th>1</th>\n",
       "      <td>2010-01-02</td>\n",
       "      <td>NaN</td>\n",
       "      <td>NaN</td>\n",
       "      <td>NaN</td>\n",
       "      <td>NaN</td>\n",
       "    </tr>\n",
       "    <tr>\n",
       "      <th>2</th>\n",
       "      <td>2010-01-03</td>\n",
       "      <td>NaN</td>\n",
       "      <td>NaN</td>\n",
       "      <td>NaN</td>\n",
       "      <td>NaN</td>\n",
       "    </tr>\n",
       "    <tr>\n",
       "      <th>3</th>\n",
       "      <td>2010-01-04</td>\n",
       "      <td>NaN</td>\n",
       "      <td>NaN</td>\n",
       "      <td>NaN</td>\n",
       "      <td>NaN</td>\n",
       "    </tr>\n",
       "    <tr>\n",
       "      <th>4</th>\n",
       "      <td>2010-01-05</td>\n",
       "      <td>NaN</td>\n",
       "      <td>NaN</td>\n",
       "      <td>NaN</td>\n",
       "      <td>NaN</td>\n",
       "    </tr>\n",
       "    <tr>\n",
       "      <th>...</th>\n",
       "      <td>...</td>\n",
       "      <td>...</td>\n",
       "      <td>...</td>\n",
       "      <td>...</td>\n",
       "      <td>...</td>\n",
       "    </tr>\n",
       "    <tr>\n",
       "      <th>4378</th>\n",
       "      <td>2021-12-27</td>\n",
       "      <td>NaN</td>\n",
       "      <td>NaN</td>\n",
       "      <td>NaN</td>\n",
       "      <td>NaN</td>\n",
       "    </tr>\n",
       "    <tr>\n",
       "      <th>4379</th>\n",
       "      <td>2021-12-28</td>\n",
       "      <td>NaN</td>\n",
       "      <td>NaN</td>\n",
       "      <td>NaN</td>\n",
       "      <td>NaN</td>\n",
       "    </tr>\n",
       "    <tr>\n",
       "      <th>4380</th>\n",
       "      <td>2021-12-29</td>\n",
       "      <td>NaN</td>\n",
       "      <td>NaN</td>\n",
       "      <td>NaN</td>\n",
       "      <td>NaN</td>\n",
       "    </tr>\n",
       "    <tr>\n",
       "      <th>4381</th>\n",
       "      <td>2021-12-30</td>\n",
       "      <td>NaN</td>\n",
       "      <td>NaN</td>\n",
       "      <td>NaN</td>\n",
       "      <td>NaN</td>\n",
       "    </tr>\n",
       "    <tr>\n",
       "      <th>4382</th>\n",
       "      <td>2021-12-31</td>\n",
       "      <td>NaN</td>\n",
       "      <td>NaN</td>\n",
       "      <td>NaN</td>\n",
       "      <td>NaN</td>\n",
       "    </tr>\n",
       "  </tbody>\n",
       "</table>\n",
       "<p>4383 rows × 5 columns</p>\n",
       "</div>"
      ],
      "text/plain": [
       "          FECHA  COTA_EMBALSE  COTA_RESTITUCION  SALTO  QAFLR\n",
       "0    2010-01-01           NaN               NaN    NaN    NaN\n",
       "1    2010-01-02           NaN               NaN    NaN    NaN\n",
       "2    2010-01-03           NaN               NaN    NaN    NaN\n",
       "3    2010-01-04           NaN               NaN    NaN    NaN\n",
       "4    2010-01-05           NaN               NaN    NaN    NaN\n",
       "...         ...           ...               ...    ...    ...\n",
       "4378 2021-12-27           NaN               NaN    NaN    NaN\n",
       "4379 2021-12-28           NaN               NaN    NaN    NaN\n",
       "4380 2021-12-29           NaN               NaN    NaN    NaN\n",
       "4381 2021-12-30           NaN               NaN    NaN    NaN\n",
       "4382 2021-12-31           NaN               NaN    NaN    NaN\n",
       "\n",
       "[4383 rows x 5 columns]"
      ]
     },
     "execution_count": 24,
     "metadata": {},
     "output_type": "execute_result"
    }
   ],
   "source": [
    "CHY"
   ]
  },
  {
   "cell_type": "code",
   "execution_count": null,
   "id": "0bcf5dc0",
   "metadata": {},
   "outputs": [],
   "source": []
  },
  {
   "cell_type": "markdown",
   "id": "cde9cec5",
   "metadata": {},
   "source": [
    "## Caudales Turbinado y Vertidos"
   ]
  },
  {
   "cell_type": "code",
   "execution_count": 25,
   "id": "53e0fa81",
   "metadata": {},
   "outputs": [],
   "source": [
    "# Especifico el nombre del archivo y el path\n",
    "#path = './datasets/CHY/'\n",
    "\n",
    "file_name = 'Caudal Turbinado y Vertido.xlsx'"
   ]
  },
  {
   "cell_type": "code",
   "execution_count": 26,
   "id": "35584575",
   "metadata": {},
   "outputs": [
    {
     "data": {
      "text/html": [
       "<div>\n",
       "<style scoped>\n",
       "    .dataframe tbody tr th:only-of-type {\n",
       "        vertical-align: middle;\n",
       "    }\n",
       "\n",
       "    .dataframe tbody tr th {\n",
       "        vertical-align: top;\n",
       "    }\n",
       "\n",
       "    .dataframe thead th {\n",
       "        text-align: right;\n",
       "    }\n",
       "</style>\n",
       "<table border=\"1\" class=\"dataframe\">\n",
       "  <thead>\n",
       "    <tr style=\"text-align: right;\">\n",
       "      <th></th>\n",
       "      <th>FECHA</th>\n",
       "      <th>QVBP [m3/s]</th>\n",
       "      <th>QVBAC [m3/s]</th>\n",
       "      <th>QTURB [m3/s]</th>\n",
       "    </tr>\n",
       "  </thead>\n",
       "  <tbody>\n",
       "    <tr>\n",
       "      <th>0</th>\n",
       "      <td>2011-01-01</td>\n",
       "      <td>0</td>\n",
       "      <td>1045</td>\n",
       "      <td>11977</td>\n",
       "    </tr>\n",
       "    <tr>\n",
       "      <th>1</th>\n",
       "      <td>2011-01-02</td>\n",
       "      <td>0</td>\n",
       "      <td>1045</td>\n",
       "      <td>11863</td>\n",
       "    </tr>\n",
       "    <tr>\n",
       "      <th>2</th>\n",
       "      <td>2011-01-03</td>\n",
       "      <td>0</td>\n",
       "      <td>1045</td>\n",
       "      <td>11439</td>\n",
       "    </tr>\n",
       "    <tr>\n",
       "      <th>3</th>\n",
       "      <td>2011-01-04</td>\n",
       "      <td>0</td>\n",
       "      <td>1045</td>\n",
       "      <td>11505</td>\n",
       "    </tr>\n",
       "    <tr>\n",
       "      <th>4</th>\n",
       "      <td>2011-01-05</td>\n",
       "      <td>0</td>\n",
       "      <td>1047</td>\n",
       "      <td>11455</td>\n",
       "    </tr>\n",
       "    <tr>\n",
       "      <th>...</th>\n",
       "      <td>...</td>\n",
       "      <td>...</td>\n",
       "      <td>...</td>\n",
       "      <td>...</td>\n",
       "    </tr>\n",
       "    <tr>\n",
       "      <th>3850</th>\n",
       "      <td>2021-07-17</td>\n",
       "      <td>0</td>\n",
       "      <td>1018</td>\n",
       "      <td>5268</td>\n",
       "    </tr>\n",
       "    <tr>\n",
       "      <th>3851</th>\n",
       "      <td>2021-07-18</td>\n",
       "      <td>0</td>\n",
       "      <td>1019</td>\n",
       "      <td>5501</td>\n",
       "    </tr>\n",
       "    <tr>\n",
       "      <th>3852</th>\n",
       "      <td>2021-07-19</td>\n",
       "      <td>0</td>\n",
       "      <td>1019</td>\n",
       "      <td>5494</td>\n",
       "    </tr>\n",
       "    <tr>\n",
       "      <th>3853</th>\n",
       "      <td>2021-07-20</td>\n",
       "      <td>0</td>\n",
       "      <td>1019</td>\n",
       "      <td>5494</td>\n",
       "    </tr>\n",
       "    <tr>\n",
       "      <th>3854</th>\n",
       "      <td>2021-07-21</td>\n",
       "      <td>0</td>\n",
       "      <td>1019</td>\n",
       "      <td>5296</td>\n",
       "    </tr>\n",
       "  </tbody>\n",
       "</table>\n",
       "<p>3855 rows × 4 columns</p>\n",
       "</div>"
      ],
      "text/plain": [
       "          FECHA  QVBP [m3/s]  QVBAC [m3/s]  QTURB [m3/s]\n",
       "0    2011-01-01            0          1045         11977\n",
       "1    2011-01-02            0          1045         11863\n",
       "2    2011-01-03            0          1045         11439\n",
       "3    2011-01-04            0          1045         11505\n",
       "4    2011-01-05            0          1047         11455\n",
       "...         ...          ...           ...           ...\n",
       "3850 2021-07-17            0          1018          5268\n",
       "3851 2021-07-18            0          1019          5501\n",
       "3852 2021-07-19            0          1019          5494\n",
       "3853 2021-07-20            0          1019          5494\n",
       "3854 2021-07-21            0          1019          5296\n",
       "\n",
       "[3855 rows x 4 columns]"
      ]
     },
     "execution_count": 26,
     "metadata": {},
     "output_type": "execute_result"
    }
   ],
   "source": [
    "# Leo el archivo, descartando filas y columnas en blanco\n",
    "df = pd.read_excel(path + file_name, header=2).dropna(axis='columns', how='all').dropna(axis='rows', how='all')\n",
    "df"
   ]
  },
  {
   "cell_type": "code",
   "execution_count": 27,
   "id": "fd7168b9",
   "metadata": {},
   "outputs": [
    {
     "name": "stdout",
     "output_type": "stream",
     "text": [
      "<class 'pandas.core.frame.DataFrame'>\n",
      "Int64Index: 3855 entries, 0 to 3854\n",
      "Data columns (total 4 columns):\n",
      " #   Column        Non-Null Count  Dtype         \n",
      "---  ------        --------------  -----         \n",
      " 0   FECHA         3855 non-null   datetime64[ns]\n",
      " 1   QVBP [m3/s]   3855 non-null   int64         \n",
      " 2   QVBAC [m3/s]  3855 non-null   int64         \n",
      " 3   QTURB [m3/s]  3855 non-null   int64         \n",
      "dtypes: datetime64[ns](1), int64(3)\n",
      "memory usage: 150.6 KB\n"
     ]
    }
   ],
   "source": [
    "# Veo información básica\n",
    "df.info()"
   ]
  },
  {
   "cell_type": "code",
   "execution_count": 28,
   "id": "15128aa9",
   "metadata": {},
   "outputs": [
    {
     "data": {
      "text/plain": [
       "False    3855\n",
       "dtype: int64"
      ]
     },
     "execution_count": 28,
     "metadata": {},
     "output_type": "execute_result"
    }
   ],
   "source": [
    "# Verifico duplicados\n",
    "df.duplicated(subset='FECHA').value_counts()"
   ]
  },
  {
   "cell_type": "code",
   "execution_count": 29,
   "id": "b3cf8ced",
   "metadata": {},
   "outputs": [
    {
     "data": {
      "text/plain": [
       "FECHA           0\n",
       "QVBP [m3/s]     0\n",
       "QVBAC [m3/s]    0\n",
       "QTURB [m3/s]    0\n",
       "dtype: int64"
      ]
     },
     "execution_count": 29,
     "metadata": {},
     "output_type": "execute_result"
    }
   ],
   "source": [
    "# Verifico si hay nulos\n",
    "df.isnull().sum()"
   ]
  },
  {
   "cell_type": "code",
   "execution_count": 30,
   "id": "e9d4fe83",
   "metadata": {},
   "outputs": [],
   "source": [
    "# Ajusto el nombre de la columna de caudal afluente\n",
    "df.rename(columns={'QVBP [m3/s]':'QVBP', 'QVBAC [m3/s]':'QVBAC', 'QTURB [m3/s]':'QTURB' }, inplace = True)"
   ]
  },
  {
   "cell_type": "code",
   "execution_count": 31,
   "id": "5b491c45",
   "metadata": {},
   "outputs": [
    {
     "name": "stdout",
     "output_type": "stream",
     "text": [
      "<class 'pandas.core.frame.DataFrame'>\n",
      "Int64Index: 3855 entries, 0 to 3854\n",
      "Data columns (total 4 columns):\n",
      " #   Column  Non-Null Count  Dtype         \n",
      "---  ------  --------------  -----         \n",
      " 0   FECHA   3855 non-null   datetime64[ns]\n",
      " 1   QVBP    3855 non-null   int64         \n",
      " 2   QVBAC   3855 non-null   int64         \n",
      " 3   QTURB   3855 non-null   int64         \n",
      "dtypes: datetime64[ns](1), int64(3)\n",
      "memory usage: 150.6 KB\n"
     ]
    }
   ],
   "source": [
    "df.info()"
   ]
  },
  {
   "cell_type": "code",
   "execution_count": 32,
   "id": "7e1a3635",
   "metadata": {},
   "outputs": [],
   "source": [
    "CHY = CHY.merge(df, how='left', on='FECHA', validate='one_to_one', indicator=True)"
   ]
  },
  {
   "cell_type": "code",
   "execution_count": 33,
   "id": "33c1359f",
   "metadata": {},
   "outputs": [
    {
     "data": {
      "text/plain": [
       "both          3855\n",
       "left_only      528\n",
       "right_only       0\n",
       "Name: _merge, dtype: int64"
      ]
     },
     "execution_count": 33,
     "metadata": {},
     "output_type": "execute_result"
    }
   ],
   "source": [
    "CHY._merge.value_counts()"
   ]
  },
  {
   "cell_type": "code",
   "execution_count": 34,
   "id": "d355fcae",
   "metadata": {},
   "outputs": [],
   "source": [
    "# Elimino las columna _merge\n",
    "CHY.drop(columns=['_merge'], inplace=True)"
   ]
  },
  {
   "cell_type": "code",
   "execution_count": 35,
   "id": "55347063",
   "metadata": {},
   "outputs": [
    {
     "data": {
      "text/html": [
       "<div>\n",
       "<style scoped>\n",
       "    .dataframe tbody tr th:only-of-type {\n",
       "        vertical-align: middle;\n",
       "    }\n",
       "\n",
       "    .dataframe tbody tr th {\n",
       "        vertical-align: top;\n",
       "    }\n",
       "\n",
       "    .dataframe thead th {\n",
       "        text-align: right;\n",
       "    }\n",
       "</style>\n",
       "<table border=\"1\" class=\"dataframe\">\n",
       "  <thead>\n",
       "    <tr style=\"text-align: right;\">\n",
       "      <th></th>\n",
       "      <th>FECHA</th>\n",
       "      <th>COTA_EMBALSE</th>\n",
       "      <th>COTA_RESTITUCION</th>\n",
       "      <th>SALTO</th>\n",
       "      <th>QAFLR</th>\n",
       "      <th>QVBP</th>\n",
       "      <th>QVBAC</th>\n",
       "      <th>QTURB</th>\n",
       "    </tr>\n",
       "  </thead>\n",
       "  <tbody>\n",
       "    <tr>\n",
       "      <th>0</th>\n",
       "      <td>2010-01-01</td>\n",
       "      <td>NaN</td>\n",
       "      <td>NaN</td>\n",
       "      <td>NaN</td>\n",
       "      <td>NaN</td>\n",
       "      <td>NaN</td>\n",
       "      <td>NaN</td>\n",
       "      <td>NaN</td>\n",
       "    </tr>\n",
       "    <tr>\n",
       "      <th>1</th>\n",
       "      <td>2010-01-02</td>\n",
       "      <td>NaN</td>\n",
       "      <td>NaN</td>\n",
       "      <td>NaN</td>\n",
       "      <td>NaN</td>\n",
       "      <td>NaN</td>\n",
       "      <td>NaN</td>\n",
       "      <td>NaN</td>\n",
       "    </tr>\n",
       "    <tr>\n",
       "      <th>2</th>\n",
       "      <td>2010-01-03</td>\n",
       "      <td>NaN</td>\n",
       "      <td>NaN</td>\n",
       "      <td>NaN</td>\n",
       "      <td>NaN</td>\n",
       "      <td>NaN</td>\n",
       "      <td>NaN</td>\n",
       "      <td>NaN</td>\n",
       "    </tr>\n",
       "    <tr>\n",
       "      <th>3</th>\n",
       "      <td>2010-01-04</td>\n",
       "      <td>NaN</td>\n",
       "      <td>NaN</td>\n",
       "      <td>NaN</td>\n",
       "      <td>NaN</td>\n",
       "      <td>NaN</td>\n",
       "      <td>NaN</td>\n",
       "      <td>NaN</td>\n",
       "    </tr>\n",
       "    <tr>\n",
       "      <th>4</th>\n",
       "      <td>2010-01-05</td>\n",
       "      <td>NaN</td>\n",
       "      <td>NaN</td>\n",
       "      <td>NaN</td>\n",
       "      <td>NaN</td>\n",
       "      <td>NaN</td>\n",
       "      <td>NaN</td>\n",
       "      <td>NaN</td>\n",
       "    </tr>\n",
       "    <tr>\n",
       "      <th>...</th>\n",
       "      <td>...</td>\n",
       "      <td>...</td>\n",
       "      <td>...</td>\n",
       "      <td>...</td>\n",
       "      <td>...</td>\n",
       "      <td>...</td>\n",
       "      <td>...</td>\n",
       "      <td>...</td>\n",
       "    </tr>\n",
       "    <tr>\n",
       "      <th>4378</th>\n",
       "      <td>2021-12-27</td>\n",
       "      <td>NaN</td>\n",
       "      <td>NaN</td>\n",
       "      <td>NaN</td>\n",
       "      <td>NaN</td>\n",
       "      <td>NaN</td>\n",
       "      <td>NaN</td>\n",
       "      <td>NaN</td>\n",
       "    </tr>\n",
       "    <tr>\n",
       "      <th>4379</th>\n",
       "      <td>2021-12-28</td>\n",
       "      <td>NaN</td>\n",
       "      <td>NaN</td>\n",
       "      <td>NaN</td>\n",
       "      <td>NaN</td>\n",
       "      <td>NaN</td>\n",
       "      <td>NaN</td>\n",
       "      <td>NaN</td>\n",
       "    </tr>\n",
       "    <tr>\n",
       "      <th>4380</th>\n",
       "      <td>2021-12-29</td>\n",
       "      <td>NaN</td>\n",
       "      <td>NaN</td>\n",
       "      <td>NaN</td>\n",
       "      <td>NaN</td>\n",
       "      <td>NaN</td>\n",
       "      <td>NaN</td>\n",
       "      <td>NaN</td>\n",
       "    </tr>\n",
       "    <tr>\n",
       "      <th>4381</th>\n",
       "      <td>2021-12-30</td>\n",
       "      <td>NaN</td>\n",
       "      <td>NaN</td>\n",
       "      <td>NaN</td>\n",
       "      <td>NaN</td>\n",
       "      <td>NaN</td>\n",
       "      <td>NaN</td>\n",
       "      <td>NaN</td>\n",
       "    </tr>\n",
       "    <tr>\n",
       "      <th>4382</th>\n",
       "      <td>2021-12-31</td>\n",
       "      <td>NaN</td>\n",
       "      <td>NaN</td>\n",
       "      <td>NaN</td>\n",
       "      <td>NaN</td>\n",
       "      <td>NaN</td>\n",
       "      <td>NaN</td>\n",
       "      <td>NaN</td>\n",
       "    </tr>\n",
       "  </tbody>\n",
       "</table>\n",
       "<p>4383 rows × 8 columns</p>\n",
       "</div>"
      ],
      "text/plain": [
       "          FECHA  COTA_EMBALSE  COTA_RESTITUCION  SALTO  QAFLR  QVBP  QVBAC  \\\n",
       "0    2010-01-01           NaN               NaN    NaN    NaN   NaN    NaN   \n",
       "1    2010-01-02           NaN               NaN    NaN    NaN   NaN    NaN   \n",
       "2    2010-01-03           NaN               NaN    NaN    NaN   NaN    NaN   \n",
       "3    2010-01-04           NaN               NaN    NaN    NaN   NaN    NaN   \n",
       "4    2010-01-05           NaN               NaN    NaN    NaN   NaN    NaN   \n",
       "...         ...           ...               ...    ...    ...   ...    ...   \n",
       "4378 2021-12-27           NaN               NaN    NaN    NaN   NaN    NaN   \n",
       "4379 2021-12-28           NaN               NaN    NaN    NaN   NaN    NaN   \n",
       "4380 2021-12-29           NaN               NaN    NaN    NaN   NaN    NaN   \n",
       "4381 2021-12-30           NaN               NaN    NaN    NaN   NaN    NaN   \n",
       "4382 2021-12-31           NaN               NaN    NaN    NaN   NaN    NaN   \n",
       "\n",
       "      QTURB  \n",
       "0       NaN  \n",
       "1       NaN  \n",
       "2       NaN  \n",
       "3       NaN  \n",
       "4       NaN  \n",
       "...     ...  \n",
       "4378    NaN  \n",
       "4379    NaN  \n",
       "4380    NaN  \n",
       "4381    NaN  \n",
       "4382    NaN  \n",
       "\n",
       "[4383 rows x 8 columns]"
      ]
     },
     "execution_count": 35,
     "metadata": {},
     "output_type": "execute_result"
    }
   ],
   "source": [
    "CHY"
   ]
  },
  {
   "cell_type": "code",
   "execution_count": 36,
   "id": "5f39e87a",
   "metadata": {},
   "outputs": [
    {
     "data": {
      "text/plain": [
       "FECHA                 0\n",
       "COTA_EMBALSE        528\n",
       "COTA_RESTITUCION    528\n",
       "SALTO               528\n",
       "QAFLR               528\n",
       "QVBP                528\n",
       "QVBAC               528\n",
       "QTURB               528\n",
       "dtype: int64"
      ]
     },
     "execution_count": 36,
     "metadata": {},
     "output_type": "execute_result"
    }
   ],
   "source": [
    "# Verifico si hay nulos\n",
    "CHY.isnull().sum()"
   ]
  },
  {
   "cell_type": "code",
   "execution_count": 37,
   "id": "bbb1b9de",
   "metadata": {},
   "outputs": [],
   "source": [
    "# Elimino esas filas con nulos\n",
    "CHY.dropna(subset=['COTA_EMBALSE', 'COTA_RESTITUCION', 'QAFLR', 'QVBP', 'QVBAC', 'QTURB'], inplace=True)"
   ]
  },
  {
   "cell_type": "code",
   "execution_count": 38,
   "id": "e0a35486",
   "metadata": {},
   "outputs": [
    {
     "data": {
      "text/plain": [
       "FECHA               0\n",
       "COTA_EMBALSE        0\n",
       "COTA_RESTITUCION    0\n",
       "SALTO               0\n",
       "QAFLR               0\n",
       "QVBP                0\n",
       "QVBAC               0\n",
       "QTURB               0\n",
       "dtype: int64"
      ]
     },
     "execution_count": 38,
     "metadata": {},
     "output_type": "execute_result"
    }
   ],
   "source": [
    "# Verifico si hay nulos\n",
    "CHY.isnull().sum()"
   ]
  },
  {
   "cell_type": "code",
   "execution_count": 39,
   "id": "486d5c31",
   "metadata": {},
   "outputs": [
    {
     "data": {
      "text/html": [
       "<div>\n",
       "<style scoped>\n",
       "    .dataframe tbody tr th:only-of-type {\n",
       "        vertical-align: middle;\n",
       "    }\n",
       "\n",
       "    .dataframe tbody tr th {\n",
       "        vertical-align: top;\n",
       "    }\n",
       "\n",
       "    .dataframe thead th {\n",
       "        text-align: right;\n",
       "    }\n",
       "</style>\n",
       "<table border=\"1\" class=\"dataframe\">\n",
       "  <thead>\n",
       "    <tr style=\"text-align: right;\">\n",
       "      <th></th>\n",
       "      <th>FECHA</th>\n",
       "      <th>COTA_EMBALSE</th>\n",
       "      <th>COTA_RESTITUCION</th>\n",
       "      <th>SALTO</th>\n",
       "      <th>QAFLR</th>\n",
       "      <th>QVBP</th>\n",
       "      <th>QVBAC</th>\n",
       "      <th>QTURB</th>\n",
       "    </tr>\n",
       "  </thead>\n",
       "  <tbody>\n",
       "    <tr>\n",
       "      <th>365</th>\n",
       "      <td>2011-01-01</td>\n",
       "      <td>82.04</td>\n",
       "      <td>60.17</td>\n",
       "      <td>21.87</td>\n",
       "      <td>13936.0</td>\n",
       "      <td>0.0</td>\n",
       "      <td>1045.0</td>\n",
       "      <td>11977.0</td>\n",
       "    </tr>\n",
       "    <tr>\n",
       "      <th>366</th>\n",
       "      <td>2011-01-02</td>\n",
       "      <td>82.06</td>\n",
       "      <td>60.17</td>\n",
       "      <td>21.89</td>\n",
       "      <td>13267.0</td>\n",
       "      <td>0.0</td>\n",
       "      <td>1045.0</td>\n",
       "      <td>11863.0</td>\n",
       "    </tr>\n",
       "    <tr>\n",
       "      <th>367</th>\n",
       "      <td>2011-01-03</td>\n",
       "      <td>82.07</td>\n",
       "      <td>60.12</td>\n",
       "      <td>21.95</td>\n",
       "      <td>12670.0</td>\n",
       "      <td>0.0</td>\n",
       "      <td>1045.0</td>\n",
       "      <td>11439.0</td>\n",
       "    </tr>\n",
       "    <tr>\n",
       "      <th>368</th>\n",
       "      <td>2011-01-04</td>\n",
       "      <td>82.08</td>\n",
       "      <td>60.12</td>\n",
       "      <td>21.96</td>\n",
       "      <td>12909.0</td>\n",
       "      <td>0.0</td>\n",
       "      <td>1045.0</td>\n",
       "      <td>11505.0</td>\n",
       "    </tr>\n",
       "    <tr>\n",
       "      <th>369</th>\n",
       "      <td>2011-01-05</td>\n",
       "      <td>82.13</td>\n",
       "      <td>60.08</td>\n",
       "      <td>22.05</td>\n",
       "      <td>13787.0</td>\n",
       "      <td>0.0</td>\n",
       "      <td>1047.0</td>\n",
       "      <td>11455.0</td>\n",
       "    </tr>\n",
       "    <tr>\n",
       "      <th>...</th>\n",
       "      <td>...</td>\n",
       "      <td>...</td>\n",
       "      <td>...</td>\n",
       "      <td>...</td>\n",
       "      <td>...</td>\n",
       "      <td>...</td>\n",
       "      <td>...</td>\n",
       "      <td>...</td>\n",
       "    </tr>\n",
       "    <tr>\n",
       "      <th>4215</th>\n",
       "      <td>2021-07-17</td>\n",
       "      <td>82.86</td>\n",
       "      <td>58.96</td>\n",
       "      <td>23.90</td>\n",
       "      <td>6657.0</td>\n",
       "      <td>0.0</td>\n",
       "      <td>1018.0</td>\n",
       "      <td>5268.0</td>\n",
       "    </tr>\n",
       "    <tr>\n",
       "      <th>4216</th>\n",
       "      <td>2021-07-18</td>\n",
       "      <td>82.86</td>\n",
       "      <td>59.01</td>\n",
       "      <td>23.85</td>\n",
       "      <td>6520.0</td>\n",
       "      <td>0.0</td>\n",
       "      <td>1019.0</td>\n",
       "      <td>5501.0</td>\n",
       "    </tr>\n",
       "    <tr>\n",
       "      <th>4217</th>\n",
       "      <td>2021-07-19</td>\n",
       "      <td>82.88</td>\n",
       "      <td>59.01</td>\n",
       "      <td>23.87</td>\n",
       "      <td>6513.0</td>\n",
       "      <td>0.0</td>\n",
       "      <td>1019.0</td>\n",
       "      <td>5494.0</td>\n",
       "    </tr>\n",
       "    <tr>\n",
       "      <th>4218</th>\n",
       "      <td>2021-07-20</td>\n",
       "      <td>82.88</td>\n",
       "      <td>59.01</td>\n",
       "      <td>23.87</td>\n",
       "      <td>5962.0</td>\n",
       "      <td>0.0</td>\n",
       "      <td>1019.0</td>\n",
       "      <td>5494.0</td>\n",
       "    </tr>\n",
       "    <tr>\n",
       "      <th>4219</th>\n",
       "      <td>2021-07-21</td>\n",
       "      <td>82.86</td>\n",
       "      <td>58.97</td>\n",
       "      <td>23.89</td>\n",
       "      <td>6315.0</td>\n",
       "      <td>0.0</td>\n",
       "      <td>1019.0</td>\n",
       "      <td>5296.0</td>\n",
       "    </tr>\n",
       "  </tbody>\n",
       "</table>\n",
       "<p>3855 rows × 8 columns</p>\n",
       "</div>"
      ],
      "text/plain": [
       "          FECHA  COTA_EMBALSE  COTA_RESTITUCION  SALTO    QAFLR  QVBP   QVBAC  \\\n",
       "365  2011-01-01         82.04             60.17  21.87  13936.0   0.0  1045.0   \n",
       "366  2011-01-02         82.06             60.17  21.89  13267.0   0.0  1045.0   \n",
       "367  2011-01-03         82.07             60.12  21.95  12670.0   0.0  1045.0   \n",
       "368  2011-01-04         82.08             60.12  21.96  12909.0   0.0  1045.0   \n",
       "369  2011-01-05         82.13             60.08  22.05  13787.0   0.0  1047.0   \n",
       "...         ...           ...               ...    ...      ...   ...     ...   \n",
       "4215 2021-07-17         82.86             58.96  23.90   6657.0   0.0  1018.0   \n",
       "4216 2021-07-18         82.86             59.01  23.85   6520.0   0.0  1019.0   \n",
       "4217 2021-07-19         82.88             59.01  23.87   6513.0   0.0  1019.0   \n",
       "4218 2021-07-20         82.88             59.01  23.87   5962.0   0.0  1019.0   \n",
       "4219 2021-07-21         82.86             58.97  23.89   6315.0   0.0  1019.0   \n",
       "\n",
       "        QTURB  \n",
       "365   11977.0  \n",
       "366   11863.0  \n",
       "367   11439.0  \n",
       "368   11505.0  \n",
       "369   11455.0  \n",
       "...       ...  \n",
       "4215   5268.0  \n",
       "4216   5501.0  \n",
       "4217   5494.0  \n",
       "4218   5494.0  \n",
       "4219   5296.0  \n",
       "\n",
       "[3855 rows x 8 columns]"
      ]
     },
     "execution_count": 39,
     "metadata": {},
     "output_type": "execute_result"
    }
   ],
   "source": [
    "CHY"
   ]
  },
  {
   "cell_type": "code",
   "execution_count": 40,
   "id": "48d98a75",
   "metadata": {},
   "outputs": [
    {
     "name": "stdout",
     "output_type": "stream",
     "text": [
      "\n",
      "Rango de fechas dataset (min / max):  2011-01-01 00:00:00  -  2021-07-21 00:00:00\n"
     ]
    }
   ],
   "source": [
    "# Rango de fechas\n",
    "print('\\nRango de fechas dataset (min / max): ', CHY.FECHA.min(), ' - ', CHY.FECHA.max())"
   ]
  },
  {
   "cell_type": "markdown",
   "id": "f7f86b66",
   "metadata": {},
   "source": [
    "## Energía Generada (Argentina y Paraguay)"
   ]
  },
  {
   "cell_type": "code",
   "execution_count": 41,
   "id": "9689d0a1",
   "metadata": {},
   "outputs": [],
   "source": [
    "# Especifico el nombre del archivo y el path\n",
    "#path = './datasets/CHY/'\n",
    "\n",
    "file_name = 'Energía Suministrada.xls'"
   ]
  },
  {
   "cell_type": "code",
   "execution_count": 42,
   "id": "2848b6ce",
   "metadata": {},
   "outputs": [],
   "source": [
    "# Leo el archivo, descartando filas y columnas en blanco\n",
    "df = pd.read_excel(path + file_name, header=1).dropna(axis='columns', how='all').dropna(axis='rows', how='all')\n",
    "\n",
    "# Echo un vistazo al df leido\n",
    "df.to_csv('energia_generada.csv')"
   ]
  },
  {
   "cell_type": "code",
   "execution_count": 43,
   "id": "eb3f6abd",
   "metadata": {},
   "outputs": [
    {
     "data": {
      "text/plain": [
       "Index(['Fecha (Diario)', 'Energía SADI (Argentina) [MWh]',\n",
       "       'Energía SINP (Paraguay) [MWh]', 'Fecha (Diario).1',\n",
       "       'Energía SADI (Argentina) [MWh].1', 'Energía SINP (Paraguay) [MWh].1',\n",
       "       'Fecha (Diario).2', 'Energía SADI (Argentina) [MWh].2',\n",
       "       'Energía SINP (Paraguay) [MWh].2', 'Fecha (Diario).3',\n",
       "       'Energía SADI (Argentina) [MWh].3', 'Energía SINP (Paraguay) [MWh].3',\n",
       "       'Fecha (Diario).4', 'Energía SADI (Argentina) [MWh].4',\n",
       "       'Energía SINP (Paraguay) [MWh].4', 'Fecha (Diario).5',\n",
       "       'Energía SADI (Argentina) [MWh].5', 'Energía SINP (Paraguay) [MWh].5',\n",
       "       'Fecha (Diario).6', 'Energía SADI (Argentina) [MWh].6',\n",
       "       'Energía SINP (Paraguay) [MWh].6', 'Fecha (Diario).7',\n",
       "       'Energía SADI (Argentina) [MWh].7', 'Energía SINP (Paraguay) [MWh].7',\n",
       "       'Fecha (Diario).8', 'Energía SADI (Argentina) [MWh].8',\n",
       "       'Energía SINP (Paraguay) [MWh].8', 'Fecha (Diario).9',\n",
       "       'Energía SADI (Argentina) [MWh].9', 'Energía SINP (Paraguay) [MWh].9',\n",
       "       'Fecha (Diario).10', 'Energía SADI (Argentina) [MWh].10',\n",
       "       'Energía SINP (Paraguay) [MWh].10', 'Fecha (Diario).11',\n",
       "       'Energía SADI (Argentina) [MWh].11',\n",
       "       'Energía SINP (Paraguay) [MWh].11'],\n",
       "      dtype='object')"
      ]
     },
     "execution_count": 43,
     "metadata": {},
     "output_type": "execute_result"
    }
   ],
   "source": [
    "# Veo las columnas que contiene\n",
    "df.columns"
   ]
  },
  {
   "cell_type": "code",
   "execution_count": 44,
   "id": "cb3ae9ed",
   "metadata": {},
   "outputs": [
    {
     "data": {
      "text/plain": [
       "['Fecha (Diario)',\n",
       " 'Fecha (Diario).1',\n",
       " 'Fecha (Diario).2',\n",
       " 'Fecha (Diario).3',\n",
       " 'Fecha (Diario).4',\n",
       " 'Fecha (Diario).5',\n",
       " 'Fecha (Diario).6',\n",
       " 'Fecha (Diario).7',\n",
       " 'Fecha (Diario).8',\n",
       " 'Fecha (Diario).9',\n",
       " 'Fecha (Diario).10',\n",
       " 'Fecha (Diario).11']"
      ]
     },
     "execution_count": 44,
     "metadata": {},
     "output_type": "execute_result"
    }
   ],
   "source": [
    "# Veo las columnas que comienzan con 'Fecha'\n",
    "columnas_fecha = [col for col in df.columns if col.startswith('Fecha')]\n",
    "columnas_fecha"
   ]
  },
  {
   "cell_type": "code",
   "execution_count": 45,
   "id": "cca407f5",
   "metadata": {},
   "outputs": [],
   "source": [
    "# Apilo las columnas de fecha y borro las columnas que no necesito\n",
    "energia_df = df[columnas_fecha].stack().reset_index()\n",
    "energia_df.drop(columns=['level_0', 'level_1'], inplace = True)\n",
    "energia_df.rename(columns={0: 'FECHA'}, inplace = True)"
   ]
  },
  {
   "cell_type": "code",
   "execution_count": 46,
   "id": "6291fc7a",
   "metadata": {},
   "outputs": [
    {
     "name": "stdout",
     "output_type": "stream",
     "text": [
      "\n",
      "Rango de fechas, energía generada Argentina y Paraguay:  2011-01-01 00:00:00  -  2021-06-30 00:00:00\n"
     ]
    }
   ],
   "source": [
    "# Rango de fechas\n",
    "print('\\nRango de fechas, energía generada Argentina y Paraguay: ', energia_df.FECHA.min(), ' - ', energia_df.FECHA.max())"
   ]
  },
  {
   "cell_type": "code",
   "execution_count": 47,
   "id": "d7f05d88",
   "metadata": {},
   "outputs": [
    {
     "name": "stdout",
     "output_type": "stream",
     "text": [
      "<class 'pandas.core.frame.DataFrame'>\n",
      "RangeIndex: 3833 entries, 0 to 3832\n",
      "Data columns (total 1 columns):\n",
      " #   Column  Non-Null Count  Dtype         \n",
      "---  ------  --------------  -----         \n",
      " 0   FECHA   3833 non-null   datetime64[ns]\n",
      "dtypes: datetime64[ns](1)\n",
      "memory usage: 30.1 KB\n"
     ]
    }
   ],
   "source": [
    "# Información de la serie\n",
    "energia_df.info()"
   ]
  },
  {
   "cell_type": "code",
   "execution_count": 48,
   "id": "2363b653",
   "metadata": {},
   "outputs": [
    {
     "data": {
      "text/plain": [
       "False    3833\n",
       "dtype: int64"
      ]
     },
     "execution_count": 48,
     "metadata": {},
     "output_type": "execute_result"
    }
   ],
   "source": [
    "# Verifico duplicados\n",
    "energia_df.duplicated(subset='FECHA').value_counts()"
   ]
  },
  {
   "cell_type": "code",
   "execution_count": 49,
   "id": "93401425",
   "metadata": {},
   "outputs": [],
   "source": [
    "# Energía generada lado Paraguay\n",
    "columnas_energia_SINP = [col for col in df.columns if col.startswith('Energía SINP')]\n",
    "#columnas_energia_SINP"
   ]
  },
  {
   "cell_type": "code",
   "execution_count": 50,
   "id": "1d9b1008",
   "metadata": {},
   "outputs": [],
   "source": [
    "# Agrego esta columna al df\n",
    "energia_df['SINP'] = df[columnas_energia_SINP].stack().reset_index()[0]"
   ]
  },
  {
   "cell_type": "code",
   "execution_count": 51,
   "id": "cc6e3458",
   "metadata": {},
   "outputs": [],
   "source": [
    "# Energía generada lado Argentina\n",
    "columnas_energia_SADI = [col for col in df.columns if col.startswith('Energía SADI')]\n",
    "#columnas_energia_SADI"
   ]
  },
  {
   "cell_type": "code",
   "execution_count": 52,
   "id": "d7e449e9",
   "metadata": {},
   "outputs": [],
   "source": [
    "# Agrego esta columna al df\n",
    "energia_df['SADI'] = df[columnas_energia_SADI].stack().reset_index()[0]\n",
    "#energia_df"
   ]
  },
  {
   "cell_type": "code",
   "execution_count": 53,
   "id": "7ab8678e",
   "metadata": {},
   "outputs": [],
   "source": [
    "# Ordeno el df por la columna FECHA\n",
    "energia_df.sort_values('FECHA', inplace=True)"
   ]
  },
  {
   "cell_type": "code",
   "execution_count": 54,
   "id": "1dd80a10",
   "metadata": {},
   "outputs": [
    {
     "name": "stdout",
     "output_type": "stream",
     "text": [
      "<class 'pandas.core.frame.DataFrame'>\n",
      "Int64Index: 3833 entries, 0 to 3829\n",
      "Data columns (total 3 columns):\n",
      " #   Column  Non-Null Count  Dtype         \n",
      "---  ------  --------------  -----         \n",
      " 0   FECHA   3833 non-null   datetime64[ns]\n",
      " 1   SINP    3833 non-null   float64       \n",
      " 2   SADI    3833 non-null   float64       \n",
      "dtypes: datetime64[ns](1), float64(2)\n",
      "memory usage: 119.8 KB\n"
     ]
    }
   ],
   "source": [
    "energia_df.info()"
   ]
  },
  {
   "cell_type": "code",
   "execution_count": 55,
   "id": "ae400a5a",
   "metadata": {},
   "outputs": [],
   "source": [
    "#Agrego los datos de la energía generada al dataset general\n",
    "CHY = CHY.merge(energia_df, how='left', on='FECHA', validate='one_to_one', indicator=True)"
   ]
  },
  {
   "cell_type": "code",
   "execution_count": 56,
   "id": "e78660c6",
   "metadata": {},
   "outputs": [],
   "source": [
    "# Borro las filas en las cuales las energías son ambas nullas\n",
    "CHY.dropna(subset=['SINP', 'SADI'], inplace=True)"
   ]
  },
  {
   "cell_type": "code",
   "execution_count": 57,
   "id": "788f55a0",
   "metadata": {},
   "outputs": [],
   "source": [
    "# Borro la columna de informacikón _null\n",
    "CHY.drop(columns=['_merge'], inplace=True)"
   ]
  },
  {
   "cell_type": "code",
   "execution_count": 58,
   "id": "3425c9a9",
   "metadata": {},
   "outputs": [
    {
     "data": {
      "text/plain": [
       "FECHA               0\n",
       "COTA_EMBALSE        0\n",
       "COTA_RESTITUCION    0\n",
       "SALTO               0\n",
       "QAFLR               0\n",
       "QVBP                0\n",
       "QVBAC               0\n",
       "QTURB               0\n",
       "SINP                0\n",
       "SADI                0\n",
       "dtype: int64"
      ]
     },
     "execution_count": 58,
     "metadata": {},
     "output_type": "execute_result"
    }
   ],
   "source": [
    "# Verifico si quedaron nulos\n",
    "CHY.isnull().sum()"
   ]
  },
  {
   "cell_type": "code",
   "execution_count": 59,
   "id": "5d2e02b0",
   "metadata": {},
   "outputs": [
    {
     "name": "stdout",
     "output_type": "stream",
     "text": [
      "\n",
      "Rango de fechas general:  2011-01-01 00:00:00  -  2021-06-30 00:00:00\n"
     ]
    }
   ],
   "source": [
    "# Rango de fechas\n",
    "print('\\nRango de fechas general: ', CHY.FECHA.min(), ' - ', CHY.FECHA.max())"
   ]
  },
  {
   "cell_type": "code",
   "execution_count": 61,
   "id": "6bcc3b17",
   "metadata": {},
   "outputs": [],
   "source": [
    "# Grabo el dataset a un csv\n",
    "CHY.to_csv(path + '\\output\\' + 'CHY_dataset.csv', index=False)"
   ]
  },
  {
   "cell_type": "markdown",
   "id": "df9d5205",
   "metadata": {},
   "source": [
    "# ¡Fin del Notebook!"
   ]
  }
 ],
 "metadata": {
  "kernelspec": {
   "display_name": "tesis",
   "language": "python",
   "name": "tesis"
  },
  "language_info": {
   "codemirror_mode": {
    "name": "ipython",
    "version": 3
   },
   "file_extension": ".py",
   "mimetype": "text/x-python",
   "name": "python",
   "nbconvert_exporter": "python",
   "pygments_lexer": "ipython3",
   "version": "3.8.12"
  }
 },
 "nbformat": 4,
 "nbformat_minor": 5
}
